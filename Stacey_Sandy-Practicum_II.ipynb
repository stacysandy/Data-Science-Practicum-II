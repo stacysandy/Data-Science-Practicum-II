{
 "cells": [
  {
   "cell_type": "markdown",
   "metadata": {},
   "source": [
    "# <center>Colorado K-12 Financial Transparency – <br>An Exploratory Data Science Comparison Across Schools</center>\n",
    "\n",
    "### <center>MSDS 696: Data Science Practicum II - Stacey Sandy</center>"
   ]
  },
  {
   "cell_type": "markdown",
   "metadata": {},
   "source": [
    "### <u><b>Overview </b></u>\n",
    "This project is for the fulfillment of my final course in the pursuit of my Master of Science in Data Science degree at Regis University. In this past academic year, my kindergartner son has brought home 5 different fundraisers and a quarterly scholastic book fair flyer. I understand the scholastic book fair awards books to classes that purchase the most books. Unfortunately, I am unclear where the multiple fundraiser funding is going, what the funding is for, and how fundraisers feed into the school. These implications on the school and district fundraiser efforts need further analysis. Especially since school ends in a little over two months, I am curious to learn how expenses are handled. I intend to compare expenses across schools and then across districts. I would like to analyze which schools are spending more than others and why their expenses are more or less than others. I want to learn the cause and effects as to what are the trends on expenditures. Hopefully, I could learn more about why fundraising is important or necessary multiple times a year for any school. "
   ]
  },
  {
   "cell_type": "markdown",
   "metadata": {},
   "source": [
    "### <u><b>Objective</b></u>\n",
    "The objective of this project and the primary research question is to address how financial expenditures are being spent across K through 12 schools in Colorado. An exploratory data science approach will be conducted to answer this research question. Overall, what are the school expenses that impact our children’s educational needs? Could the type of staffing, teacher types, and number of students be an impact? What are the contributing factors of the various expenses? How do schools and districts compare to one another? What variables are impacting the data reported? Could federal and state funding not be enough? "
   ]
  },
  {
   "cell_type": "markdown",
   "metadata": {},
   "source": [
    "### <u><b>Data Source</b></u>\n",
    "* Colorado Department of Education website on Colorado’s K12 Financial Transparency website: https://coloradok12financialtransparency.com/#/\n",
    "* The complete dataset of all Colorado K12 districts and BOCES can also be downloaded at: https://s3.amazonaws.com/bb-pub-pipeline-production/home/circleci/repo/public/uploads/data_files/uploads/000/000/416/20200114030354-colorado-financial-public-data-pipeline-v-1-Run_1-export-source-lep-facts.csv20200114-2678-rqjqmn.csv?1578999834\n",
    "\n",
    "### <u><b>Financial Policies and Procedures Documentation</b></u>\n",
    "* Colorado Department of Education. (2016, July 1). <i>Financial Policies and Procedures Chart of Accounts.</i> Retrieved from https://www.cde.state.co.us/cdefinance/fpp_coa1617"
   ]
  },
  {
   "cell_type": "markdown",
   "metadata": {},
   "source": [
    "### <u><b>Things to take into consideration about the data:</b></u>\n",
    "1. Data collected is for the Fiscal Year 2017-2018\n",
    "    * Fiscal Year - a twelve-month accounting period (July 1 through June 30) to which the annual budget applies.\n",
    "    * In this case, data is from July 1, 2017 through June 30, 2018\n",
    "\n",
    "\n",
    "2. However, the financial data posted follows the standard <i>Financial Policies and Procedures Chart of Accounts</i> for the previous fiscal year 2016-2017.\n",
    "<br>\n",
    "This means the Financial Policies and Procedures Chart of Accounts for Fiscal Year 2017-2018, 2018-2019, and 2019-2020 may not coincide with the given data set provided from the Colorado K12 Financial Transparency website. This can be due to the fact that we are still in the current 2019-2020 Fiscal Year. Although, it is not mentioned or mad clear as to why the 2017-2018 Financial Policies and Procedures Chart of Accounts is not used from the archive. \n",
    "<br>"
   ]
  },
  {
   "cell_type": "markdown",
   "metadata": {},
   "source": [
    "<div class=\"alert alert-block alert-success\">\n",
    "<b>This project will examine codes that will only refer to those codes applicable and found within the <u>2016-2017 Financial Policies and Procedures Chart of Accounts</u> as advised from the <u>Colorado K12 Financial Transparency</u> website FAQ. Should other information deem necessary, further research and examiniation may be conducted.</b>\n",
    "<br>\n",
    "<br>\n",
    "Resources<br>\n",
    "Colorado Department of Education. (2019, June 13). <i>Chart of Accounts: Archive.</i> Copyright © 1999-2020 Colorado Department of Education. Retrieved from http://www.cde.state.co.us/cdefinance/sfcoa_archive\n",
    "<br>\n",
    "<br>\n",
    "The excel document to match the data to the financial codes will be using of the \"Chart_of_Account_1617.xlsx\" document.\n",
    "<br>\n",
    "<br>\n",
    "The above resources can be found within the data folder in my GitHUb Project Repository.\n",
    "</div>"
   ]
  },
  {
   "cell_type": "markdown",
   "metadata": {},
   "source": [
    "#### The following website is available for direct school or district searchs within Colorado:\n",
    "* Colorado K12 Financial Transparency website: https://coloradok12financialtransparency.com/#/"
   ]
  },
  {
   "cell_type": "markdown",
   "metadata": {},
   "source": [
    "### Project Process:\n",
    "1. Conduct exploratory data analysis on complete dataset of all Colorado K12 Financial Transparency data set.<br>\n",
    "2. Investigate unique Ids, values, and row/column data.<br>\n",
    "3. Highlight financial codes of interest that are most used and least used.<br>\n",
    "4. Exclude columns as suggested from the Chart of Accounts and eliminate unnecessary columnes with little value to the purpose of this assignment.\n",
    "5. Conduct pre-liminary  visualizations and refine visualizations as necessary.\n",
    "6. Add additional data from Colorado Department of Education on Financial Policies and Procedures Chart of Accounts.<br>\n",
    "7. <br>\n",
    "8. <br>\n",
    "9. <br>\n",
    "10. <br>\n",
    "<br>\n",
    "In final, compare and contrast findings. Answer research questions. Did you accomplish what your project objective detailed?"
   ]
  },
  {
   "cell_type": "markdown",
   "metadata": {},
   "source": [
    "## <center>Exploratory Data Analysis (EDA) on all Colorado K12 districts and BOCES</center>"
   ]
  },
  {
   "cell_type": "code",
   "execution_count": 1,
   "metadata": {},
   "outputs": [],
   "source": [
    "# Load libraries\n",
    "import pandas as pd\n",
    "from pandas_summary import DataFrameSummary\n",
    "import numpy as np\n",
    "from pandas_profiling import ProfileReport\n",
    "import requests\n",
    "import json"
   ]
  },
  {
   "cell_type": "code",
   "execution_count": 2,
   "metadata": {},
   "outputs": [],
   "source": [
    "# Load the CO K12 dataset into a dataframe.\n",
    "COK12_df = pd.read_csv('Data/colorado-financial-public-data-pipeline-v-1-Run#1-export-source-lep-facts.csv', header=4)"
   ]
  },
  {
   "cell_type": "code",
   "execution_count": 3,
   "metadata": {},
   "outputs": [
    {
     "data": {
      "text/plain": [
       "Index(['district_code', 'admin_unit', 'school_code', 'fund_code',\n",
       "       'location_code', 'sre_code', 'program_code', 'object_source_code',\n",
       "       'job_class_code', 'grant_code', 'amount_cents', 'exclude_school',\n",
       "       'exclude_district'],\n",
       "      dtype='object')"
      ]
     },
     "execution_count": 3,
     "metadata": {},
     "output_type": "execute_result"
    }
   ],
   "source": [
    "# Ensure columns were retrieved\n",
    "COK12_df.columns"
   ]
  },
  {
   "cell_type": "code",
   "execution_count": 4,
   "metadata": {},
   "outputs": [
    {
     "data": {
      "text/html": [
       "<div>\n",
       "<style scoped>\n",
       "    .dataframe tbody tr th:only-of-type {\n",
       "        vertical-align: middle;\n",
       "    }\n",
       "\n",
       "    .dataframe tbody tr th {\n",
       "        vertical-align: top;\n",
       "    }\n",
       "\n",
       "    .dataframe thead th {\n",
       "        text-align: right;\n",
       "    }\n",
       "</style>\n",
       "<table border=\"1\" class=\"dataframe\">\n",
       "  <thead>\n",
       "    <tr style=\"text-align: right;\">\n",
       "      <th></th>\n",
       "      <th>district_code</th>\n",
       "      <th>admin_unit</th>\n",
       "      <th>school_code</th>\n",
       "      <th>fund_code</th>\n",
       "      <th>location_code</th>\n",
       "      <th>sre_code</th>\n",
       "      <th>program_code</th>\n",
       "      <th>object_source_code</th>\n",
       "      <th>job_class_code</th>\n",
       "      <th>grant_code</th>\n",
       "      <th>amount_cents</th>\n",
       "      <th>exclude_school</th>\n",
       "      <th>exclude_district</th>\n",
       "    </tr>\n",
       "  </thead>\n",
       "  <tbody>\n",
       "    <tr>\n",
       "      <th>0</th>\n",
       "      <td>3080</td>\n",
       "      <td>64203</td>\n",
       "      <td>0</td>\n",
       "      <td>10</td>\n",
       "      <td>600</td>\n",
       "      <td>0</td>\n",
       "      <td>20</td>\n",
       "      <td>100</td>\n",
       "      <td>200</td>\n",
       "      <td>0</td>\n",
       "      <td>71250.0</td>\n",
       "      <td>f</td>\n",
       "      <td>f</td>\n",
       "    </tr>\n",
       "    <tr>\n",
       "      <th>1</th>\n",
       "      <td>3080</td>\n",
       "      <td>64203</td>\n",
       "      <td>0</td>\n",
       "      <td>10</td>\n",
       "      <td>600</td>\n",
       "      <td>0</td>\n",
       "      <td>10</td>\n",
       "      <td>100</td>\n",
       "      <td>200</td>\n",
       "      <td>4010</td>\n",
       "      <td>13841274.0</td>\n",
       "      <td>f</td>\n",
       "      <td>f</td>\n",
       "    </tr>\n",
       "    <tr>\n",
       "      <th>2</th>\n",
       "      <td>3080</td>\n",
       "      <td>64203</td>\n",
       "      <td>0</td>\n",
       "      <td>10</td>\n",
       "      <td>700</td>\n",
       "      <td>0</td>\n",
       "      <td>2700</td>\n",
       "      <td>100</td>\n",
       "      <td>100</td>\n",
       "      <td>0</td>\n",
       "      <td>12171639.0</td>\n",
       "      <td>f</td>\n",
       "      <td>f</td>\n",
       "    </tr>\n",
       "    <tr>\n",
       "      <th>3</th>\n",
       "      <td>3080</td>\n",
       "      <td>64203</td>\n",
       "      <td>0</td>\n",
       "      <td>21</td>\n",
       "      <td>700</td>\n",
       "      <td>0</td>\n",
       "      <td>3100</td>\n",
       "      <td>100</td>\n",
       "      <td>100</td>\n",
       "      <td>0</td>\n",
       "      <td>4079700.0</td>\n",
       "      <td>f</td>\n",
       "      <td>f</td>\n",
       "    </tr>\n",
       "    <tr>\n",
       "      <th>4</th>\n",
       "      <td>3080</td>\n",
       "      <td>64203</td>\n",
       "      <td>4854</td>\n",
       "      <td>10</td>\n",
       "      <td>200</td>\n",
       "      <td>0</td>\n",
       "      <td>1700</td>\n",
       "      <td>100</td>\n",
       "      <td>400</td>\n",
       "      <td>3130</td>\n",
       "      <td>8660925.0</td>\n",
       "      <td>f</td>\n",
       "      <td>f</td>\n",
       "    </tr>\n",
       "  </tbody>\n",
       "</table>\n",
       "</div>"
      ],
      "text/plain": [
       "   district_code  admin_unit  school_code  fund_code  location_code  sre_code  \\\n",
       "0           3080       64203            0         10            600         0   \n",
       "1           3080       64203            0         10            600         0   \n",
       "2           3080       64203            0         10            700         0   \n",
       "3           3080       64203            0         21            700         0   \n",
       "4           3080       64203         4854         10            200         0   \n",
       "\n",
       "   program_code  object_source_code  job_class_code  grant_code  amount_cents  \\\n",
       "0            20                 100             200           0       71250.0   \n",
       "1            10                 100             200        4010    13841274.0   \n",
       "2          2700                 100             100           0    12171639.0   \n",
       "3          3100                 100             100           0     4079700.0   \n",
       "4          1700                 100             400        3130     8660925.0   \n",
       "\n",
       "  exclude_school exclude_district  \n",
       "0              f                f  \n",
       "1              f                f  \n",
       "2              f                f  \n",
       "3              f                f  \n",
       "4              f                f  "
      ]
     },
     "execution_count": 4,
     "metadata": {},
     "output_type": "execute_result"
    }
   ],
   "source": [
    "# Look at dataset head\n",
    "COK12_df.head()"
   ]
  },
  {
   "cell_type": "code",
   "execution_count": 5,
   "metadata": {},
   "outputs": [
    {
     "data": {
      "text/html": [
       "<div>\n",
       "<style scoped>\n",
       "    .dataframe tbody tr th:only-of-type {\n",
       "        vertical-align: middle;\n",
       "    }\n",
       "\n",
       "    .dataframe tbody tr th {\n",
       "        vertical-align: top;\n",
       "    }\n",
       "\n",
       "    .dataframe thead th {\n",
       "        text-align: right;\n",
       "    }\n",
       "</style>\n",
       "<table border=\"1\" class=\"dataframe\">\n",
       "  <thead>\n",
       "    <tr style=\"text-align: right;\">\n",
       "      <th></th>\n",
       "      <th>district_code</th>\n",
       "      <th>admin_unit</th>\n",
       "      <th>school_code</th>\n",
       "      <th>fund_code</th>\n",
       "      <th>location_code</th>\n",
       "      <th>sre_code</th>\n",
       "      <th>program_code</th>\n",
       "      <th>object_source_code</th>\n",
       "      <th>job_class_code</th>\n",
       "      <th>grant_code</th>\n",
       "      <th>amount_cents</th>\n",
       "      <th>exclude_school</th>\n",
       "      <th>exclude_district</th>\n",
       "    </tr>\n",
       "  </thead>\n",
       "  <tbody>\n",
       "    <tr>\n",
       "      <th>280681</th>\n",
       "      <td>1180</td>\n",
       "      <td>64233</td>\n",
       "      <td>570</td>\n",
       "      <td>10</td>\n",
       "      <td>300</td>\n",
       "      <td>0</td>\n",
       "      <td>1800</td>\n",
       "      <td>810</td>\n",
       "      <td>0</td>\n",
       "      <td>0</td>\n",
       "      <td>340700.0</td>\n",
       "      <td>f</td>\n",
       "      <td>f</td>\n",
       "    </tr>\n",
       "    <tr>\n",
       "      <th>280682</th>\n",
       "      <td>1180</td>\n",
       "      <td>64233</td>\n",
       "      <td>429</td>\n",
       "      <td>11</td>\n",
       "      <td>951</td>\n",
       "      <td>0</td>\n",
       "      <td>2500</td>\n",
       "      <td>810</td>\n",
       "      <td>0</td>\n",
       "      <td>0</td>\n",
       "      <td>-700.0</td>\n",
       "      <td>f</td>\n",
       "      <td>f</td>\n",
       "    </tr>\n",
       "    <tr>\n",
       "      <th>280683</th>\n",
       "      <td>1180</td>\n",
       "      <td>64233</td>\n",
       "      <td>429</td>\n",
       "      <td>11</td>\n",
       "      <td>951</td>\n",
       "      <td>0</td>\n",
       "      <td>2600</td>\n",
       "      <td>810</td>\n",
       "      <td>0</td>\n",
       "      <td>0</td>\n",
       "      <td>45477.0</td>\n",
       "      <td>f</td>\n",
       "      <td>f</td>\n",
       "    </tr>\n",
       "    <tr>\n",
       "      <th>280684</th>\n",
       "      <td>1180</td>\n",
       "      <td>64233</td>\n",
       "      <td>429</td>\n",
       "      <td>11</td>\n",
       "      <td>951</td>\n",
       "      <td>0</td>\n",
       "      <td>2800</td>\n",
       "      <td>810</td>\n",
       "      <td>0</td>\n",
       "      <td>0</td>\n",
       "      <td>24500.0</td>\n",
       "      <td>f</td>\n",
       "      <td>f</td>\n",
       "    </tr>\n",
       "    <tr>\n",
       "      <th>280685</th>\n",
       "      <td>1180</td>\n",
       "      <td>64233</td>\n",
       "      <td>429</td>\n",
       "      <td>11</td>\n",
       "      <td>951</td>\n",
       "      <td>0</td>\n",
       "      <td>18</td>\n",
       "      <td>810</td>\n",
       "      <td>0</td>\n",
       "      <td>0</td>\n",
       "      <td>2499.0</td>\n",
       "      <td>f</td>\n",
       "      <td>f</td>\n",
       "    </tr>\n",
       "  </tbody>\n",
       "</table>\n",
       "</div>"
      ],
      "text/plain": [
       "        district_code  admin_unit  school_code  fund_code  location_code  \\\n",
       "280681           1180       64233          570         10            300   \n",
       "280682           1180       64233          429         11            951   \n",
       "280683           1180       64233          429         11            951   \n",
       "280684           1180       64233          429         11            951   \n",
       "280685           1180       64233          429         11            951   \n",
       "\n",
       "        sre_code  program_code  object_source_code  job_class_code  \\\n",
       "280681         0          1800                 810               0   \n",
       "280682         0          2500                 810               0   \n",
       "280683         0          2600                 810               0   \n",
       "280684         0          2800                 810               0   \n",
       "280685         0            18                 810               0   \n",
       "\n",
       "        grant_code  amount_cents exclude_school exclude_district  \n",
       "280681           0      340700.0              f                f  \n",
       "280682           0        -700.0              f                f  \n",
       "280683           0       45477.0              f                f  \n",
       "280684           0       24500.0              f                f  \n",
       "280685           0        2499.0              f                f  "
      ]
     },
     "execution_count": 5,
     "metadata": {},
     "output_type": "execute_result"
    }
   ],
   "source": [
    "# Look at dataset tail\n",
    "COK12_df.tail()"
   ]
  },
  {
   "cell_type": "code",
   "execution_count": 6,
   "metadata": {},
   "outputs": [
    {
     "data": {
      "text/plain": [
       "(280686, 13)"
      ]
     },
     "execution_count": 6,
     "metadata": {},
     "output_type": "execute_result"
    }
   ],
   "source": [
    "# View dataframe shape (# of Rows and # of Columns)\n",
    "COK12_df.shape"
   ]
  },
  {
   "cell_type": "code",
   "execution_count": 7,
   "metadata": {},
   "outputs": [
    {
     "name": "stdout",
     "output_type": "stream",
     "text": [
      "<class 'pandas.core.frame.DataFrame'>\n",
      "RangeIndex: 280686 entries, 0 to 280685\n",
      "Data columns (total 13 columns):\n",
      "district_code         280686 non-null int64\n",
      "admin_unit            280686 non-null int64\n",
      "school_code           280686 non-null int64\n",
      "fund_code             280686 non-null int64\n",
      "location_code         280686 non-null int64\n",
      "sre_code              280686 non-null int64\n",
      "program_code          280686 non-null int64\n",
      "object_source_code    280686 non-null int64\n",
      "job_class_code        280686 non-null int64\n",
      "grant_code            280686 non-null int64\n",
      "amount_cents          280686 non-null float64\n",
      "exclude_school        280686 non-null object\n",
      "exclude_district      280686 non-null object\n",
      "dtypes: float64(1), int64(10), object(2)\n",
      "memory usage: 27.8+ MB\n"
     ]
    }
   ],
   "source": [
    "# Look at dataset information details\n",
    "COK12_df.info()"
   ]
  },
  {
   "cell_type": "code",
   "execution_count": 8,
   "metadata": {},
   "outputs": [
    {
     "name": "stdout",
     "output_type": "stream",
     "text": [
      "0\n"
     ]
    }
   ],
   "source": [
    "#Let's confirm a count on null valuws in the entire data set.\n",
    "print(np.count_nonzero(COK12_df.isnull()))"
   ]
  },
  {
   "cell_type": "code",
   "execution_count": 9,
   "metadata": {},
   "outputs": [],
   "source": [
    "# Look at the data frame summary data\n",
    "COK12_dfs = DataFrameSummary(COK12_df)"
   ]
  },
  {
   "cell_type": "code",
   "execution_count": 10,
   "metadata": {},
   "outputs": [
    {
     "data": {
      "text/html": [
       "<div>\n",
       "<style scoped>\n",
       "    .dataframe tbody tr th:only-of-type {\n",
       "        vertical-align: middle;\n",
       "    }\n",
       "\n",
       "    .dataframe tbody tr th {\n",
       "        vertical-align: top;\n",
       "    }\n",
       "\n",
       "    .dataframe thead th {\n",
       "        text-align: right;\n",
       "    }\n",
       "</style>\n",
       "<table border=\"1\" class=\"dataframe\">\n",
       "  <thead>\n",
       "    <tr style=\"text-align: right;\">\n",
       "      <th></th>\n",
       "      <th>district_code</th>\n",
       "      <th>admin_unit</th>\n",
       "      <th>school_code</th>\n",
       "      <th>fund_code</th>\n",
       "      <th>location_code</th>\n",
       "      <th>sre_code</th>\n",
       "      <th>program_code</th>\n",
       "      <th>object_source_code</th>\n",
       "      <th>job_class_code</th>\n",
       "      <th>grant_code</th>\n",
       "      <th>amount_cents</th>\n",
       "      <th>exclude_school</th>\n",
       "      <th>exclude_district</th>\n",
       "    </tr>\n",
       "  </thead>\n",
       "  <tbody>\n",
       "    <tr>\n",
       "      <th>counts</th>\n",
       "      <td>280686</td>\n",
       "      <td>280686</td>\n",
       "      <td>280686</td>\n",
       "      <td>280686</td>\n",
       "      <td>280686</td>\n",
       "      <td>280686</td>\n",
       "      <td>280686</td>\n",
       "      <td>280686</td>\n",
       "      <td>280686</td>\n",
       "      <td>280686</td>\n",
       "      <td>280686</td>\n",
       "      <td>280686</td>\n",
       "      <td>280686</td>\n",
       "    </tr>\n",
       "    <tr>\n",
       "      <th>uniques</th>\n",
       "      <td>200</td>\n",
       "      <td>62</td>\n",
       "      <td>1920</td>\n",
       "      <td>34</td>\n",
       "      <td>258</td>\n",
       "      <td>45</td>\n",
       "      <td>317</td>\n",
       "      <td>415</td>\n",
       "      <td>94</td>\n",
       "      <td>228</td>\n",
       "      <td>222337</td>\n",
       "      <td>2</td>\n",
       "      <td>2</td>\n",
       "    </tr>\n",
       "    <tr>\n",
       "      <th>missing</th>\n",
       "      <td>0</td>\n",
       "      <td>0</td>\n",
       "      <td>0</td>\n",
       "      <td>0</td>\n",
       "      <td>0</td>\n",
       "      <td>0</td>\n",
       "      <td>0</td>\n",
       "      <td>0</td>\n",
       "      <td>0</td>\n",
       "      <td>0</td>\n",
       "      <td>0</td>\n",
       "      <td>0</td>\n",
       "      <td>0</td>\n",
       "    </tr>\n",
       "    <tr>\n",
       "      <th>missing_perc</th>\n",
       "      <td>0%</td>\n",
       "      <td>0%</td>\n",
       "      <td>0%</td>\n",
       "      <td>0%</td>\n",
       "      <td>0%</td>\n",
       "      <td>0%</td>\n",
       "      <td>0%</td>\n",
       "      <td>0%</td>\n",
       "      <td>0%</td>\n",
       "      <td>0%</td>\n",
       "      <td>0%</td>\n",
       "      <td>0%</td>\n",
       "      <td>0%</td>\n",
       "    </tr>\n",
       "    <tr>\n",
       "      <th>types</th>\n",
       "      <td>numeric</td>\n",
       "      <td>numeric</td>\n",
       "      <td>numeric</td>\n",
       "      <td>numeric</td>\n",
       "      <td>numeric</td>\n",
       "      <td>numeric</td>\n",
       "      <td>numeric</td>\n",
       "      <td>numeric</td>\n",
       "      <td>numeric</td>\n",
       "      <td>numeric</td>\n",
       "      <td>numeric</td>\n",
       "      <td>bool</td>\n",
       "      <td>bool</td>\n",
       "    </tr>\n",
       "  </tbody>\n",
       "</table>\n",
       "</div>"
      ],
      "text/plain": [
       "             district_code admin_unit school_code fund_code location_code  \\\n",
       "counts              280686     280686      280686    280686        280686   \n",
       "uniques                200         62        1920        34           258   \n",
       "missing                  0          0           0         0             0   \n",
       "missing_perc            0%         0%          0%        0%            0%   \n",
       "types              numeric    numeric     numeric   numeric       numeric   \n",
       "\n",
       "             sre_code program_code object_source_code job_class_code  \\\n",
       "counts         280686       280686             280686         280686   \n",
       "uniques            45          317                415             94   \n",
       "missing             0            0                  0              0   \n",
       "missing_perc       0%           0%                 0%             0%   \n",
       "types         numeric      numeric            numeric        numeric   \n",
       "\n",
       "             grant_code amount_cents exclude_school exclude_district  \n",
       "counts           280686       280686         280686           280686  \n",
       "uniques             228       222337              2                2  \n",
       "missing               0            0              0                0  \n",
       "missing_perc         0%           0%             0%               0%  \n",
       "types           numeric      numeric           bool             bool  "
      ]
     },
     "execution_count": 10,
     "metadata": {},
     "output_type": "execute_result"
    }
   ],
   "source": [
    "COK12_dfs.columns_stats"
   ]
  },
  {
   "cell_type": "code",
   "execution_count": 11,
   "metadata": {},
   "outputs": [],
   "source": [
    "# Let's make a copy of the dataframe.\n",
    "COK12_df2 = COK12_df.copy()"
   ]
  },
  {
   "cell_type": "markdown",
   "metadata": {},
   "source": [
    "### Remember we must take note of the following information provided within the dataset (csv file)\n",
    "<br>\n",
    "When summarizing this information there are three important points to keep in mind:<br>\n",
    "1) Fund 90 is used for informational purposes only and must be excluded from any analysis.<br>\n",
    "2) All amounts are displayed with cents and without decimal places. E.g. the value $5.42 will be recorded as 542. <br>\n",
    "3) The data methodology page contains details on the categories excluded from this summary at both the District and the School level."
   ]
  },
  {
   "cell_type": "code",
   "execution_count": 12,
   "metadata": {},
   "outputs": [],
   "source": [
    "# Drop the exclude_school and exclude_district columns from data frame\n",
    "COK12_df2 = COK12_df2.drop(['exclude_school', 'exclude_district'],axis=1)"
   ]
  },
  {
   "cell_type": "code",
   "execution_count": 13,
   "metadata": {},
   "outputs": [
    {
     "data": {
      "text/plain": [
       "Index(['district_code', 'admin_unit', 'school_code', 'fund_code',\n",
       "       'location_code', 'sre_code', 'program_code', 'object_source_code',\n",
       "       'job_class_code', 'grant_code', 'amount_cents'],\n",
       "      dtype='object')"
      ]
     },
     "execution_count": 13,
     "metadata": {},
     "output_type": "execute_result"
    }
   ],
   "source": [
    "# Check columns again\n",
    "COK12_df2.columns"
   ]
  },
  {
   "cell_type": "code",
   "execution_count": 14,
   "metadata": {},
   "outputs": [
    {
     "data": {
      "text/html": [
       "<div>\n",
       "<style scoped>\n",
       "    .dataframe tbody tr th:only-of-type {\n",
       "        vertical-align: middle;\n",
       "    }\n",
       "\n",
       "    .dataframe tbody tr th {\n",
       "        vertical-align: top;\n",
       "    }\n",
       "\n",
       "    .dataframe thead th {\n",
       "        text-align: right;\n",
       "    }\n",
       "</style>\n",
       "<table border=\"1\" class=\"dataframe\">\n",
       "  <thead>\n",
       "    <tr style=\"text-align: right;\">\n",
       "      <th></th>\n",
       "      <th>district_code</th>\n",
       "      <th>admin_unit</th>\n",
       "      <th>school_code</th>\n",
       "      <th>fund_code</th>\n",
       "      <th>location_code</th>\n",
       "      <th>sre_code</th>\n",
       "      <th>program_code</th>\n",
       "      <th>object_source_code</th>\n",
       "      <th>job_class_code</th>\n",
       "      <th>grant_code</th>\n",
       "      <th>amount_cents</th>\n",
       "    </tr>\n",
       "  </thead>\n",
       "  <tbody>\n",
       "    <tr>\n",
       "      <th>0</th>\n",
       "      <td>3080</td>\n",
       "      <td>64203</td>\n",
       "      <td>0</td>\n",
       "      <td>10</td>\n",
       "      <td>600</td>\n",
       "      <td>0</td>\n",
       "      <td>20</td>\n",
       "      <td>100</td>\n",
       "      <td>200</td>\n",
       "      <td>0</td>\n",
       "      <td>71250.0</td>\n",
       "    </tr>\n",
       "    <tr>\n",
       "      <th>1</th>\n",
       "      <td>3080</td>\n",
       "      <td>64203</td>\n",
       "      <td>0</td>\n",
       "      <td>10</td>\n",
       "      <td>600</td>\n",
       "      <td>0</td>\n",
       "      <td>10</td>\n",
       "      <td>100</td>\n",
       "      <td>200</td>\n",
       "      <td>4010</td>\n",
       "      <td>13841274.0</td>\n",
       "    </tr>\n",
       "    <tr>\n",
       "      <th>2</th>\n",
       "      <td>3080</td>\n",
       "      <td>64203</td>\n",
       "      <td>0</td>\n",
       "      <td>10</td>\n",
       "      <td>700</td>\n",
       "      <td>0</td>\n",
       "      <td>2700</td>\n",
       "      <td>100</td>\n",
       "      <td>100</td>\n",
       "      <td>0</td>\n",
       "      <td>12171639.0</td>\n",
       "    </tr>\n",
       "    <tr>\n",
       "      <th>3</th>\n",
       "      <td>3080</td>\n",
       "      <td>64203</td>\n",
       "      <td>0</td>\n",
       "      <td>21</td>\n",
       "      <td>700</td>\n",
       "      <td>0</td>\n",
       "      <td>3100</td>\n",
       "      <td>100</td>\n",
       "      <td>100</td>\n",
       "      <td>0</td>\n",
       "      <td>4079700.0</td>\n",
       "    </tr>\n",
       "    <tr>\n",
       "      <th>4</th>\n",
       "      <td>3080</td>\n",
       "      <td>64203</td>\n",
       "      <td>4854</td>\n",
       "      <td>10</td>\n",
       "      <td>200</td>\n",
       "      <td>0</td>\n",
       "      <td>1700</td>\n",
       "      <td>100</td>\n",
       "      <td>400</td>\n",
       "      <td>3130</td>\n",
       "      <td>8660925.0</td>\n",
       "    </tr>\n",
       "  </tbody>\n",
       "</table>\n",
       "</div>"
      ],
      "text/plain": [
       "   district_code  admin_unit  school_code  fund_code  location_code  sre_code  \\\n",
       "0           3080       64203            0         10            600         0   \n",
       "1           3080       64203            0         10            600         0   \n",
       "2           3080       64203            0         10            700         0   \n",
       "3           3080       64203            0         21            700         0   \n",
       "4           3080       64203         4854         10            200         0   \n",
       "\n",
       "   program_code  object_source_code  job_class_code  grant_code  amount_cents  \n",
       "0            20                 100             200           0       71250.0  \n",
       "1            10                 100             200        4010    13841274.0  \n",
       "2          2700                 100             100           0    12171639.0  \n",
       "3          3100                 100             100           0     4079700.0  \n",
       "4          1700                 100             400        3130     8660925.0  "
      ]
     },
     "execution_count": 14,
     "metadata": {},
     "output_type": "execute_result"
    }
   ],
   "source": [
    "# Look at data frame head\n",
    "COK12_df2.head()"
   ]
  },
  {
   "cell_type": "markdown",
   "metadata": {},
   "source": [
    "### Note the trailing decimal and zero for the numbers in the amount_cents column. The amount_cents column is a float64 type as the df.info() details above."
   ]
  },
  {
   "cell_type": "code",
   "execution_count": 15,
   "metadata": {},
   "outputs": [],
   "source": [
    "# Change ammount_cents to int64 not float64\n",
    "COK12_df2 = COK12_df2.astype({'amount_cents':'int64'})"
   ]
  },
  {
   "cell_type": "code",
   "execution_count": 16,
   "metadata": {},
   "outputs": [
    {
     "data": {
      "text/plain": [
       "district_code         int64\n",
       "admin_unit            int64\n",
       "school_code           int64\n",
       "fund_code             int64\n",
       "location_code         int64\n",
       "sre_code              int64\n",
       "program_code          int64\n",
       "object_source_code    int64\n",
       "job_class_code        int64\n",
       "grant_code            int64\n",
       "amount_cents          int64\n",
       "dtype: object"
      ]
     },
     "execution_count": 16,
     "metadata": {},
     "output_type": "execute_result"
    }
   ],
   "source": [
    "# Confirm data types\n",
    "COK12_df2.dtypes"
   ]
  },
  {
   "cell_type": "code",
   "execution_count": 17,
   "metadata": {},
   "outputs": [
    {
     "data": {
      "text/html": [
       "<div>\n",
       "<style scoped>\n",
       "    .dataframe tbody tr th:only-of-type {\n",
       "        vertical-align: middle;\n",
       "    }\n",
       "\n",
       "    .dataframe tbody tr th {\n",
       "        vertical-align: top;\n",
       "    }\n",
       "\n",
       "    .dataframe thead th {\n",
       "        text-align: right;\n",
       "    }\n",
       "</style>\n",
       "<table border=\"1\" class=\"dataframe\">\n",
       "  <thead>\n",
       "    <tr style=\"text-align: right;\">\n",
       "      <th></th>\n",
       "      <th>district_code</th>\n",
       "      <th>admin_unit</th>\n",
       "      <th>school_code</th>\n",
       "      <th>fund_code</th>\n",
       "      <th>location_code</th>\n",
       "      <th>sre_code</th>\n",
       "      <th>program_code</th>\n",
       "      <th>object_source_code</th>\n",
       "      <th>job_class_code</th>\n",
       "      <th>grant_code</th>\n",
       "      <th>amount_cents</th>\n",
       "    </tr>\n",
       "  </thead>\n",
       "  <tbody>\n",
       "    <tr>\n",
       "      <th>280681</th>\n",
       "      <td>1180</td>\n",
       "      <td>64233</td>\n",
       "      <td>570</td>\n",
       "      <td>10</td>\n",
       "      <td>300</td>\n",
       "      <td>0</td>\n",
       "      <td>1800</td>\n",
       "      <td>810</td>\n",
       "      <td>0</td>\n",
       "      <td>0</td>\n",
       "      <td>340700</td>\n",
       "    </tr>\n",
       "    <tr>\n",
       "      <th>280682</th>\n",
       "      <td>1180</td>\n",
       "      <td>64233</td>\n",
       "      <td>429</td>\n",
       "      <td>11</td>\n",
       "      <td>951</td>\n",
       "      <td>0</td>\n",
       "      <td>2500</td>\n",
       "      <td>810</td>\n",
       "      <td>0</td>\n",
       "      <td>0</td>\n",
       "      <td>-700</td>\n",
       "    </tr>\n",
       "    <tr>\n",
       "      <th>280683</th>\n",
       "      <td>1180</td>\n",
       "      <td>64233</td>\n",
       "      <td>429</td>\n",
       "      <td>11</td>\n",
       "      <td>951</td>\n",
       "      <td>0</td>\n",
       "      <td>2600</td>\n",
       "      <td>810</td>\n",
       "      <td>0</td>\n",
       "      <td>0</td>\n",
       "      <td>45477</td>\n",
       "    </tr>\n",
       "    <tr>\n",
       "      <th>280684</th>\n",
       "      <td>1180</td>\n",
       "      <td>64233</td>\n",
       "      <td>429</td>\n",
       "      <td>11</td>\n",
       "      <td>951</td>\n",
       "      <td>0</td>\n",
       "      <td>2800</td>\n",
       "      <td>810</td>\n",
       "      <td>0</td>\n",
       "      <td>0</td>\n",
       "      <td>24500</td>\n",
       "    </tr>\n",
       "    <tr>\n",
       "      <th>280685</th>\n",
       "      <td>1180</td>\n",
       "      <td>64233</td>\n",
       "      <td>429</td>\n",
       "      <td>11</td>\n",
       "      <td>951</td>\n",
       "      <td>0</td>\n",
       "      <td>18</td>\n",
       "      <td>810</td>\n",
       "      <td>0</td>\n",
       "      <td>0</td>\n",
       "      <td>2499</td>\n",
       "    </tr>\n",
       "  </tbody>\n",
       "</table>\n",
       "</div>"
      ],
      "text/plain": [
       "        district_code  admin_unit  school_code  fund_code  location_code  \\\n",
       "280681           1180       64233          570         10            300   \n",
       "280682           1180       64233          429         11            951   \n",
       "280683           1180       64233          429         11            951   \n",
       "280684           1180       64233          429         11            951   \n",
       "280685           1180       64233          429         11            951   \n",
       "\n",
       "        sre_code  program_code  object_source_code  job_class_code  \\\n",
       "280681         0          1800                 810               0   \n",
       "280682         0          2500                 810               0   \n",
       "280683         0          2600                 810               0   \n",
       "280684         0          2800                 810               0   \n",
       "280685         0            18                 810               0   \n",
       "\n",
       "        grant_code  amount_cents  \n",
       "280681           0        340700  \n",
       "280682           0          -700  \n",
       "280683           0         45477  \n",
       "280684           0         24500  \n",
       "280685           0          2499  "
      ]
     },
     "execution_count": 17,
     "metadata": {},
     "output_type": "execute_result"
    }
   ],
   "source": [
    "# Look at tail and ensure amount_cents is no longer showing as a float type.\n",
    "COK12_df2.tail()"
   ]
  },
  {
   "cell_type": "markdown",
   "metadata": {},
   "source": [
    "### Now, notice the numbers in the amount_cents column are showing as integers and whole numbers. We will have to think about adding decimals and commas to represent those column values as currency."
   ]
  },
  {
   "cell_type": "code",
   "execution_count": 18,
   "metadata": {},
   "outputs": [
    {
     "data": {
      "text/plain": [
       "(280686, 11)"
      ]
     },
     "execution_count": 18,
     "metadata": {},
     "output_type": "execute_result"
    }
   ],
   "source": [
    "# Look at data frame shape\n",
    "COK12_df2.shape"
   ]
  },
  {
   "cell_type": "markdown",
   "metadata": {},
   "source": [
    "### Investigate the top 5 used district_code Codes\n",
    "<br>\n",
    "DEFINITION:\n",
    "<br>\n",
    "\"<b>District Code</b> – a unique identifier tied to each reporting entity\" (CDE, <i>FY16-17 Chart of Accounts</i>, p. 5).\n",
    "<br>\n",
    "<br>\n",
    "REMEMBER:\n",
    "<br>\n",
    "\"ONE METHOD for BOCES to track transactions by district being served is to define location codes such that each district has its own two-digit code.  Then these two-digit district codes may be combined with the appropriate first digit to create a location code that follows the structure from the chart of accounts\" (CDE, <i>FY16-17 Chart of Accounts</i>, p. 208)."
   ]
  },
  {
   "cell_type": "code",
   "execution_count": 19,
   "metadata": {},
   "outputs": [
    {
     "data": {
      "text/plain": [
       "880     34937\n",
       "1420    21133\n",
       "900     15183\n",
       "20      11193\n",
       "1550    10629\n",
       "dtype: int64"
      ]
     },
     "execution_count": 19,
     "metadata": {},
     "output_type": "execute_result"
    }
   ],
   "source": [
    "# Let's see the top 5 used district_code values:\n",
    "COK12_districtCodes = pd.value_counts(COK12_df2['district_code'].values,sort=True)\n",
    "COK12_districtCodes.head()"
   ]
  },
  {
   "cell_type": "markdown",
   "metadata": {},
   "source": [
    "<div class=\"alert alert-block alert-info\">\n",
    "    <b>Detail breakdown of the top 5 used District Codes:</b>\n",
    "<br>\n",
    "880: DENVER COUNTY 1\n",
    "<br>\n",
    "1420: JEFFERSON COUNTY R-1\n",
    "<br>\n",
    "900: DOUGLAS COUNTY RE 1\n",
    "<br>\n",
    "20: ADAMS 12 FIVE STAR SCHOOLS\n",
    "<br>\n",
    "1150: FREMONT RE-2\n",
    "</div>"
   ]
  },
  {
   "cell_type": "markdown",
   "metadata": {},
   "source": [
    "#### Let's look at the 5 least used District Codes"
   ]
  },
  {
   "cell_type": "code",
   "execution_count": 20,
   "metadata": {},
   "outputs": [
    {
     "data": {
      "text/plain": [
       "9140    71\n",
       "9165    56\n",
       "8042    42\n",
       "8041    28\n",
       "9120    22\n",
       "dtype: int64"
      ]
     },
     "execution_count": 20,
     "metadata": {},
     "output_type": "execute_result"
    }
   ],
   "source": [
    "# Look at tail of district codes\n",
    "COK12_districtCodes.tail()"
   ]
  },
  {
   "cell_type": "markdown",
   "metadata": {},
   "source": [
    "#### Of the least used District Codes shown below, the fewest used are as follows:\n",
    "\n",
    "9140: MT EVANS BOCES\n",
    "<br>\n",
    "9165: UTE PASS BOCES\n",
    "<br>\n",
    "8041: <b>Not found within the Chart of Accounts fiscal year 2016-2017.</b>\n",
    "<br>\n",
    "9120: ADAMS COUNTY BOCES"
   ]
  },
  {
   "cell_type": "markdown",
   "metadata": {},
   "source": [
    "### Investigate the top 5 used admin_unit Codes\n",
    "<br>\n",
    "DEFINITION:\n",
    "<br>\n",
    "\"<b>Administrative Unit</b> – a unique identifier used to identify the specific administrative unit that the reporting unit is tied to\" (CDE, <i>FY16-17 Chart of Accounts</i>, p. 5).\n",
    "\n",
    "REMEMBER:\n",
    "<br>\n",
    "\"An Administrative Unit (AU) is a school district, board of cooperative services, or a combination of school districts or boards of cooperative services, which is approved by CDE and normally provides educational services to exceptional children.  AU’s function similarly to BOCES.  Thus, financial transactions between AU members and non-members are recorded using the same account codes and logic as financial transactions between BOCES members and non-members\" (CDE, <i>FY16-17 Chart of Accounts</i>, p. 205)."
   ]
  },
  {
   "cell_type": "code",
   "execution_count": 21,
   "metadata": {},
   "outputs": [
    {
     "data": {
      "text/plain": [
       "16010    35049\n",
       "30011    21133\n",
       "18010    15183\n",
       "1020     11193\n",
       "35010    10629\n",
       "dtype: int64"
      ]
     },
     "execution_count": 21,
     "metadata": {},
     "output_type": "execute_result"
    }
   ],
   "source": [
    "# Let's see the top 5 used admin_unit code values:\n",
    "COK12_adminUnits = pd.value_counts(COK12_df2['admin_unit'].values,sort=True)\n",
    "COK12_adminUnits.head()"
   ]
  },
  {
   "cell_type": "markdown",
   "metadata": {},
   "source": [
    "<div class=\"alert alert-block alert-info\">\n",
    "<b>Detail breakdown of the top 5 used Administrative Unit Codes:</b>\n",
    "<br>\n",
    "16010: Denver 1, Denver\n",
    "<br>\n",
    "30011: Jefferson R-1, Lakewood\n",
    "<br>\n",
    "18010: Douglas Re 1, Castle Rock\n",
    "<br>\n",
    "1020: Adams 12, Northglenn-Thornton\n",
    "<br>\n",
    "35010: Larimer R-1, Poudre\n",
    "</div>"
   ]
  },
  {
   "cell_type": "markdown",
   "metadata": {},
   "source": [
    "#### The 5 least used Administrative Unit Codes shown below can <u>NOT</u> be found within the Chart of Account fiscal year 2016-2017."
   ]
  },
  {
   "cell_type": "code",
   "execution_count": 22,
   "metadata": {},
   "outputs": [
    {
     "data": {
      "text/plain": [
       "19205    784\n",
       "41010    678\n",
       "62050    660\n",
       "35030    625\n",
       "49010    600\n",
       "dtype: int64"
      ]
     },
     "execution_count": 22,
     "metadata": {},
     "output_type": "execute_result"
    }
   ],
   "source": [
    "# Look at admin units tail\n",
    "COK12_adminUnits.tail()"
   ]
  },
  {
   "cell_type": "markdown",
   "metadata": {},
   "source": [
    "### Investigate the top 5 used school_code Codes\n",
    "<br>\n",
    "DEFINITION:\n",
    "<br>\n",
    "\"<b>School Code</b> – a unique identifier assigned for every school building at a school district for school site reporting\" (CDE, <i>FY16-17 Chart of Accounts</i>, p. 5).\n",
    "\n",
    "#### Investigate why the value <u>0</u> is the most commonly used school_code\n",
    "NOTES on the use of the value <u>0</u>:\n",
    "<br>\n",
    "\"Dimensions which are not required for a particular account type and are unused by the district, but are part of the basic account code structure, should be “zero filled\" (CDE, <i>FY16-17 Chart of Accounts</i>, p. 7)."
   ]
  },
  {
   "cell_type": "code",
   "execution_count": 23,
   "metadata": {},
   "outputs": [
    {
     "data": {
      "text/plain": [
       "0       68345\n",
       "24       1163\n",
       "4516      771\n",
       "20        695\n",
       "1426      496\n",
       "7500      489\n",
       "dtype: int64"
      ]
     },
     "execution_count": 23,
     "metadata": {},
     "output_type": "execute_result"
    }
   ],
   "source": [
    "# Let's see the top 5 used school_code values:\n",
    "COK12_schoolCodes = pd.value_counts(COK12_df2['school_code'].values,sort=True)\n",
    "COK12_schoolCodes.head(6)"
   ]
  },
  {
   "cell_type": "markdown",
   "metadata": {},
   "source": [
    "<div class=\"alert alert-block alert-info\">\n",
    "    <b>Detail breakdown of the top 5 used School Codes:</b>\n",
    "<br>\n",
    "24: ADAMS CITY HIGH SCHOOL\n",
    "<br>\n",
    "4516: KEARNEY MIDDLE SCHOOL\n",
    "<br>\n",
    "20: ADAMS CITY MIDDLE SCHOOL\n",
    "<br>\n",
    "1426: CENTRAL ELEMENTARY SCHOOL\n",
    "<br>\n",
    "7500: ROSE HILL ELEMENTARY SCHOOL\n",
    "</div>"
   ]
  },
  {
   "cell_type": "markdown",
   "metadata": {},
   "source": [
    "#### The 5 least used School Codes shown below can <u>NOT</u> be found within the Chart of Account fiscal year 2016-2017."
   ]
  },
  {
   "cell_type": "code",
   "execution_count": 24,
   "metadata": {},
   "outputs": [
    {
     "data": {
      "text/plain": [
       "2966    1\n",
       "1455    1\n",
       "4518    1\n",
       "4520    1\n",
       "6009    1\n",
       "dtype: int64"
      ]
     },
     "execution_count": 24,
     "metadata": {},
     "output_type": "execute_result"
    }
   ],
   "source": [
    "COK12_schoolCodes.tail()"
   ]
  },
  {
   "cell_type": "markdown",
   "metadata": {},
   "source": [
    "### Investigate the top 5 used fund_code Codes\n",
    "<br>\n",
    "DEFINITION:\n",
    "<br>\n",
    "\"<b>Fund</b> - an independent fiscal and accounting entity with a self-balancing set of accounts for recording cash and other financial resources.  It contains all related assets, liabilities and residual equities or balances, or changes therein.  Funds are established to carry on specific activities or attain certain objectives of the school district according to special legislation, regulations, or other restrictions\" (CDE, <i>FY16-17 Chart of Accounts</i>, p. 6)."
   ]
  },
  {
   "cell_type": "code",
   "execution_count": 25,
   "metadata": {},
   "outputs": [
    {
     "data": {
      "text/plain": [
       "10    156838\n",
       "22     31148\n",
       "11     24780\n",
       "21     19035\n",
       "23     16804\n",
       "dtype: int64"
      ]
     },
     "execution_count": 25,
     "metadata": {},
     "output_type": "execute_result"
    }
   ],
   "source": [
    "# Let's see the top 5 used fund_code values:\n",
    "COK12_fundCodes = pd.value_counts(COK12_df2['fund_code'].values,sort=True)\n",
    "COK12_fundCodes.head()"
   ]
  },
  {
   "cell_type": "markdown",
   "metadata": {},
   "source": [
    "<div class=\"alert alert-block alert-info\">\n",
    "    <b>Detail breakdown of the top 5 used Fund Codes:</b>\n",
    "<br>\n",
    "10: General Fund\n",
    "<br>\n",
    "22: Governmental Designated-Purpose Grants Fund\n",
    "<br>\n",
    "11: Charter School Fund\n",
    "<br>\n",
    "21: Food Service Fund\n",
    "<br>\n",
    "23: Pupil Activity Special Revenue Fund\n",
    "</div>"
   ]
  },
  {
   "cell_type": "markdown",
   "metadata": {},
   "source": [
    "#### The 5 least used Fund Codes can <u>NOT</u> be found within the Chart of Account fiscal year 2016-2017."
   ]
  },
  {
   "cell_type": "code",
   "execution_count": 26,
   "metadata": {},
   "outputs": [
    {
     "data": {
      "text/plain": [
       "51    5\n",
       "26    2\n",
       "58    2\n",
       "59    2\n",
       "75    2\n",
       "dtype: int64"
      ]
     },
     "execution_count": 26,
     "metadata": {},
     "output_type": "execute_result"
    }
   ],
   "source": [
    "# Look at fund codes tail\n",
    "COK12_fundCodes.tail()"
   ]
  },
  {
   "cell_type": "markdown",
   "metadata": {},
   "source": [
    "### Investigate the top 5 used location_code Codes\n",
    "<br>\n",
    "DEFINITION:\n",
    "<br>\n",
    "\"<b>Location</b> - a dimension used as a way to identify schools, attendance centers, operational units, buildings, or sites as budgetary units or cost center designators, as a means of segregating costs\" (CDE, <i>FY16-17 Chart of Accounts</i>, p. 6).\n",
    "\n",
    "NOTE:\n",
    "<br>\n",
    "\"When compiling reports to reflect school district expenditures, the Colorado Department of Education (CDE) will use location codes in conjunction with program codes to report school district instructional programs by level.  However, the CDE will use program codes only--rather than program codes and location codes--to report school district support expenditures\" (CDE, <i>FY16-17 Chart of Accounts</i>, p. 19)."
   ]
  },
  {
   "cell_type": "code",
   "execution_count": 27,
   "metadata": {},
   "outputs": [
    {
     "data": {
      "text/plain": [
       "100    79496\n",
       "300    39963\n",
       "600    35268\n",
       "200    29514\n",
       "0      23168\n",
       "500    15242\n",
       "dtype: int64"
      ]
     },
     "execution_count": 27,
     "metadata": {},
     "output_type": "execute_result"
    }
   ],
   "source": [
    "# Let's see the top 5 used location_code values:\n",
    "COK12_locationCodes = pd.value_counts(COK12_df2['location_code'].values,sort=True)\n",
    "COK12_locationCodes.head(6)"
   ]
  },
  {
   "cell_type": "markdown",
   "metadata": {},
   "source": [
    "#### Investigate why the value <u>0</u> is amongst the top 5 most commonly used location_code codes\n",
    "\n",
    "##### More NOTES on the use of the value <u>0</u> and notes specific to location_code:\n",
    "\n",
    "\"Note: Location codes 001 through 099 are available if needed for district use to identify elementary schools\" (CDE, <i>FY16-17 Chart of Accounts</i>, p. 19).\n",
    "\n",
    "\"A unique and specific location code should be used for each on-line school or program within the District\" (CDE, <i>FY16-17 Chart of Accounts</i>, p. 20).\n",
    "\n",
    "\"Note:  all on-line school and program location codes are bolded and on-line school and program detailed activities must be reported (reporting of single purchase service account for online is not allowable\" (CDE, <i>FY16-17 Chart of Accounts</i>, p. 20).\n",
    "\n",
    "\"900-969  Location codes 900 through 969 are reserved for district use for charter schools only.<br>\n",
    "900 – 919  Elementary Charter Schools.  Location codes 900 through 919 must be used for elementary charter schools.<br>\n",
    "920 – 929 Middle School Charter Schools.  Must be used for middle school (junior high) charter schools.<br>\n",
    "930 – 939 High School Charter Schools.  Must be used for high school charter schools.<br>\n",
    "940 – 949 Vocational/Technical Charter Schools.  Must be used for vocational/technical charter schools.<br>\n",
    "950 – 969  Combination Charter Schools.  Location codes 950 through 969 must be used for combination charter schools\n",
    "970 Other Operational Units.<br>\n",
    "Location codes 970 through 989 are available for district use for other operational units not specified elsewhere.<br>\n",
    "990 Private/Parochial Schools.  Used to identify private or parochial schools.<br>\n",
    "Location codes 990-999 are available for district use.\" (CDE, <i>FY16-17 Chart of Accounts</i>, p. 21).\n",
    "<br>\n",
    "<br>\n",
    "<b>\"In order to produce an apples-to-apples comparison, CDE will use location codes to aggregate instructional program data reported for elementary and middle schools regardless of whether these data are reported by subject or by a general education program such as 0070 Gifted and Talented or 0080 General Instructional Media\" (CDE, <i>FY16-17 Chart of Accounts</i>, p. 28).</b>\n",
    "<br>\n",
    "<br>\n",
    "\"Charter school location codes MUST be used with ALL transactions relating to charter schools\" (CDE, <i>FY16-17 Chart of Accounts</i>, p. 149).\n",
    "<br>\n",
    "<br>\n",
    "<b>\"HOW LOCATION CODES CAN BE USED BY THE BOCES \n",
    "<br>\n",
    "CDE will use location codes numbered 100 through 599 in conjunction with instructional program codes to identify instructional costs by level (i.e., as elementary, middle/junior high school, or high school). Therefore, BOCES MUST use the structure for location codes that is defined in the chart of accounts\" (CDE, <i>FY16-17 Chart of Accounts</i>, p. 207).</b>\n",
    "<br>\n",
    "<br>\n",
    "\"ONE METHOD for BOCES to track transactions by district being served is to define location codes such that each district has its own two-digit code.  Then these two-digit district codes may be combined with the appropriate first digit to create a location code that follows the structure from the chart of accounts\" (CDE, <i>FY16-17 Chart of Accounts</i>, p. 208).\n",
    "<br>\n",
    "<br>\n",
    "\"LOCATIONS\n",
    "\n",
    "Locations 900 through 969.\n",
    "\n",
    "Location codes 900 through 969, which are reserved exclusively for charter schools, are required for recording charter school revenues and expenditures and balance sheet.  Each charter school must have a unique location code that identifies the school and level.  So that the level can be identified, the following structure must be used when assigning location codes.   \n",
    "\n",
    "* Locations 900 through 919 are used for elementary charter schools.\n",
    "* Locations 920 through 929 are used for middle school (jar high) charter schools. \n",
    "* Locations 930 through 939 are used for high school charter schools.\n",
    "* Locations 940 through 949 are used for vocational/technical charter schools.\n",
    "* Locations 950 through 969 are used for combination charter schools. \n",
    "\n",
    "These charter school location codes must be used for all charter school transactions regardless of fund\" (CDE, <i>FY16-17 Chart of Accounts</i>, p. 235).\n",
    "\n",
    "\"Note: Even though location codes and program codes are not required for revenue transactions, the district may find use of location codes and/or program codes in user fee revenue account strings helpful for identifying usage by specific programs or sites\" (CDE, <i>FY16-17 Chart of Accounts</i>, p. 248).\n",
    "\n",
    "\"Note: Even though location codes and program codes are not required for revenue transactions, the district may find use of location codes and/or program codes in user fee revenue account strings helpful for identifying usage by specific programs or sites\" (CDE, <i>FY16-17 Chart of Accounts</i>, p.255)."
   ]
  },
  {
   "cell_type": "markdown",
   "metadata": {},
   "source": [
    "<div class=\"alert alert-block alert-info\">\n",
    "<b>Detail breakdown of the top 5 used Location Codes:</b>\n",
    "<br>\n",
    "100: Location Codes <b>100 - 199</b> is used for Elementary Schools per the source (CDE, <i>Chart of Accounts_1617.xlsx</i>, sheet: Location).\n",
    "<br>\n",
    "300: Location Codes <b>300 - 399</b> is used for High Schools per the source (CDE, <i>Chart of Accounts_1617.xlsx</i>, sheet: Location).\n",
    "<br>\n",
    "600: Centralized Services <b>600 - 699</b> is used for \"Activities or services associated with district-wide or centralized administration, program direction, curriculum services, business services, and related support services\" (CDE, <i>Chart of Accounts_1617.xlsx</i>, sheet: Location).\n",
    "<br>\n",
    "200: Location Codes <b>200 - 299</b> is used for Middle (Junior High) Schools per source (CDE, <i>Chart of Accounts_1617.xlsx</i>, sheet: Location).\n",
    "<br>\n",
    "<b>0: Location_code <u>Zero \"0\"</u> account for 23,168 financially funded items.</b>\n",
    "<br>\n",
    "500: Combination Schools <b>500 - 599</b> is used for \"Schools that house on a permanent basis more than one type of instructional organization; e.g. an elementary school and a middle school\" (CDE, <i>Chart of Accounts_1617.xlsx</i>, sheet: Location).\n",
    "</div>"
   ]
  },
  {
   "cell_type": "markdown",
   "metadata": {},
   "source": [
    "#### Let's look at the 5 least used Location Codes: "
   ]
  },
  {
   "cell_type": "code",
   "execution_count": 28,
   "metadata": {},
   "outputs": [
    {
     "data": {
      "text/plain": [
       "182    2\n",
       "104    2\n",
       "134    2\n",
       "623    2\n",
       "983    1\n",
       "dtype: int64"
      ]
     },
     "execution_count": 28,
     "metadata": {},
     "output_type": "execute_result"
    }
   ],
   "source": [
    "# Look at tail of location codes\n",
    "COK12_locationCodes.tail()"
   ]
  },
  {
   "cell_type": "markdown",
   "metadata": {},
   "source": [
    "#### Of the 5 least used Location Codes shown below, the fewest used are as follows:\n",
    "<br>\n",
    "182: Elementary Schools\n",
    "<br>\n",
    "104: Elementary Schools\n",
    "<br>\n",
    "134: Elementary Schools\n",
    "<br>\n",
    "623: Centralized Services\n",
    "<br>\n",
    "983: Other Operational Units\n",
    "<br>\n",
    "As quoted, \"Location codes 970 through 989 are available for district use for other operational units not specified elsewhere\" (CDE, <i>Chart of Accounts_1617.xlsx</i>, sheet: Location)."
   ]
  },
  {
   "cell_type": "markdown",
   "metadata": {},
   "source": [
    "### Investigate the top 5 used sre_code Codes\n",
    "\n",
    "DEFINITION:\n",
    "<br>\n",
    "\"<b>Special Reporting Element (SRE)</b> - describes the activity for which a service or material object is acquired, much like a function.  This element is optional, but may be used with the program element to differentiate program costs\" (CDE, <i>FY16-17 Chart of Accounts</i>, p. 6).\n",
    "\n",
    "REMEMBER:\n",
    "<BR>\n",
    "\"Note: SRE codes 60 through 89 are available for district use\" (CDE, <i>FY16-17 Chart of Accounts</i>, p. 25)."
   ]
  },
  {
   "cell_type": "markdown",
   "metadata": {},
   "source": [
    "#### Investigate why the value <u>0</u> is the most used sre_code\n",
    "\n",
    "\"...the Special Reporting Element describes the activity for which a service or material object is acquired.  The SRE’s of a school district are classified into six broad areas:  Instruction, Support Services, Non-Instructional Services, Facilities Acquisition and Construction Services, Other Uses, and Reserves.  SREs and sub-SREs consist of activities which have somewhat the same general operational objectives.  Categories of activities comprising each of the divisions and subdivisions are grouped according to the principle that the activities can be combined, compared, related, and mutually exclusive.\n",
    "\n",
    "<B>The use of the SRE is voluntary. Nonetheless and as with all non-required (non-bolded) items, it is recommended that if a district chooses to implement this element, tot follow the scheme provided below.</B>\n",
    "\n",
    "Note: the one non-optional exception to this is SRE code 95.  SRE 95 is used to identify Consolidated School wide Plans\" (CDE, <i>FY16-17 Chart of Accounts</i>, p. 23)."
   ]
  },
  {
   "cell_type": "code",
   "execution_count": 31,
   "metadata": {},
   "outputs": [
    {
     "data": {
      "text/plain": [
       "0     268470\n",
       "60      3035\n",
       "95      2775\n",
       "21       704\n",
       "22       580\n",
       "11       546\n",
       "dtype: int64"
      ]
     },
     "execution_count": 31,
     "metadata": {},
     "output_type": "execute_result"
    }
   ],
   "source": [
    "# Let's see the top 5 used sre_code values:\n",
    "COK12_sreCodes = pd.value_counts(COK12_df2['sre_code'].values,sort=True)\n",
    "COK12_sreCodes.head(6)"
   ]
  },
  {
   "cell_type": "markdown",
   "metadata": {},
   "source": [
    "<div class=\"alert alert-block alert-info\">\n",
    "<b>Detail breakdown of the top 5 used Special Reporting Element (SRE) Codes:</b>\n",
    "<br>\n",
    "<b>0: sre_code <u>Zero \"0\"</u> accounts for 268,470 financially funded Special Reporting Elements (SRE) items.</b>\n",
    "<br>\n",
    "60: <b>Other</b> SRE Code is said to be used for \"SRE codes 60 through 89 are available for district use\"  (CDE, <i>Chart of Accounts_1617.xlsx</i>, sheet: SRE).\n",
    "<br>\n",
    "95: <b>Consolidated School wide Program</b> is said to be used for \"This SRE code identifies Consolidated School wide Programs.  It is used in conjunction with a unique location code for each school wide plan site and Object Code 0855.  Object Code 0855 identifies the School wide Plan Distribution, as an option to detailed object coding.  SRE 95 should be used for the coding of all expenditure activities related to a specific school’s school wide plan.  SRE should also be used in all General Fund (10) Abatement Accounts and all Governmental Grants Fund (22) or General Fund (10) Grant Accounts for the grant programs that have been included in the specific school wide plan. See Appendix T, “Consolidated School wide Programs,” for additional information\" (CDE, <i>Chart of Accounts_1617.xlsx</i>, sheet: SRE). \n",
    "<br>\n",
    "21: <b>Students</b> is said to be used for \"Activities designed to assess and improve the well-being of students and to supplement the teaching process\" (CDE, <i>Chart of Accounts_1617.xlsx</i>, sheet: SRE). \n",
    "<br>\n",
    "22: <b>Instructional Staff</b> is said to be sued for \" Activities associated with assisting the instructional staff with the content and process of providing learning experiences for students.\" (CDE, <i>Chart of Accounts_1617.xlsx</i>, sheet: SRE). \n",
    "<br>\n",
    "11: <b>Regular Education</b> *There are no other detail information provided on what Regular Education entails.\n",
    "</div>"
   ]
  },
  {
   "cell_type": "markdown",
   "metadata": {},
   "source": [
    "#### Let's look at the least 5 used SRE Codes: "
   ]
  },
  {
   "cell_type": "code",
   "execution_count": 32,
   "metadata": {},
   "outputs": [
    {
     "data": {
      "text/plain": [
       "75    3\n",
       "42    2\n",
       "7     1\n",
       "1     1\n",
       "29    1\n",
       "dtype: int64"
      ]
     },
     "execution_count": 32,
     "metadata": {},
     "output_type": "execute_result"
    }
   ],
   "source": [
    "# Look at SRE Code tail\n",
    "COK12_sreCodes.tail()"
   ]
  },
  {
   "cell_type": "markdown",
   "metadata": {},
   "source": [
    "#### Of the 5 least used SRE Codes, the fewest used are as follows:\n",
    "<br>\n",
    "75: <b>Other</b> SRE Code is said to be used for \"SRE codes 60 through 89 are available for district use\"  (CDE, <i>Chart of Accounts_1617.xlsx</i>, sheet: SRE).\n",
    "<br>\n",
    "42: <b>Site Improvement Services</b> is said to be used for \"Activities concerned with improving sites, and with maintaining existing site improvements\" (CDE, <i>Chart of Accounts_1617.xlsx</i>, sheet: SRE).\n",
    "<br>\n",
    "7: <b>Not found within the Chart of Accounts fiscal year 2016-2017.</b>\n",
    "<br>\n",
    "1: <b>Not found within the Chart of Accounts fiscal year 2016-2017.</b>\n",
    "<br>\n",
    "29: <b>Other</b> is said toe be used for, \"All other support services not classified elsewhere in the 20 series\" \"  (CDE, <i>Chart of Accounts_1617.xlsx</i>, sheet: SRE)."
   ]
  },
  {
   "cell_type": "markdown",
   "metadata": {},
   "source": [
    "### Investigate the top 5 used program_code Codes\n",
    "\n",
    "DEFINITION:\n",
    "<br>\n",
    "\"<b>Program</b> - a dimension which describes the activity for which a service or material object is acquired. The programs of a school district are classified into six broad areas:  Instruction, Support Services, Operation of Non-Instructional Services, Facilities Acquisition and Construction Services, Other Uses, and Reserves\" (CDE, <i>FY16-17 Chart of Accounts</i>, p. 6).\n",
    "\n",
    "REMEMBER:\n",
    "<BR>\n",
    "\"A program is a plan of activities and procedures designed to accomplish a predetermined objective or set of objectives. The program dimension provides the school district a framework to classify expenditures to determine total costs of attaining such predetermined objectives.  The program dimension allows a school district to charge costs, instructional and support, directly to the benefiting program\" (CDE, <i>FY16-17 Chart of Accounts</i>, p. 27)."
   ]
  },
  {
   "cell_type": "markdown",
   "metadata": {},
   "source": [
    "#### Investigate why the value <u>0</u> is the most used program_code"
   ]
  },
  {
   "cell_type": "code",
   "execution_count": 33,
   "metadata": {},
   "outputs": [
    {
     "data": {
      "text/plain": [
       "0       39439\n",
       "2400    21585\n",
       "10      19640\n",
       "2200    18478\n",
       "2100    17312\n",
       "1700    14123\n",
       "dtype: int64"
      ]
     },
     "execution_count": 33,
     "metadata": {},
     "output_type": "execute_result"
    }
   ],
   "source": [
    "# Let's see the top 5 used program_code values:\n",
    "COK12_programCodes = pd.value_counts(COK12_df2['program_code'].values,sort=True)\n",
    "COK12_programCodes.head(6)"
   ]
  },
  {
   "cell_type": "markdown",
   "metadata": {},
   "source": [
    "<div class=\"alert alert-block alert-info\">\n",
    "<b>Detail breakdown of the top 5 used Program Codes:</b>\n",
    "<br>\n",
    "0: <b>Zero \"0\" program_code accounts for 39,439 financially funded items.</b>\n",
    "<br>\n",
    "2400: Support Services - School Administration\n",
    "<br>\n",
    "10: General Elementary Education\n",
    "<br>\n",
    "2200: Support Services - Instructional Staff\n",
    "<br>\n",
    "2100: Support Services - Students\n",
    "<br>\n",
    "1700: Special Education\n",
    "</div>"
   ]
  },
  {
   "cell_type": "markdown",
   "metadata": {},
   "source": [
    "#### Look at the least 5 used Program Codes used:"
   ]
  },
  {
   "cell_type": "code",
   "execution_count": 34,
   "metadata": {},
   "outputs": [
    {
     "data": {
      "text/plain": [
       "1969    1\n",
       "1771    1\n",
       "1972    1\n",
       "2122    1\n",
       "2161    1\n",
       "dtype: int64"
      ]
     },
     "execution_count": 34,
     "metadata": {},
     "output_type": "execute_result"
    }
   ],
   "source": [
    "# Look at program code tail\n",
    "COK12_programCodes.tail()"
   ]
  },
  {
   "cell_type": "markdown",
   "metadata": {},
   "source": [
    "#### Of the 5 least used Program Codes shown below, the fewest used are as follows:\n",
    "<br>\n",
    "1969: <b>Not found within the Chart of Accounts fiscal year 2016-2017.</b> \n",
    "<br>\n",
    "1771: Speech Pathology Services\n",
    "<br>\n",
    "1972: <b>Not found within the Chart of Accounts fiscal year 2016-2017.</b>\n",
    "<br>\n",
    "2122: Counseling Services\n",
    "<br>\n",
    "29: <b>Not found within the Chart of Accounts fiscal year 2016-2017.</b>"
   ]
  },
  {
   "cell_type": "markdown",
   "metadata": {},
   "source": [
    "### Investigate the top 5 used object_source_code Codes\n",
    "\n",
    "DEFINITION:\n",
    "<br>\n",
    "\"<b>Source/Object/Balance Sheet</b> - a combination dimension which is used to identify the type of account: Balance Sheet, Revenue (Sources), or Expenditure (Object).  Object is the service or commodity obtained\" (CDE, <i>FY16-17 Chart of Accounts</i>, p. 6).\n",
    "\n",
    "NOTE:\n",
    "<br>\n",
    "\"The Object/Source/Balance Sheet is the eighth code of the account string.  It is a multiplepurpose four-digit code.  The first digit identifies the account type and determines the dimension and purpose. See details below.\" (CDE, <i>FY16-17 Chart of Accounts</i>, p. 123).\n",
    "\n",
    "### Object/Source/Balance Sheet\n",
    "![Revenue](Images/obsSheet.PNG)\n",
    "\n",
    "REMEMBER:\n",
    "<br>\n",
    "Within the Colorado Department of Education Financial Prolicies and Procedures Chart of Accounts (fiscal year 2016-2017), Object Source Code or Source/Object code are defined as an account code element:\n",
    "<br>"
   ]
  },
  {
   "cell_type": "code",
   "execution_count": 36,
   "metadata": {},
   "outputs": [
    {
     "data": {
      "text/plain": [
       "100    50875\n",
       "200    50215\n",
       "600    33490\n",
       "500    11008\n",
       "580    10824\n",
       "dtype: int64"
      ]
     },
     "execution_count": 36,
     "metadata": {},
     "output_type": "execute_result"
    }
   ],
   "source": [
    "# Let's see the top 5 used object_source_code values:\n",
    "COK12_objectSourceCodes = pd.value_counts(COK12_df2['object_source_code'].values,sort=True)\n",
    "COK12_objectSourceCodes.head()"
   ]
  },
  {
   "cell_type": "markdown",
   "metadata": {},
   "source": [
    "<div class=\"alert alert-block alert-info\">\n",
    "<b>Detail breakdown of the top 5 used Object Source Balance Codes:</b>\n",
    "<br>\n",
    "100: Salaries\n",
    "<br>\n",
    "200: Employee Benefits\n",
    "<br>\n",
    "600: Supplies\n",
    "<br>\n",
    "500: Other Purchased Services\n",
    "<br>\n",
    "580: Travel, Registration, and Entrance\n",
    "</div>"
   ]
  },
  {
   "cell_type": "markdown",
   "metadata": {},
   "source": [
    "#### Revenue, Expenditure, and Balance Sheet Account Code Structure\n",
    "<br>\n",
    "NOTE:\n",
    "\n",
    "\"The following illustrations present the basic account code structure for each account type by a series of Xs and hyphens.  Each X designates the placement of a numerical digit (which can include zero) in the account code\" (CDE, <i>FY16-17 Chart of Accounts</i>, p. 8). (More information later on the account code structure.)\n",
    "\n",
    "\"Offset to Source Codes 1956, 3956, and 4956, used with the appropriate grant code, which may be zero\" (CDE, <i>FY16-17 Chart of Accounts</i>, p. 134).\n",
    "\n",
    "\"Offset to Object Code 0596, used with the appropriate grant code, which may be zero\" (CDE, <i>FY16-17 Chart of Accounts</i>, p. 151).\n",
    "\n",
    "\"Offset to Source Codes 1956, 3956, and 4956, used with the appropriate grant code, which may be zero\" (CDE, <i>FY16-17 Chart of Accounts</i>, p. 257).\n",
    "<br>\n",
    "<br>\n",
    "All three account types—revenues, expenditures, and balance sheet accounts—use the same basic multidimensional account code structure as shown below:"
   ]
  },
  {
   "cell_type": "markdown",
   "metadata": {},
   "source": [
    "## <center>Revenue, Expenditure, and Balance Sheet Account Code Structure</center>\n",
    "\n",
    "All three account types—revenues, expenditures, and balance sheet accounts—use the same basic multidimensional account code structure as shown below:\n",
    "\n",
    "### This is the Dimensions of the REVENUE account code structure:\n",
    "![Revenue](Images/revDIM.PNG)\n",
    "\n",
    "### This is the Dimensions of the EXPENDITURE account code structure:\n",
    "![Revenue](Images/expDIM.PNG)\n",
    "\n",
    "### This is the Dimensions of the BALANCE account code structure:\n",
    "![Revenue](Images/bsDIM.PNG)\n",
    "\n",
    "<br>\n",
    "(CDE, <i>FY16-17 Chart of Accounts</i> pg. 7)\n",
    "<br>\n",
    "<br>\n",
    "Reference:\n",
    "<br>\n",
    "<br>\n",
    "Colorado Department of Education. (2016, July 1). Chart of Accounts: 2016-17. Copyright © 1999-2020 Colorado Department of Education. Retrieved from https://www.cde.state.co.us/cdefinance/fpp_coa1617 "
   ]
  },
  {
   "cell_type": "markdown",
   "metadata": {},
   "source": [
    "## <center>Format of Accounts</center>\n",
    "\n",
    "### This is the format and sequencing of the elements in the REVENUE account code:\n",
    "![Revenue](Images/revCOA.PNG)\n",
    "\n",
    "### This is the format and sequencing of the elements in the EXPENDITURE account code:\n",
    "![Expenditure](Images/expCOA.PNG)\n",
    "\n",
    "### This is the format and sequencing of the elements in the BALANCE account code:\n",
    "![Balance](Images/bsCOA.PNG)\n",
    "\n",
    "<br>\n",
    "(CDE, <i>FY16-17 Chart of Accounts</i> pg. 8, and 9).\n",
    "<br>\n",
    "<br>\n",
    "Reference:\n",
    "<br>\n",
    "<br>\n",
    "Colorado Department of Education. (2016, July 1). Chart of Accounts: 2016-17. Copyright © 1999-2020 Colorado Department of Education. Retrieved from https://www.cde.state.co.us/cdefinance/fpp_coa1617 "
   ]
  },
  {
   "cell_type": "markdown",
   "metadata": {},
   "source": [
    "#### Let's look at the least 5 Object Source Balance Codes used: "
   ]
  },
  {
   "cell_type": "code",
   "execution_count": 37,
   "metadata": {},
   "outputs": [
    {
     "data": {
      "text/plain": [
       "3240    1\n",
       "1810    1\n",
       "7441    1\n",
       "618     1\n",
       "0       1\n",
       "dtype: int64"
      ]
     },
     "execution_count": 37,
     "metadata": {},
     "output_type": "execute_result"
    }
   ],
   "source": [
    "# Look at object_source_code tail\n",
    "COK12_objectSourceCodes.tail()"
   ]
  },
  {
   "cell_type": "markdown",
   "metadata": {},
   "source": [
    "#### Of the 5 least used Object Source Balance Codes shown below, the fewest  used are as follows:\n",
    "<br>\n",
    "3240: <b>Not found within the Chart of Accounts fiscal year 2016-2017.</b>\n",
    "<br>\n",
    "1810: Adult Education\n",
    "<br>\n",
    "7441: Matured bonds payable\n",
    "<br>\n",
    "618: <b>Not found within the Chart of Accounts fiscal year 2016-2017.</b>\n",
    "<br>\n",
    "0: <b>object_source_code <u>Zero \"0\"</u> account for 1 financially funded Object/Source/Balance code.</b>"
   ]
  },
  {
   "cell_type": "markdown",
   "metadata": {},
   "source": [
    "### Investigate the top 5 used job_class_code Codes\n",
    "\n",
    "DEFINITION:\n",
    "<br>\n",
    "\"<b>Job Classification</b> - a dimension which enables school districts to break down expenditures for salaries and employee benefits by the employee’s job classification\" (CDE, <i>FY16-17 Chart of Accounts</i>, p. 6).\n",
    "\n",
    "NOTE:\n",
    "<br>\n",
    "\"The job classification dimension enables school district to break down expenditures for salaries and employee benefits by the employee's job classification.  This dimension is used at least three ways in school accounting:  (1) to classify payroll costs for personnel purposes; (2) to segregate certified and non-certified salaries and benefits; and, (3) to accumulate payroll costs by bargaining unit for purposes of labor negotiations\" (CDE, <i>FY16-17 Chart of Accounts</i>, p. 167).\n",
    "\n",
    "\"Currently, the required reporting level of detail for this dimension for Finance December Data Pipeline is minimal (100 Administrator; 200 Professional - Instructional; 300 Professional - Other; 400 Paraprofessional; 500 Office/Administrative Support; and, 600 Crafts, Trades, and Services)\" (CDE, <i>FY16-17 Chart of Accounts</i>, p. 167).\n",
    "\n",
    "REMEMBER:\n",
    "<br>\n",
    "\"The job classification dimension applies only to expenditure accounts with object codes 0100 through 0299.  The job classification dimension is not applicable for: expenditure accounts with object codes 0300 to 0999; revenue accounts; or, balance sheet accounts\" (CDE, <i>FY16-17 Chart of Accounts</i>, p. 167)."
   ]
  },
  {
   "cell_type": "code",
   "execution_count": 37,
   "metadata": {},
   "outputs": [
    {
     "data": {
      "text/plain": [
       "0      172392\n",
       "200     52661\n",
       "400     21075\n",
       "600      7722\n",
       "500      7504\n",
       "100      7274\n",
       "dtype: int64"
      ]
     },
     "execution_count": 37,
     "metadata": {},
     "output_type": "execute_result"
    }
   ],
   "source": [
    "# Let's see the top 5 used job_class_code values:\n",
    "COK12_jobClassCodes = pd.value_counts(COK12_df2['job_class_code'].values,sort=True)\n",
    "COK12_jobClassCodes.head(6)"
   ]
  },
  {
   "cell_type": "markdown",
   "metadata": {},
   "source": [
    "<div class=\"alert alert-block alert-info\">\n",
    "<b>Detail breakdown of the top 5 used Job Class Codes:</b>\n",
    "<br>\n",
    "0: <b>Zero \"0\" job_class_code account for 172,392 financially funded items.</b>\n",
    "<br>\n",
    "200: Professional - Instructional\n",
    "<br>\n",
    "400: Paraprofessionals\n",
    "<br>\n",
    "    600: <b>Not found within the Chart of Accounts fiscal year 2016-2017.</b>\n",
    "<br>\n",
    "    500: <b>Not found within the Chart of Accounts fiscal year 2016-2017.</b>\n",
    "<br>\n",
    "100: Administrator\n",
    "</div>"
   ]
  },
  {
   "cell_type": "markdown",
   "metadata": {},
   "source": [
    "#### Investigate why the value <u>0</u> is the most used job_class_code\n",
    "\n",
    "NOTE:\n",
    "\"Districts are advised against adding codes beyond what is defined in this section since adding codes could create future problems if the required reporting level is expanded\" (CDE, <i>FY16-17 Chart of Accounts</i>, p. 167).\n",
    "\n",
    "<b>This could be a result at to why <u>0</u> is amongst the highest job_class_code used.</b>"
   ]
  },
  {
   "cell_type": "markdown",
   "metadata": {},
   "source": [
    "#### Okay, let's look at the least 5 Job Class Codes used: "
   ]
  },
  {
   "cell_type": "code",
   "execution_count": 38,
   "metadata": {},
   "outputs": [
    {
     "ename": "NameError",
     "evalue": "name 'COK12_jobClassCodes' is not defined",
     "output_type": "error",
     "traceback": [
      "\u001b[1;31m---------------------------------------------------------------------------\u001b[0m",
      "\u001b[1;31mNameError\u001b[0m                                 Traceback (most recent call last)",
      "\u001b[1;32m<ipython-input-38-6c379b5e7a9b>\u001b[0m in \u001b[0;36m<module>\u001b[1;34m\u001b[0m\n\u001b[0;32m      1\u001b[0m \u001b[1;31m# Look at job class code tail\u001b[0m\u001b[1;33m\u001b[0m\u001b[1;33m\u001b[0m\u001b[1;33m\u001b[0m\u001b[0m\n\u001b[1;32m----> 2\u001b[1;33m \u001b[0mCOK12_jobClassCodes\u001b[0m\u001b[1;33m.\u001b[0m\u001b[0mtail\u001b[0m\u001b[1;33m(\u001b[0m\u001b[1;33m)\u001b[0m\u001b[1;33m\u001b[0m\u001b[1;33m\u001b[0m\u001b[0m\n\u001b[0m",
      "\u001b[1;31mNameError\u001b[0m: name 'COK12_jobClassCodes' is not defined"
     ]
    }
   ],
   "source": [
    "# Look at job class code tail\n",
    "COK12_jobClassCodes.tail()"
   ]
  },
  {
   "cell_type": "markdown",
   "metadata": {},
   "source": [
    "#### Of the Job Class Codes used, the fewest codes used are as follows:\n",
    "<br>\n",
    "630: Vehicle Operator\n",
    "<br>\n",
    "634: Student Worker\n",
    "<br>\n",
    "601: Brick Mason \n",
    "<br>\n",
    "401: Bilingual Assistant\n",
    "<br>\n",
    "417: Teaching/Classroom Technician"
   ]
  },
  {
   "cell_type": "markdown",
   "metadata": {},
   "source": [
    "### Investigate the top 5 used grant_code Codes\n",
    "\n",
    "DEFINITION:\n",
    "<br>\n",
    "\"<b>Designated Grant/Project</b> - an award of financial assistance in the form of cash or a contribution or gift of other assets from another government to an eligible grantee to be used for a specified or designated purpose, activity or facility. \" (CDE, <i>FY16-17 Chart of Accounts</i>, p. 6).\n",
    "\n",
    "NOTE:\n",
    "<br>\n",
    "\"This dimension is intended to provide a means of segregating financial data associated with specific grants and categorical funding projects.  A GRANT is an award of financial assistance in the form of cash or a contribution or gift of other assets from another government to an eligible grantee to be used for a specified or designated purpose, activity, or facility.  Categorical funding is financial assistance to help offset costs of providing services related to specific PROJECTS such as Vocational Education, Exceptional Children’s Educational Act (which includes special education, and gifted and talented education), and English Language Proficiency Act\" (CDE, <i>FY16-17 Chart of Accounts</i>, p. 184).\n",
    "\n",
    "REMEMBER:\n",
    "<br>\n",
    "\"The designated grants/projects dimension serves a dual purpose:  verifying that special grant and project revenues which are provided for specified or designated purposes are expended for those purposes; and, identifying total project expenditures--regardless of, and in excess of, special revenue.  Project expenditures in excess of categorical revenues are assumed to be subsidies\" (CDE, <i>FY16-17 Chart of Accounts</i>, p. 184)."
   ]
  },
  {
   "cell_type": "code",
   "execution_count": 39,
   "metadata": {},
   "outputs": [
    {
     "data": {
      "text/plain": [
       "0       197260\n",
       "3130     11884\n",
       "4010      9629\n",
       "1         8084\n",
       "3120      4242\n",
       "3140      4095\n",
       "dtype: int64"
      ]
     },
     "execution_count": 39,
     "metadata": {},
     "output_type": "execute_result"
    }
   ],
   "source": [
    "# Let's see the top 5 used grant_code values:\n",
    "COK12_grantCodes = pd.value_counts(COK12_df2['grant_code'].values,sort=True)\n",
    "COK12_grantCodes.head(6)"
   ]
  },
  {
   "cell_type": "markdown",
   "metadata": {},
   "source": [
    "#### Investigate why the value <u>0</u> is the largest used grant_code\n",
    "\n",
    "NOTE:\n",
    "<br>\n",
    "\"How Grant/Project Codes Are Assigned \n",
    "\n",
    "The grant/project code is a four-digit code.  The first digit identifies the revenue source of the grant or project as local, intermediate, state, or federal.  The second, third, and fourth digits are defined by the district for local and intermediate grants, and by the Colorado Department of Education (CDE) for state and federal grants.  See detail below.\" \n",
    "\n",
    "#### Grant Source Code Assignments\n",
    "![Revenue](Images/grantSource.PNG)\n",
    "\n",
    "(CDE, <i>FY16-17 Chart of Accounts</i>, p. 185)."
   ]
  },
  {
   "cell_type": "markdown",
   "metadata": {},
   "source": [
    "<div class=\"alert alert-block alert-info\">\n",
    "<b>Detail breakdown of the top 5 used Grant Codes</b>\n",
    "<br>    \n",
    "0: <b>Zero \"0\" grant_code account for 197,260 financially funded items.</b>\n",
    "<br>\n",
    "3130: State ECEA (Special Education)\n",
    "<br>\n",
    "4010: No Child Left Behind, Title I, Part A: Improving Basic Programs Operated by Schools. Formula Grant CFDA# 84.010\n",
    "<br>\n",
    "1: Local and Intermediate Project/Grants\n",
    "<br>\n",
    "3120: State Vocational Education (Source 3010)\n",
    "<br>\n",
    "3140: State ELPA\n",
    "</div>"
   ]
  },
  {
   "cell_type": "markdown",
   "metadata": {},
   "source": [
    "#### Now look at the least 5 used Grant Codes: "
   ]
  },
  {
   "cell_type": "code",
   "execution_count": 40,
   "metadata": {},
   "outputs": [
    {
     "data": {
      "text/plain": [
       "3162    1\n",
       "7389    1\n",
       "9005    1\n",
       "1787    1\n",
       "9036    1\n",
       "dtype: int64"
      ]
     },
     "execution_count": 40,
     "metadata": {},
     "output_type": "execute_result"
    }
   ],
   "source": [
    "# Look at grant code tail\n",
    "COK12_grantCodes.tail()"
   ]
  },
  {
   "cell_type": "markdown",
   "metadata": {},
   "source": [
    "#### Of the 5 least used Grant Codes, the fewest are as follows:\n",
    "<br>\n",
    "3162: School Breakfast Program \n",
    "<br>\n",
    "7389: ARRA - Title I, Part A Delinquent CFDA# 84.389\n",
    "<br>\n",
    "9005: Department of Defence Supplemental CFDA# None\n",
    "<br>\n",
    "1787: Not found within the Chart of Accounts fiscal year 2016-2017.\n",
    "<br>\n",
    "9036: Disaster Grants Public Assistance (Presidential Declared Disasters) CFDA# 97.036"
   ]
  },
  {
   "cell_type": "markdown",
   "metadata": {},
   "source": [
    "## <center>Further EDA</center>"
   ]
  },
  {
   "cell_type": "markdown",
   "metadata": {},
   "source": [
    "My Midway SUMMARY of FINDINGS:\n",
    "\n",
    "It seems a lot of the financial codes used within the dataset are either related in some way or by no means is there a greatly known correlation. Depending on the funding reasons, there are many anomolies and outliers to consider. Further Exploratory Data Analysis (EDA) needs to be conducted. While I have personally found some columns that may not necessarily provide vital information to the purpose of the project, I believe that I will not be able to get to the root cause of the project research questions without eliminating those columns of little value. In particular to reaching some solid answers to complete this project, I have made the executive decision to omit sre_code, job_class_code, and grant_code. Each of these columns contain values that do not pertain to why funding is spent but rather special circumstances within the spent funds of the Colorado K12 Financial Transparency data set. \n",
    "\n",
    "Moving on and as suggested by fellow peers, I will subset column values as I move forward. First, let's see what we can learn from grouping columns and bring further breadth of knowledge to what can be of benefit."
   ]
  },
  {
   "cell_type": "code",
   "execution_count": 41,
   "metadata": {},
   "outputs": [
    {
     "data": {
      "text/html": [
       "<div>\n",
       "<style scoped>\n",
       "    .dataframe tbody tr th:only-of-type {\n",
       "        vertical-align: middle;\n",
       "    }\n",
       "\n",
       "    .dataframe tbody tr th {\n",
       "        vertical-align: top;\n",
       "    }\n",
       "\n",
       "    .dataframe thead th {\n",
       "        text-align: right;\n",
       "    }\n",
       "</style>\n",
       "<table border=\"1\" class=\"dataframe\">\n",
       "  <thead>\n",
       "    <tr style=\"text-align: right;\">\n",
       "      <th></th>\n",
       "      <th>district_code</th>\n",
       "      <th>admin_unit</th>\n",
       "      <th>school_code</th>\n",
       "      <th>fund_code</th>\n",
       "      <th>location_code</th>\n",
       "      <th>sre_code</th>\n",
       "      <th>program_code</th>\n",
       "      <th>object_source_code</th>\n",
       "      <th>job_class_code</th>\n",
       "      <th>grant_code</th>\n",
       "      <th>amount_cents</th>\n",
       "    </tr>\n",
       "  </thead>\n",
       "  <tbody>\n",
       "    <tr>\n",
       "      <th>0</th>\n",
       "      <td>3080</td>\n",
       "      <td>64203</td>\n",
       "      <td>0</td>\n",
       "      <td>10</td>\n",
       "      <td>600</td>\n",
       "      <td>0</td>\n",
       "      <td>20</td>\n",
       "      <td>100</td>\n",
       "      <td>200</td>\n",
       "      <td>0</td>\n",
       "      <td>71250</td>\n",
       "    </tr>\n",
       "    <tr>\n",
       "      <th>1</th>\n",
       "      <td>3080</td>\n",
       "      <td>64203</td>\n",
       "      <td>0</td>\n",
       "      <td>10</td>\n",
       "      <td>600</td>\n",
       "      <td>0</td>\n",
       "      <td>10</td>\n",
       "      <td>100</td>\n",
       "      <td>200</td>\n",
       "      <td>4010</td>\n",
       "      <td>13841274</td>\n",
       "    </tr>\n",
       "    <tr>\n",
       "      <th>2</th>\n",
       "      <td>3080</td>\n",
       "      <td>64203</td>\n",
       "      <td>0</td>\n",
       "      <td>10</td>\n",
       "      <td>700</td>\n",
       "      <td>0</td>\n",
       "      <td>2700</td>\n",
       "      <td>100</td>\n",
       "      <td>100</td>\n",
       "      <td>0</td>\n",
       "      <td>12171639</td>\n",
       "    </tr>\n",
       "    <tr>\n",
       "      <th>3</th>\n",
       "      <td>3080</td>\n",
       "      <td>64203</td>\n",
       "      <td>0</td>\n",
       "      <td>21</td>\n",
       "      <td>700</td>\n",
       "      <td>0</td>\n",
       "      <td>3100</td>\n",
       "      <td>100</td>\n",
       "      <td>100</td>\n",
       "      <td>0</td>\n",
       "      <td>4079700</td>\n",
       "    </tr>\n",
       "    <tr>\n",
       "      <th>4</th>\n",
       "      <td>3080</td>\n",
       "      <td>64203</td>\n",
       "      <td>4854</td>\n",
       "      <td>10</td>\n",
       "      <td>200</td>\n",
       "      <td>0</td>\n",
       "      <td>1700</td>\n",
       "      <td>100</td>\n",
       "      <td>400</td>\n",
       "      <td>3130</td>\n",
       "      <td>8660925</td>\n",
       "    </tr>\n",
       "    <tr>\n",
       "      <th>...</th>\n",
       "      <td>...</td>\n",
       "      <td>...</td>\n",
       "      <td>...</td>\n",
       "      <td>...</td>\n",
       "      <td>...</td>\n",
       "      <td>...</td>\n",
       "      <td>...</td>\n",
       "      <td>...</td>\n",
       "      <td>...</td>\n",
       "      <td>...</td>\n",
       "      <td>...</td>\n",
       "    </tr>\n",
       "    <tr>\n",
       "      <th>156473</th>\n",
       "      <td>3148</td>\n",
       "      <td>64203</td>\n",
       "      <td>6812</td>\n",
       "      <td>10</td>\n",
       "      <td>800</td>\n",
       "      <td>0</td>\n",
       "      <td>2850</td>\n",
       "      <td>525</td>\n",
       "      <td>0</td>\n",
       "      <td>0</td>\n",
       "      <td>206878</td>\n",
       "    </tr>\n",
       "    <tr>\n",
       "      <th>156518</th>\n",
       "      <td>3148</td>\n",
       "      <td>64203</td>\n",
       "      <td>6812</td>\n",
       "      <td>21</td>\n",
       "      <td>700</td>\n",
       "      <td>0</td>\n",
       "      <td>3100</td>\n",
       "      <td>631</td>\n",
       "      <td>0</td>\n",
       "      <td>0</td>\n",
       "      <td>264425</td>\n",
       "    </tr>\n",
       "    <tr>\n",
       "      <th>156521</th>\n",
       "      <td>3148</td>\n",
       "      <td>64203</td>\n",
       "      <td>6812</td>\n",
       "      <td>21</td>\n",
       "      <td>700</td>\n",
       "      <td>0</td>\n",
       "      <td>3100</td>\n",
       "      <td>634</td>\n",
       "      <td>0</td>\n",
       "      <td>0</td>\n",
       "      <td>629105</td>\n",
       "    </tr>\n",
       "    <tr>\n",
       "      <th>189855</th>\n",
       "      <td>880</td>\n",
       "      <td>16010</td>\n",
       "      <td>8945</td>\n",
       "      <td>11</td>\n",
       "      <td>966</td>\n",
       "      <td>0</td>\n",
       "      <td>2700</td>\n",
       "      <td>512</td>\n",
       "      <td>0</td>\n",
       "      <td>0</td>\n",
       "      <td>1278176</td>\n",
       "    </tr>\n",
       "    <tr>\n",
       "      <th>229867</th>\n",
       "      <td>1410</td>\n",
       "      <td>64123</td>\n",
       "      <td>6358</td>\n",
       "      <td>19</td>\n",
       "      <td>100</td>\n",
       "      <td>0</td>\n",
       "      <td>40</td>\n",
       "      <td>593</td>\n",
       "      <td>0</td>\n",
       "      <td>3141</td>\n",
       "      <td>62469</td>\n",
       "    </tr>\n",
       "  </tbody>\n",
       "</table>\n",
       "<p>1712 rows × 11 columns</p>\n",
       "</div>"
      ],
      "text/plain": [
       "        district_code  admin_unit  school_code  fund_code  location_code  \\\n",
       "0                3080       64203            0         10            600   \n",
       "1                3080       64203            0         10            600   \n",
       "2                3080       64203            0         10            700   \n",
       "3                3080       64203            0         21            700   \n",
       "4                3080       64203         4854         10            200   \n",
       "...               ...         ...          ...        ...            ...   \n",
       "156473           3148       64203         6812         10            800   \n",
       "156518           3148       64203         6812         21            700   \n",
       "156521           3148       64203         6812         21            700   \n",
       "189855            880       16010         8945         11            966   \n",
       "229867           1410       64123         6358         19            100   \n",
       "\n",
       "        sre_code  program_code  object_source_code  job_class_code  \\\n",
       "0              0            20                 100             200   \n",
       "1              0            10                 100             200   \n",
       "2              0          2700                 100             100   \n",
       "3              0          3100                 100             100   \n",
       "4              0          1700                 100             400   \n",
       "...          ...           ...                 ...             ...   \n",
       "156473         0          2850                 525               0   \n",
       "156518         0          3100                 631               0   \n",
       "156521         0          3100                 634               0   \n",
       "189855         0          2700                 512               0   \n",
       "229867         0            40                 593               0   \n",
       "\n",
       "        grant_code  amount_cents  \n",
       "0                0         71250  \n",
       "1             4010      13841274  \n",
       "2                0      12171639  \n",
       "3                0       4079700  \n",
       "4             3130       8660925  \n",
       "...            ...           ...  \n",
       "156473           0        206878  \n",
       "156518           0        264425  \n",
       "156521           0        629105  \n",
       "189855           0       1278176  \n",
       "229867        3141         62469  \n",
       "\n",
       "[1712 rows x 11 columns]"
      ]
     },
     "execution_count": 41,
     "metadata": {},
     "output_type": "execute_result"
    }
   ],
   "source": [
    "# Let's groupBy object_source_code codes.\n",
    "COK12_groupByOSC = COK12_df2.groupby('object_source_code')\n",
    "COK12_groupByOSC.head()"
   ]
  },
  {
   "cell_type": "code",
   "execution_count": 42,
   "metadata": {},
   "outputs": [],
   "source": [
    "# Try to melt function to identify each object source code by other financial code columns\n",
    "longOSC = pd.melt(COK12_df2, \n",
    "    id_vars=['object_source_code'])"
   ]
  },
  {
   "cell_type": "code",
   "execution_count": 43,
   "metadata": {},
   "outputs": [
    {
     "data": {
      "text/html": [
       "<div>\n",
       "<style scoped>\n",
       "    .dataframe tbody tr th:only-of-type {\n",
       "        vertical-align: middle;\n",
       "    }\n",
       "\n",
       "    .dataframe tbody tr th {\n",
       "        vertical-align: top;\n",
       "    }\n",
       "\n",
       "    .dataframe thead th {\n",
       "        text-align: right;\n",
       "    }\n",
       "</style>\n",
       "<table border=\"1\" class=\"dataframe\">\n",
       "  <thead>\n",
       "    <tr style=\"text-align: right;\">\n",
       "      <th></th>\n",
       "      <th>object_source_code</th>\n",
       "      <th>variable</th>\n",
       "      <th>value</th>\n",
       "    </tr>\n",
       "  </thead>\n",
       "  <tbody>\n",
       "    <tr>\n",
       "      <th>0</th>\n",
       "      <td>100</td>\n",
       "      <td>district_code</td>\n",
       "      <td>3080</td>\n",
       "    </tr>\n",
       "    <tr>\n",
       "      <th>1</th>\n",
       "      <td>100</td>\n",
       "      <td>district_code</td>\n",
       "      <td>3080</td>\n",
       "    </tr>\n",
       "    <tr>\n",
       "      <th>2</th>\n",
       "      <td>100</td>\n",
       "      <td>district_code</td>\n",
       "      <td>3080</td>\n",
       "    </tr>\n",
       "    <tr>\n",
       "      <th>3</th>\n",
       "      <td>100</td>\n",
       "      <td>district_code</td>\n",
       "      <td>3080</td>\n",
       "    </tr>\n",
       "    <tr>\n",
       "      <th>4</th>\n",
       "      <td>100</td>\n",
       "      <td>district_code</td>\n",
       "      <td>3080</td>\n",
       "    </tr>\n",
       "  </tbody>\n",
       "</table>\n",
       "</div>"
      ],
      "text/plain": [
       "   object_source_code       variable  value\n",
       "0                 100  district_code   3080\n",
       "1                 100  district_code   3080\n",
       "2                 100  district_code   3080\n",
       "3                 100  district_code   3080\n",
       "4                 100  district_code   3080"
      ]
     },
     "execution_count": 43,
     "metadata": {},
     "output_type": "execute_result"
    }
   ],
   "source": [
    "longOSC.head()"
   ]
  },
  {
   "cell_type": "code",
   "execution_count": 44,
   "metadata": {},
   "outputs": [
    {
     "data": {
      "text/html": [
       "<div>\n",
       "<style scoped>\n",
       "    .dataframe tbody tr th:only-of-type {\n",
       "        vertical-align: middle;\n",
       "    }\n",
       "\n",
       "    .dataframe tbody tr th {\n",
       "        vertical-align: top;\n",
       "    }\n",
       "\n",
       "    .dataframe thead th {\n",
       "        text-align: right;\n",
       "    }\n",
       "</style>\n",
       "<table border=\"1\" class=\"dataframe\">\n",
       "  <thead>\n",
       "    <tr style=\"text-align: right;\">\n",
       "      <th></th>\n",
       "      <th>object_source_code</th>\n",
       "      <th>variable</th>\n",
       "      <th>value</th>\n",
       "    </tr>\n",
       "  </thead>\n",
       "  <tbody>\n",
       "    <tr>\n",
       "      <th>2806855</th>\n",
       "      <td>810</td>\n",
       "      <td>amount_cents</td>\n",
       "      <td>340700</td>\n",
       "    </tr>\n",
       "    <tr>\n",
       "      <th>2806856</th>\n",
       "      <td>810</td>\n",
       "      <td>amount_cents</td>\n",
       "      <td>-700</td>\n",
       "    </tr>\n",
       "    <tr>\n",
       "      <th>2806857</th>\n",
       "      <td>810</td>\n",
       "      <td>amount_cents</td>\n",
       "      <td>45477</td>\n",
       "    </tr>\n",
       "    <tr>\n",
       "      <th>2806858</th>\n",
       "      <td>810</td>\n",
       "      <td>amount_cents</td>\n",
       "      <td>24500</td>\n",
       "    </tr>\n",
       "    <tr>\n",
       "      <th>2806859</th>\n",
       "      <td>810</td>\n",
       "      <td>amount_cents</td>\n",
       "      <td>2499</td>\n",
       "    </tr>\n",
       "  </tbody>\n",
       "</table>\n",
       "</div>"
      ],
      "text/plain": [
       "         object_source_code      variable   value\n",
       "2806855                 810  amount_cents  340700\n",
       "2806856                 810  amount_cents    -700\n",
       "2806857                 810  amount_cents   45477\n",
       "2806858                 810  amount_cents   24500\n",
       "2806859                 810  amount_cents    2499"
      ]
     },
     "execution_count": 44,
     "metadata": {},
     "output_type": "execute_result"
    }
   ],
   "source": [
    "longOSC.tail()"
   ]
  },
  {
   "cell_type": "code",
   "execution_count": 55,
   "metadata": {},
   "outputs": [
    {
     "data": {
      "text/plain": [
       "100    508750\n",
       "200    502150\n",
       "600    334900\n",
       "500    110080\n",
       "580    108240\n",
       "dtype: int64"
      ]
     },
     "execution_count": 55,
     "metadata": {},
     "output_type": "execute_result"
    }
   ],
   "source": [
    "OCS_count = pd.value_counts(longOSC['object_source_code'].values,sort=True)\n",
    "OCS_count.head()"
   ]
  },
  {
   "cell_type": "code",
   "execution_count": 56,
   "metadata": {},
   "outputs": [
    {
     "data": {
      "text/plain": [
       "6751    10\n",
       "605     10\n",
       "607     10\n",
       "612     10\n",
       "0       10\n",
       "dtype: int64"
      ]
     },
     "execution_count": 56,
     "metadata": {},
     "output_type": "execute_result"
    }
   ],
   "source": [
    "OCS_count.tail()"
   ]
  },
  {
   "cell_type": "code",
   "execution_count": null,
   "metadata": {},
   "outputs": [],
   "source": [
    "# Add a visualization on the object_source_code HERE!!!"
   ]
  },
  {
   "cell_type": "code",
   "execution_count": 58,
   "metadata": {},
   "outputs": [
    {
     "data": {
      "text/plain": [
       "location_code    280686\n",
       "fund_code        280686\n",
       "admin_unit       280686\n",
       "school_code      280686\n",
       "amount_cents     280686\n",
       "dtype: int64"
      ]
     },
     "execution_count": 58,
     "metadata": {},
     "output_type": "execute_result"
    }
   ],
   "source": [
    "OCSV_count = pd.value_counts(longOSC['variable'].values,sort=True)\n",
    "OCSV_count.head()"
   ]
  },
  {
   "cell_type": "code",
   "execution_count": 60,
   "metadata": {},
   "outputs": [
    {
     "data": {
      "text/plain": [
       "program_code      280686\n",
       "district_code     280686\n",
       "sre_code          280686\n",
       "grant_code        280686\n",
       "job_class_code    280686\n",
       "dtype: int64"
      ]
     },
     "execution_count": 60,
     "metadata": {},
     "output_type": "execute_result"
    }
   ],
   "source": [
    "OCSV_count.tail()"
   ]
  },
  {
   "cell_type": "code",
   "execution_count": null,
   "metadata": {},
   "outputs": [],
   "source": [
    "# Add a visualization on the object_source_code Variable HERE!!!"
   ]
  },
  {
   "cell_type": "code",
   "execution_count": 61,
   "metadata": {},
   "outputs": [
    {
     "data": {
      "text/plain": [
       "0      783407\n",
       "10     178649\n",
       "100     88199\n",
       "200     86939\n",
       "300     46437\n",
       "dtype: int64"
      ]
     },
     "execution_count": 61,
     "metadata": {},
     "output_type": "execute_result"
    }
   ],
   "source": [
    "OCSv_count = pd.value_counts(longOSC['value'].values,sort=True)\n",
    "OCSv_count.head()"
   ]
  },
  {
   "cell_type": "code",
   "execution_count": 62,
   "metadata": {},
   "outputs": [
    {
     "data": {
      "text/plain": [
       "454125     1\n",
       "495041     1\n",
       "4476345    1\n",
       "271796     1\n",
       "337060     1\n",
       "dtype: int64"
      ]
     },
     "execution_count": 62,
     "metadata": {},
     "output_type": "execute_result"
    }
   ],
   "source": [
    "OCSv_count.tail()"
   ]
  },
  {
   "cell_type": "code",
   "execution_count": null,
   "metadata": {},
   "outputs": [],
   "source": [
    "# Add a visualization on the object_source_code value HERE!!!"
   ]
  },
  {
   "cell_type": "markdown",
   "metadata": {},
   "source": [
    "### <center>Begin Pre-liminary Visualizations</center>"
   ]
  },
  {
   "cell_type": "code",
   "execution_count": 63,
   "metadata": {},
   "outputs": [],
   "source": [
    "# Import libraries\n",
    "import seaborn as sns\n",
    "import matplotlib\n",
    "import matplotlib.pyplot as plt\n",
    "%matplotlib inline"
   ]
  },
  {
   "cell_type": "code",
   "execution_count": 64,
   "metadata": {},
   "outputs": [
    {
     "data": {
      "text/html": [
       "<div>\n",
       "<style scoped>\n",
       "    .dataframe tbody tr th:only-of-type {\n",
       "        vertical-align: middle;\n",
       "    }\n",
       "\n",
       "    .dataframe tbody tr th {\n",
       "        vertical-align: top;\n",
       "    }\n",
       "\n",
       "    .dataframe thead th {\n",
       "        text-align: right;\n",
       "    }\n",
       "</style>\n",
       "<table border=\"1\" class=\"dataframe\">\n",
       "  <thead>\n",
       "    <tr style=\"text-align: right;\">\n",
       "      <th></th>\n",
       "      <th>district_code</th>\n",
       "      <th>admin_unit</th>\n",
       "      <th>school_code</th>\n",
       "      <th>fund_code</th>\n",
       "      <th>location_code</th>\n",
       "      <th>sre_code</th>\n",
       "      <th>program_code</th>\n",
       "      <th>object_source_code</th>\n",
       "      <th>job_class_code</th>\n",
       "      <th>grant_code</th>\n",
       "      <th>amount_cents</th>\n",
       "    </tr>\n",
       "  </thead>\n",
       "  <tbody>\n",
       "    <tr>\n",
       "      <th>0</th>\n",
       "      <td>3080</td>\n",
       "      <td>64203</td>\n",
       "      <td>0</td>\n",
       "      <td>10</td>\n",
       "      <td>600</td>\n",
       "      <td>0</td>\n",
       "      <td>20</td>\n",
       "      <td>100</td>\n",
       "      <td>200</td>\n",
       "      <td>0</td>\n",
       "      <td>71250</td>\n",
       "    </tr>\n",
       "    <tr>\n",
       "      <th>1</th>\n",
       "      <td>3080</td>\n",
       "      <td>64203</td>\n",
       "      <td>0</td>\n",
       "      <td>10</td>\n",
       "      <td>600</td>\n",
       "      <td>0</td>\n",
       "      <td>10</td>\n",
       "      <td>100</td>\n",
       "      <td>200</td>\n",
       "      <td>4010</td>\n",
       "      <td>13841274</td>\n",
       "    </tr>\n",
       "    <tr>\n",
       "      <th>2</th>\n",
       "      <td>3080</td>\n",
       "      <td>64203</td>\n",
       "      <td>0</td>\n",
       "      <td>10</td>\n",
       "      <td>700</td>\n",
       "      <td>0</td>\n",
       "      <td>2700</td>\n",
       "      <td>100</td>\n",
       "      <td>100</td>\n",
       "      <td>0</td>\n",
       "      <td>12171639</td>\n",
       "    </tr>\n",
       "    <tr>\n",
       "      <th>3</th>\n",
       "      <td>3080</td>\n",
       "      <td>64203</td>\n",
       "      <td>0</td>\n",
       "      <td>21</td>\n",
       "      <td>700</td>\n",
       "      <td>0</td>\n",
       "      <td>3100</td>\n",
       "      <td>100</td>\n",
       "      <td>100</td>\n",
       "      <td>0</td>\n",
       "      <td>4079700</td>\n",
       "    </tr>\n",
       "    <tr>\n",
       "      <th>4</th>\n",
       "      <td>3080</td>\n",
       "      <td>64203</td>\n",
       "      <td>4854</td>\n",
       "      <td>10</td>\n",
       "      <td>200</td>\n",
       "      <td>0</td>\n",
       "      <td>1700</td>\n",
       "      <td>100</td>\n",
       "      <td>400</td>\n",
       "      <td>3130</td>\n",
       "      <td>8660925</td>\n",
       "    </tr>\n",
       "  </tbody>\n",
       "</table>\n",
       "</div>"
      ],
      "text/plain": [
       "   district_code  admin_unit  school_code  fund_code  location_code  sre_code  \\\n",
       "0           3080       64203            0         10            600         0   \n",
       "1           3080       64203            0         10            600         0   \n",
       "2           3080       64203            0         10            700         0   \n",
       "3           3080       64203            0         21            700         0   \n",
       "4           3080       64203         4854         10            200         0   \n",
       "\n",
       "   program_code  object_source_code  job_class_code  grant_code  amount_cents  \n",
       "0            20                 100             200           0         71250  \n",
       "1            10                 100             200        4010      13841274  \n",
       "2          2700                 100             100           0      12171639  \n",
       "3          3100                 100             100           0       4079700  \n",
       "4          1700                 100             400        3130       8660925  "
      ]
     },
     "execution_count": 64,
     "metadata": {},
     "output_type": "execute_result"
    }
   ],
   "source": [
    "COK12_df2.head()"
   ]
  },
  {
   "cell_type": "code",
   "execution_count": 70,
   "metadata": {},
   "outputs": [
    {
     "data": {
      "image/png": "[encoded data removed]",
      "text/plain": [
       "<Figure size 432x288 with 1 Axes>"
      ]
     },
     "metadata": {
      "needs_background": "light"
     },
     "output_type": "display_data"
    }
   ],
   "source": [
    "# Insert a visualization here for more depth\n",
    "plt.barh(COK12_df2.district_code, COK12_df2.fund_code)\n",
    "plt.xlabel('Fund Code')\n",
    "plt.ylabel('District Code')\n",
    "plt.title('District Codes for Each Fund Code')\n",
    "plt.savefig('DC_FC.png', dpi=300, bbox_inches='tight')"
   ]
  },
  {
   "cell_type": "markdown",
   "metadata": {},
   "source": [
    "### Oh my...the above really took a LONG time...And it still didn't provide any evident information\n",
    "* Need to refine this later..."
   ]
  },
  {
   "cell_type": "code",
   "execution_count": 65,
   "metadata": {},
   "outputs": [
    {
     "data": {
      "image/png": "[encoded data removed]",
      "text/plain": [
       "<Figure size 864x720 with 2 Axes>"
      ]
     },
     "metadata": {
      "needs_background": "light"
     },
     "output_type": "display_data"
    }
   ],
   "source": [
    "#Let's try a correlation matrix instead...\n",
    "corrmat = COK12_df2.corr()\n",
    "f, ax = plt.subplots(figsize=(12,10)) #setting some parameters of the plot to help readability\n",
    "sns.heatmap(corrmat, vmax = .8, square=True, annot=True)\n",
    "plt.savefig('sr_corr.png', dpi=300, bbox_inches='tight')"
   ]
  },
  {
   "cell_type": "markdown",
   "metadata": {},
   "source": [
    "Let's see if we can get around the issues and subset only the pertinent columns. As I have noted, columns sre_code, job_class_code, and grant_code do NOT provide us relevent information on expenses or expenditures by school or district. This was our intiial goal. So let's subset the datframe. I will subst district_code, admin_code, school_code, fund_code, location_code, program_code, object_source_code. I will omit sre_code, job_class_code, and grant_code for the time being."
   ]
  },
  {
   "cell_type": "code",
   "execution_count": 66,
   "metadata": {},
   "outputs": [],
   "source": [
    "#Subset the district code, admin unit, school code, fund code, locaiton code, program code, and ob\n",
    "COK12_subset = COK12_df2[['district_code', 'admin_unit', 'school_code', 'fund_code', 'location_code', 'program_code', 'object_source_code']]"
   ]
  },
  {
   "cell_type": "code",
   "execution_count": 67,
   "metadata": {},
   "outputs": [
    {
     "data": {
      "text/html": [
       "<div>\n",
       "<style scoped>\n",
       "    .dataframe tbody tr th:only-of-type {\n",
       "        vertical-align: middle;\n",
       "    }\n",
       "\n",
       "    .dataframe tbody tr th {\n",
       "        vertical-align: top;\n",
       "    }\n",
       "\n",
       "    .dataframe thead th {\n",
       "        text-align: right;\n",
       "    }\n",
       "</style>\n",
       "<table border=\"1\" class=\"dataframe\">\n",
       "  <thead>\n",
       "    <tr style=\"text-align: right;\">\n",
       "      <th></th>\n",
       "      <th>district_code</th>\n",
       "      <th>admin_unit</th>\n",
       "      <th>school_code</th>\n",
       "      <th>fund_code</th>\n",
       "      <th>location_code</th>\n",
       "      <th>program_code</th>\n",
       "      <th>object_source_code</th>\n",
       "    </tr>\n",
       "  </thead>\n",
       "  <tbody>\n",
       "    <tr>\n",
       "      <th>0</th>\n",
       "      <td>3080</td>\n",
       "      <td>64203</td>\n",
       "      <td>0</td>\n",
       "      <td>10</td>\n",
       "      <td>600</td>\n",
       "      <td>20</td>\n",
       "      <td>100</td>\n",
       "    </tr>\n",
       "    <tr>\n",
       "      <th>1</th>\n",
       "      <td>3080</td>\n",
       "      <td>64203</td>\n",
       "      <td>0</td>\n",
       "      <td>10</td>\n",
       "      <td>600</td>\n",
       "      <td>10</td>\n",
       "      <td>100</td>\n",
       "    </tr>\n",
       "    <tr>\n",
       "      <th>2</th>\n",
       "      <td>3080</td>\n",
       "      <td>64203</td>\n",
       "      <td>0</td>\n",
       "      <td>10</td>\n",
       "      <td>700</td>\n",
       "      <td>2700</td>\n",
       "      <td>100</td>\n",
       "    </tr>\n",
       "    <tr>\n",
       "      <th>3</th>\n",
       "      <td>3080</td>\n",
       "      <td>64203</td>\n",
       "      <td>0</td>\n",
       "      <td>21</td>\n",
       "      <td>700</td>\n",
       "      <td>3100</td>\n",
       "      <td>100</td>\n",
       "    </tr>\n",
       "    <tr>\n",
       "      <th>4</th>\n",
       "      <td>3080</td>\n",
       "      <td>64203</td>\n",
       "      <td>4854</td>\n",
       "      <td>10</td>\n",
       "      <td>200</td>\n",
       "      <td>1700</td>\n",
       "      <td>100</td>\n",
       "    </tr>\n",
       "  </tbody>\n",
       "</table>\n",
       "</div>"
      ],
      "text/plain": [
       "   district_code  admin_unit  school_code  fund_code  location_code  \\\n",
       "0           3080       64203            0         10            600   \n",
       "1           3080       64203            0         10            600   \n",
       "2           3080       64203            0         10            700   \n",
       "3           3080       64203            0         21            700   \n",
       "4           3080       64203         4854         10            200   \n",
       "\n",
       "   program_code  object_source_code  \n",
       "0            20                 100  \n",
       "1            10                 100  \n",
       "2          2700                 100  \n",
       "3          3100                 100  \n",
       "4          1700                 100  "
      ]
     },
     "execution_count": 67,
     "metadata": {},
     "output_type": "execute_result"
    }
   ],
   "source": [
    "COK12_subset.head()"
   ]
  },
  {
   "cell_type": "code",
   "execution_count": 68,
   "metadata": {
    "scrolled": true
   },
   "outputs": [
    {
     "data": {
      "text/html": [
       "<div>\n",
       "<style scoped>\n",
       "    .dataframe tbody tr th:only-of-type {\n",
       "        vertical-align: middle;\n",
       "    }\n",
       "\n",
       "    .dataframe tbody tr th {\n",
       "        vertical-align: top;\n",
       "    }\n",
       "\n",
       "    .dataframe thead th {\n",
       "        text-align: right;\n",
       "    }\n",
       "</style>\n",
       "<table border=\"1\" class=\"dataframe\">\n",
       "  <thead>\n",
       "    <tr style=\"text-align: right;\">\n",
       "      <th></th>\n",
       "      <th>district_code</th>\n",
       "      <th>admin_unit</th>\n",
       "      <th>school_code</th>\n",
       "      <th>fund_code</th>\n",
       "      <th>location_code</th>\n",
       "      <th>program_code</th>\n",
       "      <th>object_source_code</th>\n",
       "    </tr>\n",
       "  </thead>\n",
       "  <tbody>\n",
       "    <tr>\n",
       "      <th>280681</th>\n",
       "      <td>1180</td>\n",
       "      <td>64233</td>\n",
       "      <td>570</td>\n",
       "      <td>10</td>\n",
       "      <td>300</td>\n",
       "      <td>1800</td>\n",
       "      <td>810</td>\n",
       "    </tr>\n",
       "    <tr>\n",
       "      <th>280682</th>\n",
       "      <td>1180</td>\n",
       "      <td>64233</td>\n",
       "      <td>429</td>\n",
       "      <td>11</td>\n",
       "      <td>951</td>\n",
       "      <td>2500</td>\n",
       "      <td>810</td>\n",
       "    </tr>\n",
       "    <tr>\n",
       "      <th>280683</th>\n",
       "      <td>1180</td>\n",
       "      <td>64233</td>\n",
       "      <td>429</td>\n",
       "      <td>11</td>\n",
       "      <td>951</td>\n",
       "      <td>2600</td>\n",
       "      <td>810</td>\n",
       "    </tr>\n",
       "    <tr>\n",
       "      <th>280684</th>\n",
       "      <td>1180</td>\n",
       "      <td>64233</td>\n",
       "      <td>429</td>\n",
       "      <td>11</td>\n",
       "      <td>951</td>\n",
       "      <td>2800</td>\n",
       "      <td>810</td>\n",
       "    </tr>\n",
       "    <tr>\n",
       "      <th>280685</th>\n",
       "      <td>1180</td>\n",
       "      <td>64233</td>\n",
       "      <td>429</td>\n",
       "      <td>11</td>\n",
       "      <td>951</td>\n",
       "      <td>18</td>\n",
       "      <td>810</td>\n",
       "    </tr>\n",
       "  </tbody>\n",
       "</table>\n",
       "</div>"
      ],
      "text/plain": [
       "        district_code  admin_unit  school_code  fund_code  location_code  \\\n",
       "280681           1180       64233          570         10            300   \n",
       "280682           1180       64233          429         11            951   \n",
       "280683           1180       64233          429         11            951   \n",
       "280684           1180       64233          429         11            951   \n",
       "280685           1180       64233          429         11            951   \n",
       "\n",
       "        program_code  object_source_code  \n",
       "280681          1800                 810  \n",
       "280682          2500                 810  \n",
       "280683          2600                 810  \n",
       "280684          2800                 810  \n",
       "280685            18                 810  "
      ]
     },
     "execution_count": 68,
     "metadata": {},
     "output_type": "execute_result"
    }
   ],
   "source": [
    "COK12_subset.tail()"
   ]
  },
  {
   "cell_type": "code",
   "execution_count": 69,
   "metadata": {},
   "outputs": [
    {
     "data": {
      "image/png": "[encoded data removed]",
      "text/plain": [
       "<Figure size 864x720 with 2 Axes>"
      ]
     },
     "metadata": {
      "needs_background": "light"
     },
     "output_type": "display_data"
    }
   ],
   "source": [
    "#Let's try a correlation matrix instead...\n",
    "corrmat = COK12_subset.corr()\n",
    "f, ax = plt.subplots(figsize=(12,10)) #setting some parameters of the plot to help readability\n",
    "sns.heatmap(corrmat, vmax = .8, square=True, annot=True)\n",
    "plt.savefig('sr_corr.png', dpi=300, bbox_inches='tight')"
   ]
  },
  {
   "cell_type": "markdown",
   "metadata": {},
   "source": [
    "# STOPPED HERE!!\n",
    "* YOU NEED TO INVESTIGATE POSSIBLE groupBy columns\n",
    "* You ned to research further correlations for visualization purposes.\n",
    "* You need to get on ML algorithms! ASAP!"
   ]
  },
  {
   "cell_type": "markdown",
   "metadata": {},
   "source": [
    "### Investigate the <u>specific</u> object source codes that have meaning"
   ]
  },
  {
   "cell_type": "code",
   "execution_count": 59,
   "metadata": {
    "scrolled": true
   },
   "outputs": [
    {
     "data": {
      "text/html": [
       "<div>\n",
       "<style scoped>\n",
       "    .dataframe tbody tr th:only-of-type {\n",
       "        vertical-align: middle;\n",
       "    }\n",
       "\n",
       "    .dataframe tbody tr th {\n",
       "        vertical-align: top;\n",
       "    }\n",
       "\n",
       "    .dataframe thead th {\n",
       "        text-align: right;\n",
       "    }\n",
       "</style>\n",
       "<table border=\"1\" class=\"dataframe\">\n",
       "  <thead>\n",
       "    <tr style=\"text-align: right;\">\n",
       "      <th></th>\n",
       "      <th></th>\n",
       "      <th></th>\n",
       "      <th>district_code</th>\n",
       "      <th>admin_unit</th>\n",
       "      <th>school_code</th>\n",
       "      <th>sre_code</th>\n",
       "      <th>object_source_code</th>\n",
       "      <th>job_class_code</th>\n",
       "      <th>grant_code</th>\n",
       "      <th>amount_cents</th>\n",
       "    </tr>\n",
       "    <tr>\n",
       "      <th>fund_code</th>\n",
       "      <th>location_code</th>\n",
       "      <th>program_code</th>\n",
       "      <th></th>\n",
       "      <th></th>\n",
       "      <th></th>\n",
       "      <th></th>\n",
       "      <th></th>\n",
       "      <th></th>\n",
       "      <th></th>\n",
       "      <th></th>\n",
       "    </tr>\n",
       "  </thead>\n",
       "  <tbody>\n",
       "    <tr>\n",
       "      <th rowspan=\"5\" valign=\"top\">6</th>\n",
       "      <th>0</th>\n",
       "      <th>0</th>\n",
       "      <td>3000</td>\n",
       "      <td>59010</td>\n",
       "      <td>0</td>\n",
       "      <td>0</td>\n",
       "      <td>8121</td>\n",
       "      <td>0</td>\n",
       "      <td>0</td>\n",
       "      <td>290050022</td>\n",
       "    </tr>\n",
       "    <tr>\n",
       "      <th rowspan=\"3\" valign=\"top\">600</th>\n",
       "      <th>2200</th>\n",
       "      <td>3000</td>\n",
       "      <td>59010</td>\n",
       "      <td>0</td>\n",
       "      <td>0</td>\n",
       "      <td>730</td>\n",
       "      <td>0</td>\n",
       "      <td>0</td>\n",
       "      <td>18494795</td>\n",
       "    </tr>\n",
       "    <tr>\n",
       "      <th>2300</th>\n",
       "      <td>3000</td>\n",
       "      <td>59010</td>\n",
       "      <td>0</td>\n",
       "      <td>0</td>\n",
       "      <td>300</td>\n",
       "      <td>0</td>\n",
       "      <td>0</td>\n",
       "      <td>463561</td>\n",
       "    </tr>\n",
       "    <tr>\n",
       "      <th>2800</th>\n",
       "      <td>3000</td>\n",
       "      <td>59010</td>\n",
       "      <td>0</td>\n",
       "      <td>0</td>\n",
       "      <td>500</td>\n",
       "      <td>0</td>\n",
       "      <td>0</td>\n",
       "      <td>16749358</td>\n",
       "    </tr>\n",
       "    <tr>\n",
       "      <th>700</th>\n",
       "      <th>2600</th>\n",
       "      <td>3000</td>\n",
       "      <td>59010</td>\n",
       "      <td>0</td>\n",
       "      <td>0</td>\n",
       "      <td>400</td>\n",
       "      <td>0</td>\n",
       "      <td>0</td>\n",
       "      <td>4800000</td>\n",
       "    </tr>\n",
       "    <tr>\n",
       "      <th>...</th>\n",
       "      <th>...</th>\n",
       "      <th>...</th>\n",
       "      <td>...</td>\n",
       "      <td>...</td>\n",
       "      <td>...</td>\n",
       "      <td>...</td>\n",
       "      <td>...</td>\n",
       "      <td>...</td>\n",
       "      <td>...</td>\n",
       "      <td>...</td>\n",
       "    </tr>\n",
       "    <tr>\n",
       "      <th rowspan=\"2\" valign=\"top\">85</th>\n",
       "      <th rowspan=\"2\" valign=\"top\">971</th>\n",
       "      <th>0</th>\n",
       "      <td>880</td>\n",
       "      <td>16010</td>\n",
       "      <td>0</td>\n",
       "      <td>0</td>\n",
       "      <td>8242</td>\n",
       "      <td>0</td>\n",
       "      <td>0</td>\n",
       "      <td>1271687000</td>\n",
       "    </tr>\n",
       "    <tr>\n",
       "      <th>3300</th>\n",
       "      <td>880</td>\n",
       "      <td>16010</td>\n",
       "      <td>0</td>\n",
       "      <td>0</td>\n",
       "      <td>800</td>\n",
       "      <td>0</td>\n",
       "      <td>0</td>\n",
       "      <td>797166000</td>\n",
       "    </tr>\n",
       "    <tr>\n",
       "      <th rowspan=\"3\" valign=\"top\">90</th>\n",
       "      <th>0</th>\n",
       "      <th>0</th>\n",
       "      <td>3230</td>\n",
       "      <td>64233</td>\n",
       "      <td>9360</td>\n",
       "      <td>0</td>\n",
       "      <td>7519</td>\n",
       "      <td>0</td>\n",
       "      <td>0</td>\n",
       "      <td>57318500000</td>\n",
       "    </tr>\n",
       "    <tr>\n",
       "      <th>600</th>\n",
       "      <th>0</th>\n",
       "      <td>123</td>\n",
       "      <td>3020</td>\n",
       "      <td>0</td>\n",
       "      <td>0</td>\n",
       "      <td>7515</td>\n",
       "      <td>0</td>\n",
       "      <td>0</td>\n",
       "      <td>2193697300</td>\n",
       "    </tr>\n",
       "    <tr>\n",
       "      <th>800</th>\n",
       "      <th>0</th>\n",
       "      <td>3140</td>\n",
       "      <td>64193</td>\n",
       "      <td>0</td>\n",
       "      <td>0</td>\n",
       "      <td>7515</td>\n",
       "      <td>0</td>\n",
       "      <td>0</td>\n",
       "      <td>178359000000</td>\n",
       "    </tr>\n",
       "  </tbody>\n",
       "</table>\n",
       "<p>6153 rows × 8 columns</p>\n",
       "</div>"
      ],
      "text/plain": [
       "                                      district_code  admin_unit  school_code  \\\n",
       "fund_code location_code program_code                                           \n",
       "6         0             0                      3000       59010            0   \n",
       "          600           2200                   3000       59010            0   \n",
       "                        2300                   3000       59010            0   \n",
       "                        2800                   3000       59010            0   \n",
       "          700           2600                   3000       59010            0   \n",
       "...                                             ...         ...          ...   \n",
       "85        971           0                       880       16010            0   \n",
       "                        3300                    880       16010            0   \n",
       "90        0             0                      3230       64233         9360   \n",
       "          600           0                       123        3020            0   \n",
       "          800           0                      3140       64193            0   \n",
       "\n",
       "                                      sre_code  object_source_code  \\\n",
       "fund_code location_code program_code                                 \n",
       "6         0             0                    0                8121   \n",
       "          600           2200                 0                 730   \n",
       "                        2300                 0                 300   \n",
       "                        2800                 0                 500   \n",
       "          700           2600                 0                 400   \n",
       "...                                        ...                 ...   \n",
       "85        971           0                    0                8242   \n",
       "                        3300                 0                 800   \n",
       "90        0             0                    0                7519   \n",
       "          600           0                    0                7515   \n",
       "          800           0                    0                7515   \n",
       "\n",
       "                                      job_class_code  grant_code  amount_cents  \n",
       "fund_code location_code program_code                                            \n",
       "6         0             0                          0           0     290050022  \n",
       "          600           2200                       0           0      18494795  \n",
       "                        2300                       0           0        463561  \n",
       "                        2800                       0           0      16749358  \n",
       "          700           2600                       0           0       4800000  \n",
       "...                                              ...         ...           ...  \n",
       "85        971           0                          0           0    1271687000  \n",
       "                        3300                       0           0     797166000  \n",
       "90        0             0                          0           0   57318500000  \n",
       "          600           0                          0           0    2193697300  \n",
       "          800           0                          0           0  178359000000  \n",
       "\n",
       "[6153 rows x 8 columns]"
      ]
     },
     "execution_count": 59,
     "metadata": {},
     "output_type": "execute_result"
    }
   ],
   "source": [
    "# Let's try to group the fund code, location code, and program code\n",
    "groupFLP = COK12_df2.groupby(['fund_code', 'location_code', 'program_code'])\n",
    "groupFLP.max()"
   ]
  },
  {
   "cell_type": "markdown",
   "metadata": {},
   "source": [
    "### Investigate <u>fund codes</u>, <u>location codes</u>, and <u>program codes</u>!!"
   ]
  },
  {
   "cell_type": "markdown",
   "metadata": {},
   "source": [
    "#### Fund code melt"
   ]
  },
  {
   "cell_type": "code",
   "execution_count": 60,
   "metadata": {},
   "outputs": [],
   "source": [
    "# Try to melt function to identify each fund code by other financial code columns\n",
    "longFund = pd.melt(COK12_df2, \n",
    "    id_vars=['fund_code'])"
   ]
  },
  {
   "cell_type": "code",
   "execution_count": 61,
   "metadata": {},
   "outputs": [
    {
     "data": {
      "text/html": [
       "<div>\n",
       "<style scoped>\n",
       "    .dataframe tbody tr th:only-of-type {\n",
       "        vertical-align: middle;\n",
       "    }\n",
       "\n",
       "    .dataframe tbody tr th {\n",
       "        vertical-align: top;\n",
       "    }\n",
       "\n",
       "    .dataframe thead th {\n",
       "        text-align: right;\n",
       "    }\n",
       "</style>\n",
       "<table border=\"1\" class=\"dataframe\">\n",
       "  <thead>\n",
       "    <tr style=\"text-align: right;\">\n",
       "      <th></th>\n",
       "      <th>fund_code</th>\n",
       "      <th>variable</th>\n",
       "      <th>value</th>\n",
       "    </tr>\n",
       "  </thead>\n",
       "  <tbody>\n",
       "    <tr>\n",
       "      <th>0</th>\n",
       "      <td>10</td>\n",
       "      <td>district_code</td>\n",
       "      <td>3080</td>\n",
       "    </tr>\n",
       "    <tr>\n",
       "      <th>1</th>\n",
       "      <td>10</td>\n",
       "      <td>district_code</td>\n",
       "      <td>3080</td>\n",
       "    </tr>\n",
       "    <tr>\n",
       "      <th>2</th>\n",
       "      <td>10</td>\n",
       "      <td>district_code</td>\n",
       "      <td>3080</td>\n",
       "    </tr>\n",
       "    <tr>\n",
       "      <th>3</th>\n",
       "      <td>21</td>\n",
       "      <td>district_code</td>\n",
       "      <td>3080</td>\n",
       "    </tr>\n",
       "    <tr>\n",
       "      <th>4</th>\n",
       "      <td>10</td>\n",
       "      <td>district_code</td>\n",
       "      <td>3080</td>\n",
       "    </tr>\n",
       "  </tbody>\n",
       "</table>\n",
       "</div>"
      ],
      "text/plain": [
       "   fund_code       variable  value\n",
       "0         10  district_code   3080\n",
       "1         10  district_code   3080\n",
       "2         10  district_code   3080\n",
       "3         21  district_code   3080\n",
       "4         10  district_code   3080"
      ]
     },
     "execution_count": 61,
     "metadata": {},
     "output_type": "execute_result"
    }
   ],
   "source": [
    "longFund.head()"
   ]
  },
  {
   "cell_type": "code",
   "execution_count": 62,
   "metadata": {},
   "outputs": [
    {
     "data": {
      "text/html": [
       "<div>\n",
       "<style scoped>\n",
       "    .dataframe tbody tr th:only-of-type {\n",
       "        vertical-align: middle;\n",
       "    }\n",
       "\n",
       "    .dataframe tbody tr th {\n",
       "        vertical-align: top;\n",
       "    }\n",
       "\n",
       "    .dataframe thead th {\n",
       "        text-align: right;\n",
       "    }\n",
       "</style>\n",
       "<table border=\"1\" class=\"dataframe\">\n",
       "  <thead>\n",
       "    <tr style=\"text-align: right;\">\n",
       "      <th></th>\n",
       "      <th>fund_code</th>\n",
       "      <th>variable</th>\n",
       "      <th>value</th>\n",
       "    </tr>\n",
       "  </thead>\n",
       "  <tbody>\n",
       "    <tr>\n",
       "      <th>2806855</th>\n",
       "      <td>10</td>\n",
       "      <td>amount_cents</td>\n",
       "      <td>340700</td>\n",
       "    </tr>\n",
       "    <tr>\n",
       "      <th>2806856</th>\n",
       "      <td>11</td>\n",
       "      <td>amount_cents</td>\n",
       "      <td>-700</td>\n",
       "    </tr>\n",
       "    <tr>\n",
       "      <th>2806857</th>\n",
       "      <td>11</td>\n",
       "      <td>amount_cents</td>\n",
       "      <td>45477</td>\n",
       "    </tr>\n",
       "    <tr>\n",
       "      <th>2806858</th>\n",
       "      <td>11</td>\n",
       "      <td>amount_cents</td>\n",
       "      <td>24500</td>\n",
       "    </tr>\n",
       "    <tr>\n",
       "      <th>2806859</th>\n",
       "      <td>11</td>\n",
       "      <td>amount_cents</td>\n",
       "      <td>2499</td>\n",
       "    </tr>\n",
       "  </tbody>\n",
       "</table>\n",
       "</div>"
      ],
      "text/plain": [
       "         fund_code      variable   value\n",
       "2806855         10  amount_cents  340700\n",
       "2806856         11  amount_cents    -700\n",
       "2806857         11  amount_cents   45477\n",
       "2806858         11  amount_cents   24500\n",
       "2806859         11  amount_cents    2499"
      ]
     },
     "execution_count": 62,
     "metadata": {},
     "output_type": "execute_result"
    }
   ],
   "source": [
    "longFund.tail()"
   ]
  },
  {
   "cell_type": "code",
   "execution_count": null,
   "metadata": {},
   "outputs": [],
   "source": [
    "FUND_count = pd.value_counts(longFund['fund_code'].values,sort=True)\n",
    "FUND_count.head()"
   ]
  },
  {
   "cell_type": "code",
   "execution_count": null,
   "metadata": {},
   "outputs": [],
   "source": [
    "FUND_count.tail()"
   ]
  },
  {
   "cell_type": "code",
   "execution_count": null,
   "metadata": {},
   "outputs": [],
   "source": [
    "# Insert a visualization here for more depth"
   ]
  },
  {
   "cell_type": "markdown",
   "metadata": {},
   "source": [
    "#### Location Code melt"
   ]
  },
  {
   "cell_type": "code",
   "execution_count": 50,
   "metadata": {},
   "outputs": [],
   "source": [
    "# Try to melt function to identify each fund code by other financial code columns\n",
    "longLC = pd.melt(COK12_df2, \n",
    "    id_vars=['location_code'])"
   ]
  },
  {
   "cell_type": "code",
   "execution_count": 51,
   "metadata": {},
   "outputs": [
    {
     "data": {
      "text/html": [
       "<div>\n",
       "<style scoped>\n",
       "    .dataframe tbody tr th:only-of-type {\n",
       "        vertical-align: middle;\n",
       "    }\n",
       "\n",
       "    .dataframe tbody tr th {\n",
       "        vertical-align: top;\n",
       "    }\n",
       "\n",
       "    .dataframe thead th {\n",
       "        text-align: right;\n",
       "    }\n",
       "</style>\n",
       "<table border=\"1\" class=\"dataframe\">\n",
       "  <thead>\n",
       "    <tr style=\"text-align: right;\">\n",
       "      <th></th>\n",
       "      <th>location_code</th>\n",
       "      <th>variable</th>\n",
       "      <th>value</th>\n",
       "    </tr>\n",
       "  </thead>\n",
       "  <tbody>\n",
       "    <tr>\n",
       "      <th>0</th>\n",
       "      <td>600</td>\n",
       "      <td>district_code</td>\n",
       "      <td>3080</td>\n",
       "    </tr>\n",
       "    <tr>\n",
       "      <th>1</th>\n",
       "      <td>600</td>\n",
       "      <td>district_code</td>\n",
       "      <td>3080</td>\n",
       "    </tr>\n",
       "    <tr>\n",
       "      <th>2</th>\n",
       "      <td>700</td>\n",
       "      <td>district_code</td>\n",
       "      <td>3080</td>\n",
       "    </tr>\n",
       "    <tr>\n",
       "      <th>3</th>\n",
       "      <td>700</td>\n",
       "      <td>district_code</td>\n",
       "      <td>3080</td>\n",
       "    </tr>\n",
       "    <tr>\n",
       "      <th>4</th>\n",
       "      <td>200</td>\n",
       "      <td>district_code</td>\n",
       "      <td>3080</td>\n",
       "    </tr>\n",
       "  </tbody>\n",
       "</table>\n",
       "</div>"
      ],
      "text/plain": [
       "   location_code       variable  value\n",
       "0            600  district_code   3080\n",
       "1            600  district_code   3080\n",
       "2            700  district_code   3080\n",
       "3            700  district_code   3080\n",
       "4            200  district_code   3080"
      ]
     },
     "execution_count": 51,
     "metadata": {},
     "output_type": "execute_result"
    }
   ],
   "source": [
    "longLC.head()"
   ]
  },
  {
   "cell_type": "code",
   "execution_count": 52,
   "metadata": {},
   "outputs": [
    {
     "data": {
      "text/html": [
       "<div>\n",
       "<style scoped>\n",
       "    .dataframe tbody tr th:only-of-type {\n",
       "        vertical-align: middle;\n",
       "    }\n",
       "\n",
       "    .dataframe tbody tr th {\n",
       "        vertical-align: top;\n",
       "    }\n",
       "\n",
       "    .dataframe thead th {\n",
       "        text-align: right;\n",
       "    }\n",
       "</style>\n",
       "<table border=\"1\" class=\"dataframe\">\n",
       "  <thead>\n",
       "    <tr style=\"text-align: right;\">\n",
       "      <th></th>\n",
       "      <th>location_code</th>\n",
       "      <th>variable</th>\n",
       "      <th>value</th>\n",
       "    </tr>\n",
       "  </thead>\n",
       "  <tbody>\n",
       "    <tr>\n",
       "      <th>2806855</th>\n",
       "      <td>300</td>\n",
       "      <td>amount_cents</td>\n",
       "      <td>340700</td>\n",
       "    </tr>\n",
       "    <tr>\n",
       "      <th>2806856</th>\n",
       "      <td>951</td>\n",
       "      <td>amount_cents</td>\n",
       "      <td>-700</td>\n",
       "    </tr>\n",
       "    <tr>\n",
       "      <th>2806857</th>\n",
       "      <td>951</td>\n",
       "      <td>amount_cents</td>\n",
       "      <td>45477</td>\n",
       "    </tr>\n",
       "    <tr>\n",
       "      <th>2806858</th>\n",
       "      <td>951</td>\n",
       "      <td>amount_cents</td>\n",
       "      <td>24500</td>\n",
       "    </tr>\n",
       "    <tr>\n",
       "      <th>2806859</th>\n",
       "      <td>951</td>\n",
       "      <td>amount_cents</td>\n",
       "      <td>2499</td>\n",
       "    </tr>\n",
       "  </tbody>\n",
       "</table>\n",
       "</div>"
      ],
      "text/plain": [
       "         location_code      variable   value\n",
       "2806855            300  amount_cents  340700\n",
       "2806856            951  amount_cents    -700\n",
       "2806857            951  amount_cents   45477\n",
       "2806858            951  amount_cents   24500\n",
       "2806859            951  amount_cents    2499"
      ]
     },
     "execution_count": 52,
     "metadata": {},
     "output_type": "execute_result"
    }
   ],
   "source": [
    "longLC.tail()"
   ]
  },
  {
   "cell_type": "code",
   "execution_count": null,
   "metadata": {},
   "outputs": [],
   "source": [
    "LC_count = pd.value_counts(longLC['location_code'].values,sort=True)\n",
    "LC_count.head()"
   ]
  },
  {
   "cell_type": "code",
   "execution_count": null,
   "metadata": {},
   "outputs": [],
   "source": [
    "LC_count.tail()"
   ]
  },
  {
   "cell_type": "code",
   "execution_count": null,
   "metadata": {},
   "outputs": [],
   "source": [
    "# Insert a visualization here for more depth"
   ]
  },
  {
   "cell_type": "markdown",
   "metadata": {},
   "source": [
    "#### Program Code melt"
   ]
  },
  {
   "cell_type": "code",
   "execution_count": 53,
   "metadata": {},
   "outputs": [],
   "source": [
    "# Try to melt function to identify each fund code by other financial code columns\n",
    "longPC = pd.melt(COK12_df2, \n",
    "    id_vars=['program_code'])"
   ]
  },
  {
   "cell_type": "code",
   "execution_count": 54,
   "metadata": {},
   "outputs": [
    {
     "data": {
      "text/html": [
       "<div>\n",
       "<style scoped>\n",
       "    .dataframe tbody tr th:only-of-type {\n",
       "        vertical-align: middle;\n",
       "    }\n",
       "\n",
       "    .dataframe tbody tr th {\n",
       "        vertical-align: top;\n",
       "    }\n",
       "\n",
       "    .dataframe thead th {\n",
       "        text-align: right;\n",
       "    }\n",
       "</style>\n",
       "<table border=\"1\" class=\"dataframe\">\n",
       "  <thead>\n",
       "    <tr style=\"text-align: right;\">\n",
       "      <th></th>\n",
       "      <th>program_code</th>\n",
       "      <th>variable</th>\n",
       "      <th>value</th>\n",
       "    </tr>\n",
       "  </thead>\n",
       "  <tbody>\n",
       "    <tr>\n",
       "      <th>0</th>\n",
       "      <td>20</td>\n",
       "      <td>district_code</td>\n",
       "      <td>3080</td>\n",
       "    </tr>\n",
       "    <tr>\n",
       "      <th>1</th>\n",
       "      <td>10</td>\n",
       "      <td>district_code</td>\n",
       "      <td>3080</td>\n",
       "    </tr>\n",
       "    <tr>\n",
       "      <th>2</th>\n",
       "      <td>2700</td>\n",
       "      <td>district_code</td>\n",
       "      <td>3080</td>\n",
       "    </tr>\n",
       "    <tr>\n",
       "      <th>3</th>\n",
       "      <td>3100</td>\n",
       "      <td>district_code</td>\n",
       "      <td>3080</td>\n",
       "    </tr>\n",
       "    <tr>\n",
       "      <th>4</th>\n",
       "      <td>1700</td>\n",
       "      <td>district_code</td>\n",
       "      <td>3080</td>\n",
       "    </tr>\n",
       "  </tbody>\n",
       "</table>\n",
       "</div>"
      ],
      "text/plain": [
       "   program_code       variable  value\n",
       "0            20  district_code   3080\n",
       "1            10  district_code   3080\n",
       "2          2700  district_code   3080\n",
       "3          3100  district_code   3080\n",
       "4          1700  district_code   3080"
      ]
     },
     "execution_count": 54,
     "metadata": {},
     "output_type": "execute_result"
    }
   ],
   "source": [
    "longPC.head()"
   ]
  },
  {
   "cell_type": "code",
   "execution_count": 55,
   "metadata": {},
   "outputs": [
    {
     "data": {
      "text/html": [
       "<div>\n",
       "<style scoped>\n",
       "    .dataframe tbody tr th:only-of-type {\n",
       "        vertical-align: middle;\n",
       "    }\n",
       "\n",
       "    .dataframe tbody tr th {\n",
       "        vertical-align: top;\n",
       "    }\n",
       "\n",
       "    .dataframe thead th {\n",
       "        text-align: right;\n",
       "    }\n",
       "</style>\n",
       "<table border=\"1\" class=\"dataframe\">\n",
       "  <thead>\n",
       "    <tr style=\"text-align: right;\">\n",
       "      <th></th>\n",
       "      <th>program_code</th>\n",
       "      <th>variable</th>\n",
       "      <th>value</th>\n",
       "    </tr>\n",
       "  </thead>\n",
       "  <tbody>\n",
       "    <tr>\n",
       "      <th>2806855</th>\n",
       "      <td>1800</td>\n",
       "      <td>amount_cents</td>\n",
       "      <td>340700</td>\n",
       "    </tr>\n",
       "    <tr>\n",
       "      <th>2806856</th>\n",
       "      <td>2500</td>\n",
       "      <td>amount_cents</td>\n",
       "      <td>-700</td>\n",
       "    </tr>\n",
       "    <tr>\n",
       "      <th>2806857</th>\n",
       "      <td>2600</td>\n",
       "      <td>amount_cents</td>\n",
       "      <td>45477</td>\n",
       "    </tr>\n",
       "    <tr>\n",
       "      <th>2806858</th>\n",
       "      <td>2800</td>\n",
       "      <td>amount_cents</td>\n",
       "      <td>24500</td>\n",
       "    </tr>\n",
       "    <tr>\n",
       "      <th>2806859</th>\n",
       "      <td>18</td>\n",
       "      <td>amount_cents</td>\n",
       "      <td>2499</td>\n",
       "    </tr>\n",
       "  </tbody>\n",
       "</table>\n",
       "</div>"
      ],
      "text/plain": [
       "         program_code      variable   value\n",
       "2806855          1800  amount_cents  340700\n",
       "2806856          2500  amount_cents    -700\n",
       "2806857          2600  amount_cents   45477\n",
       "2806858          2800  amount_cents   24500\n",
       "2806859            18  amount_cents    2499"
      ]
     },
     "execution_count": 55,
     "metadata": {},
     "output_type": "execute_result"
    }
   ],
   "source": [
    "longPC.tail()"
   ]
  },
  {
   "cell_type": "code",
   "execution_count": null,
   "metadata": {},
   "outputs": [],
   "source": [
    "PC_count = pd.value_counts(longPC['program_code'].values,sort=True)\n",
    "PC_count.head()"
   ]
  },
  {
   "cell_type": "code",
   "execution_count": null,
   "metadata": {},
   "outputs": [],
   "source": [
    "PC_count.tail()"
   ]
  },
  {
   "cell_type": "code",
   "execution_count": null,
   "metadata": {},
   "outputs": [],
   "source": [
    "# Insert a visualization here for more depth"
   ]
  },
  {
   "cell_type": "code",
   "execution_count": null,
   "metadata": {},
   "outputs": [],
   "source": []
  },
  {
   "cell_type": "markdown",
   "metadata": {},
   "source": [
    "## <center>LOAD FFP Chart of Accounts for 2016-2017 to merge with the data:</center>"
   ]
  },
  {
   "cell_type": "code",
   "execution_count": 56,
   "metadata": {},
   "outputs": [],
   "source": [
    "# Load the Financial Policies and Procedures Chart of Accounts 2016-2017 into a dataframe but by District Code sheet\n",
    "COA1617_DC = pd.read_excel('Data/Chart of Accounts_1617.xlsx', sheet_name='District Code', header=0)"
   ]
  },
  {
   "cell_type": "code",
   "execution_count": 57,
   "metadata": {},
   "outputs": [
    {
     "data": {
      "text/html": [
       "<div>\n",
       "<style scoped>\n",
       "    .dataframe tbody tr th:only-of-type {\n",
       "        vertical-align: middle;\n",
       "    }\n",
       "\n",
       "    .dataframe tbody tr th {\n",
       "        vertical-align: top;\n",
       "    }\n",
       "\n",
       "    .dataframe thead th {\n",
       "        text-align: right;\n",
       "    }\n",
       "</style>\n",
       "<table border=\"1\" class=\"dataframe\">\n",
       "  <thead>\n",
       "    <tr style=\"text-align: right;\">\n",
       "      <th></th>\n",
       "      <th>District</th>\n",
       "      <th>Description</th>\n",
       "      <th>Detailed Description</th>\n",
       "      <th></th>\n",
       "    </tr>\n",
       "  </thead>\n",
       "  <tbody>\n",
       "    <tr>\n",
       "      <th>0</th>\n",
       "      <td>10</td>\n",
       "      <td>MAPLETON 1</td>\n",
       "      <td>MAPLETON 1</td>\n",
       "      <td>NaN</td>\n",
       "    </tr>\n",
       "    <tr>\n",
       "      <th>1</th>\n",
       "      <td>20</td>\n",
       "      <td>ADAMS 12 FIVE STAR SCHOOLS</td>\n",
       "      <td>ADAMS 12 FIVE STAR SCHOOLS</td>\n",
       "      <td>NaN</td>\n",
       "    </tr>\n",
       "    <tr>\n",
       "      <th>2</th>\n",
       "      <td>30</td>\n",
       "      <td>ADAMS COUNTY 14</td>\n",
       "      <td>ADAMS COUNTY 14</td>\n",
       "      <td>NaN</td>\n",
       "    </tr>\n",
       "    <tr>\n",
       "      <th>3</th>\n",
       "      <td>40</td>\n",
       "      <td>SCHOOL DISTRICT 27J</td>\n",
       "      <td>SCHOOL DISTRICT 27J</td>\n",
       "      <td>NaN</td>\n",
       "    </tr>\n",
       "    <tr>\n",
       "      <th>4</th>\n",
       "      <td>50</td>\n",
       "      <td>BENNETT 29J</td>\n",
       "      <td>BENNETT 29J</td>\n",
       "      <td>NaN</td>\n",
       "    </tr>\n",
       "  </tbody>\n",
       "</table>\n",
       "</div>"
      ],
      "text/plain": [
       "   District                 Description        Detailed Description    \n",
       "0        10                  MAPLETON 1                  MAPLETON 1 NaN\n",
       "1        20  ADAMS 12 FIVE STAR SCHOOLS  ADAMS 12 FIVE STAR SCHOOLS NaN\n",
       "2        30             ADAMS COUNTY 14             ADAMS COUNTY 14 NaN\n",
       "3        40         SCHOOL DISTRICT 27J         SCHOOL DISTRICT 27J NaN\n",
       "4        50                 BENNETT 29J                 BENNETT 29J NaN"
      ]
     },
     "execution_count": 57,
     "metadata": {},
     "output_type": "execute_result"
    }
   ],
   "source": [
    "COA1617_DC.head()"
   ]
  },
  {
   "cell_type": "code",
   "execution_count": 58,
   "metadata": {},
   "outputs": [
    {
     "data": {
      "text/html": [
       "<div>\n",
       "<style scoped>\n",
       "    .dataframe tbody tr th:only-of-type {\n",
       "        vertical-align: middle;\n",
       "    }\n",
       "\n",
       "    .dataframe tbody tr th {\n",
       "        vertical-align: top;\n",
       "    }\n",
       "\n",
       "    .dataframe thead th {\n",
       "        text-align: right;\n",
       "    }\n",
       "</style>\n",
       "<table border=\"1\" class=\"dataframe\">\n",
       "  <thead>\n",
       "    <tr style=\"text-align: right;\">\n",
       "      <th></th>\n",
       "      <th>District</th>\n",
       "      <th>Description</th>\n",
       "      <th>Detailed Description</th>\n",
       "      <th></th>\n",
       "    </tr>\n",
       "  </thead>\n",
       "  <tbody>\n",
       "    <tr>\n",
       "      <th>196</th>\n",
       "      <td>9165</td>\n",
       "      <td>UTE PASS BOCES</td>\n",
       "      <td>UTE PASS BOCES</td>\n",
       "      <td>NaN</td>\n",
       "    </tr>\n",
       "    <tr>\n",
       "      <th>197</th>\n",
       "      <td>9170</td>\n",
       "      <td>COLORADO DIGITAL BOCES</td>\n",
       "      <td>COLORADO DIGITAL BOCES</td>\n",
       "      <td>NaN</td>\n",
       "    </tr>\n",
       "    <tr>\n",
       "      <th>198</th>\n",
       "      <td>8001</td>\n",
       "      <td>CHARTER SCHOOL INSTITUTE</td>\n",
       "      <td>CHARTER SCHOOL INSTITUTE</td>\n",
       "      <td>NaN</td>\n",
       "    </tr>\n",
       "    <tr>\n",
       "      <th>199</th>\n",
       "      <td>9000</td>\n",
       "      <td>Colorado School for the Deaf and Blind</td>\n",
       "      <td>Colorado School for the Deaf and Blind</td>\n",
       "      <td>NaN</td>\n",
       "    </tr>\n",
       "    <tr>\n",
       "      <th>200</th>\n",
       "      <td>9999</td>\n",
       "      <td>FOR DISTRICT WIDE SCHOOL (9980)</td>\n",
       "      <td>FOR DISTRICT WIDE SCHOOL (9980)</td>\n",
       "      <td>NaN</td>\n",
       "    </tr>\n",
       "  </tbody>\n",
       "</table>\n",
       "</div>"
      ],
      "text/plain": [
       "     District                             Description  \\\n",
       "196      9165                          UTE PASS BOCES   \n",
       "197      9170                  COLORADO DIGITAL BOCES   \n",
       "198      8001                CHARTER SCHOOL INSTITUTE   \n",
       "199      9000  Colorado School for the Deaf and Blind   \n",
       "200      9999         FOR DISTRICT WIDE SCHOOL (9980)   \n",
       "\n",
       "                       Detailed Description      \n",
       "196                          UTE PASS BOCES NaN  \n",
       "197                  COLORADO DIGITAL BOCES NaN  \n",
       "198                CHARTER SCHOOL INSTITUTE NaN  \n",
       "199  Colorado School for the Deaf and Blind NaN  \n",
       "200         FOR DISTRICT WIDE SCHOOL (9980) NaN  "
      ]
     },
     "execution_count": 58,
     "metadata": {},
     "output_type": "execute_result"
    }
   ],
   "source": [
    "COA1617_DC.tail()"
   ]
  },
  {
   "cell_type": "markdown",
   "metadata": {},
   "source": [
    "### REMOVE the below test of uploading all sheets into notebook...."
   ]
  },
  {
   "cell_type": "code",
   "execution_count": 59,
   "metadata": {},
   "outputs": [],
   "source": [
    "#Load excel spreadsheet without destinguishing sheet name\n",
    "COA1617_ALL = pd.read_excel('Data/Chart of Accounts_1617.xlsx', header=0)"
   ]
  },
  {
   "cell_type": "code",
   "execution_count": 60,
   "metadata": {},
   "outputs": [
    {
     "data": {
      "text/html": [
       "<div>\n",
       "<style scoped>\n",
       "    .dataframe tbody tr th:only-of-type {\n",
       "        vertical-align: middle;\n",
       "    }\n",
       "\n",
       "    .dataframe tbody tr th {\n",
       "        vertical-align: top;\n",
       "    }\n",
       "\n",
       "    .dataframe thead th {\n",
       "        text-align: right;\n",
       "    }\n",
       "</style>\n",
       "<table border=\"1\" class=\"dataframe\">\n",
       "  <thead>\n",
       "    <tr style=\"text-align: right;\">\n",
       "      <th></th>\n",
       "      <th>Unnamed: 0</th>\n",
       "      <th>EXPENDITURE</th>\n",
       "      <th>Unnamed: 2</th>\n",
       "      <th>Unnamed: 3</th>\n",
       "      <th>Unnamed: 4</th>\n",
       "      <th>Unnamed: 5</th>\n",
       "      <th>Unnamed: 6</th>\n",
       "      <th>Unnamed: 7</th>\n",
       "      <th>Unnamed: 8</th>\n",
       "      <th>Unnamed: 9</th>\n",
       "      <th>Unnamed: 10</th>\n",
       "      <th>Unnamed: 11</th>\n",
       "      <th>Unnamed: 12</th>\n",
       "      <th>Unnamed: 13</th>\n",
       "      <th>Unnamed: 14</th>\n",
       "      <th>Unnamed: 15</th>\n",
       "      <th>Unnamed: 16</th>\n",
       "      <th>Unnamed: 17</th>\n",
       "      <th>Unnamed: 18</th>\n",
       "      <th>Unnamed: 19</th>\n",
       "    </tr>\n",
       "  </thead>\n",
       "  <tbody>\n",
       "    <tr>\n",
       "      <th>0</th>\n",
       "      <td>NaN</td>\n",
       "      <td>NaN</td>\n",
       "      <td>NaN</td>\n",
       "      <td>NaN</td>\n",
       "      <td>NaN</td>\n",
       "      <td>NaN</td>\n",
       "      <td>NaN</td>\n",
       "      <td>NaN</td>\n",
       "      <td>NaN</td>\n",
       "      <td>NaN</td>\n",
       "      <td>NaN</td>\n",
       "      <td>NaN</td>\n",
       "      <td>NaN</td>\n",
       "      <td>NaN</td>\n",
       "      <td>NaN</td>\n",
       "      <td>NaN</td>\n",
       "      <td>NaN</td>\n",
       "      <td>NaN</td>\n",
       "      <td>NaN</td>\n",
       "      <td>NaN</td>\n",
       "    </tr>\n",
       "    <tr>\n",
       "      <th>1</th>\n",
       "      <td>NaN</td>\n",
       "      <td>XXXX</td>\n",
       "      <td>-</td>\n",
       "      <td>XXXXX</td>\n",
       "      <td>-</td>\n",
       "      <td>XXXX</td>\n",
       "      <td>-</td>\n",
       "      <td>XX</td>\n",
       "      <td>-</td>\n",
       "      <td>XXX</td>\n",
       "      <td>-</td>\n",
       "      <td>XX</td>\n",
       "      <td>-</td>\n",
       "      <td>XXXX</td>\n",
       "      <td>-</td>\n",
       "      <td>XXXX</td>\n",
       "      <td>-</td>\n",
       "      <td>XXX</td>\n",
       "      <td>-</td>\n",
       "      <td>XXXX</td>\n",
       "    </tr>\n",
       "    <tr>\n",
       "      <th>2</th>\n",
       "      <td>NaN</td>\n",
       "      <td>NaN</td>\n",
       "      <td>NaN</td>\n",
       "      <td>NaN</td>\n",
       "      <td>NaN</td>\n",
       "      <td>NaN</td>\n",
       "      <td>NaN</td>\n",
       "      <td>NaN</td>\n",
       "      <td>NaN</td>\n",
       "      <td>NaN</td>\n",
       "      <td>NaN</td>\n",
       "      <td>NaN</td>\n",
       "      <td>NaN</td>\n",
       "      <td>NaN</td>\n",
       "      <td>NaN</td>\n",
       "      <td>NaN</td>\n",
       "      <td>NaN</td>\n",
       "      <td>NaN</td>\n",
       "      <td>NaN</td>\n",
       "      <td>NaN</td>\n",
       "    </tr>\n",
       "    <tr>\n",
       "      <th>3</th>\n",
       "      <td>NaN</td>\n",
       "      <td>NaN</td>\n",
       "      <td>NaN</td>\n",
       "      <td>NaN</td>\n",
       "      <td>NaN</td>\n",
       "      <td>NaN</td>\n",
       "      <td>NaN</td>\n",
       "      <td>NaN</td>\n",
       "      <td>NaN</td>\n",
       "      <td>NaN</td>\n",
       "      <td>NaN</td>\n",
       "      <td>NaN</td>\n",
       "      <td>NaN</td>\n",
       "      <td>NaN</td>\n",
       "      <td>NaN</td>\n",
       "      <td>NaN</td>\n",
       "      <td>NaN</td>\n",
       "      <td>NaN</td>\n",
       "      <td>NaN</td>\n",
       "      <td>NaN</td>\n",
       "    </tr>\n",
       "    <tr>\n",
       "      <th>4</th>\n",
       "      <td>NaN</td>\n",
       "      <td>NaN</td>\n",
       "      <td>NaN</td>\n",
       "      <td>NaN</td>\n",
       "      <td>NaN</td>\n",
       "      <td>NaN</td>\n",
       "      <td>NaN</td>\n",
       "      <td>NaN</td>\n",
       "      <td>NaN</td>\n",
       "      <td>NaN</td>\n",
       "      <td>NaN</td>\n",
       "      <td>NaN</td>\n",
       "      <td>NaN</td>\n",
       "      <td>NaN</td>\n",
       "      <td>NaN</td>\n",
       "      <td>NaN</td>\n",
       "      <td>NaN</td>\n",
       "      <td>NaN</td>\n",
       "      <td>NaN</td>\n",
       "      <td>NaN</td>\n",
       "    </tr>\n",
       "  </tbody>\n",
       "</table>\n",
       "</div>"
      ],
      "text/plain": [
       "   Unnamed: 0 EXPENDITURE Unnamed: 2 Unnamed: 3 Unnamed: 4 Unnamed: 5  \\\n",
       "0         NaN         NaN        NaN        NaN        NaN        NaN   \n",
       "1         NaN        XXXX          -      XXXXX          -       XXXX   \n",
       "2         NaN         NaN        NaN        NaN        NaN        NaN   \n",
       "3         NaN         NaN        NaN        NaN        NaN        NaN   \n",
       "4         NaN         NaN        NaN        NaN        NaN        NaN   \n",
       "\n",
       "  Unnamed: 6 Unnamed: 7 Unnamed: 8 Unnamed: 9 Unnamed: 10 Unnamed: 11  \\\n",
       "0        NaN        NaN        NaN        NaN         NaN         NaN   \n",
       "1          -         XX          -        XXX           -          XX   \n",
       "2        NaN        NaN        NaN        NaN         NaN         NaN   \n",
       "3        NaN        NaN        NaN        NaN         NaN         NaN   \n",
       "4        NaN        NaN        NaN        NaN         NaN         NaN   \n",
       "\n",
       "  Unnamed: 12 Unnamed: 13 Unnamed: 14 Unnamed: 15 Unnamed: 16 Unnamed: 17  \\\n",
       "0         NaN         NaN         NaN         NaN         NaN         NaN   \n",
       "1           -        XXXX           -        XXXX           -         XXX   \n",
       "2         NaN         NaN         NaN         NaN         NaN         NaN   \n",
       "3         NaN         NaN         NaN         NaN         NaN         NaN   \n",
       "4         NaN         NaN         NaN         NaN         NaN         NaN   \n",
       "\n",
       "  Unnamed: 18 Unnamed: 19  \n",
       "0         NaN         NaN  \n",
       "1           -        XXXX  \n",
       "2         NaN         NaN  \n",
       "3         NaN         NaN  \n",
       "4         NaN         NaN  "
      ]
     },
     "execution_count": 60,
     "metadata": {},
     "output_type": "execute_result"
    }
   ],
   "source": [
    "# Check head\n",
    "COA1617_ALL.head()"
   ]
  },
  {
   "cell_type": "code",
   "execution_count": 61,
   "metadata": {},
   "outputs": [
    {
     "data": {
      "text/html": [
       "<div>\n",
       "<style scoped>\n",
       "    .dataframe tbody tr th:only-of-type {\n",
       "        vertical-align: middle;\n",
       "    }\n",
       "\n",
       "    .dataframe tbody tr th {\n",
       "        vertical-align: top;\n",
       "    }\n",
       "\n",
       "    .dataframe thead th {\n",
       "        text-align: right;\n",
       "    }\n",
       "</style>\n",
       "<table border=\"1\" class=\"dataframe\">\n",
       "  <thead>\n",
       "    <tr style=\"text-align: right;\">\n",
       "      <th></th>\n",
       "      <th>Unnamed: 0</th>\n",
       "      <th>EXPENDITURE</th>\n",
       "      <th>Unnamed: 2</th>\n",
       "      <th>Unnamed: 3</th>\n",
       "      <th>Unnamed: 4</th>\n",
       "      <th>Unnamed: 5</th>\n",
       "      <th>Unnamed: 6</th>\n",
       "      <th>Unnamed: 7</th>\n",
       "      <th>Unnamed: 8</th>\n",
       "      <th>Unnamed: 9</th>\n",
       "      <th>Unnamed: 10</th>\n",
       "      <th>Unnamed: 11</th>\n",
       "      <th>Unnamed: 12</th>\n",
       "      <th>Unnamed: 13</th>\n",
       "      <th>Unnamed: 14</th>\n",
       "      <th>Unnamed: 15</th>\n",
       "      <th>Unnamed: 16</th>\n",
       "      <th>Unnamed: 17</th>\n",
       "      <th>Unnamed: 18</th>\n",
       "      <th>Unnamed: 19</th>\n",
       "    </tr>\n",
       "  </thead>\n",
       "  <tbody>\n",
       "    <tr>\n",
       "      <th>44</th>\n",
       "      <td>NaN</td>\n",
       "      <td>NaN</td>\n",
       "      <td>NaN</td>\n",
       "      <td>NaN</td>\n",
       "      <td>NaN</td>\n",
       "      <td>NaN</td>\n",
       "      <td>NaN</td>\n",
       "      <td>NaN</td>\n",
       "      <td>NaN</td>\n",
       "      <td>NaN</td>\n",
       "      <td>NaN</td>\n",
       "      <td>SRE</td>\n",
       "      <td>NaN</td>\n",
       "      <td>NaN</td>\n",
       "      <td>NaN</td>\n",
       "      <td>NaN</td>\n",
       "      <td>NaN</td>\n",
       "      <td>NaN</td>\n",
       "      <td>NaN</td>\n",
       "      <td>NaN</td>\n",
       "    </tr>\n",
       "    <tr>\n",
       "      <th>45</th>\n",
       "      <td>NaN</td>\n",
       "      <td>NaN</td>\n",
       "      <td>NaN</td>\n",
       "      <td>NaN</td>\n",
       "      <td>NaN</td>\n",
       "      <td>NaN</td>\n",
       "      <td>NaN</td>\n",
       "      <td>NaN</td>\n",
       "      <td>NaN</td>\n",
       "      <td>NaN</td>\n",
       "      <td>NaN</td>\n",
       "      <td>NaN</td>\n",
       "      <td>NaN</td>\n",
       "      <td>PROGRAM</td>\n",
       "      <td>NaN</td>\n",
       "      <td>NaN</td>\n",
       "      <td>NaN</td>\n",
       "      <td>NaN</td>\n",
       "      <td>NaN</td>\n",
       "      <td>NaN</td>\n",
       "    </tr>\n",
       "    <tr>\n",
       "      <th>46</th>\n",
       "      <td>NaN</td>\n",
       "      <td>NaN</td>\n",
       "      <td>NaN</td>\n",
       "      <td>NaN</td>\n",
       "      <td>NaN</td>\n",
       "      <td>NaN</td>\n",
       "      <td>NaN</td>\n",
       "      <td>NaN</td>\n",
       "      <td>NaN</td>\n",
       "      <td>NaN</td>\n",
       "      <td>NaN</td>\n",
       "      <td>NaN</td>\n",
       "      <td>NaN</td>\n",
       "      <td>NaN</td>\n",
       "      <td>NaN</td>\n",
       "      <td>BALANCE SHEET</td>\n",
       "      <td>NaN</td>\n",
       "      <td>NaN</td>\n",
       "      <td>NaN</td>\n",
       "      <td>NaN</td>\n",
       "    </tr>\n",
       "    <tr>\n",
       "      <th>47</th>\n",
       "      <td>NaN</td>\n",
       "      <td>NaN</td>\n",
       "      <td>NaN</td>\n",
       "      <td>NaN</td>\n",
       "      <td>NaN</td>\n",
       "      <td>NaN</td>\n",
       "      <td>NaN</td>\n",
       "      <td>NaN</td>\n",
       "      <td>NaN</td>\n",
       "      <td>NaN</td>\n",
       "      <td>NaN</td>\n",
       "      <td>NaN</td>\n",
       "      <td>NaN</td>\n",
       "      <td>NaN</td>\n",
       "      <td>NaN</td>\n",
       "      <td>NaN</td>\n",
       "      <td>NaN</td>\n",
       "      <td>OPTIONAL</td>\n",
       "      <td>NaN</td>\n",
       "      <td>NaN</td>\n",
       "    </tr>\n",
       "    <tr>\n",
       "      <th>48</th>\n",
       "      <td>NaN</td>\n",
       "      <td>NaN</td>\n",
       "      <td>NaN</td>\n",
       "      <td>NaN</td>\n",
       "      <td>NaN</td>\n",
       "      <td>NaN</td>\n",
       "      <td>NaN</td>\n",
       "      <td>NaN</td>\n",
       "      <td>NaN</td>\n",
       "      <td>NaN</td>\n",
       "      <td>NaN</td>\n",
       "      <td>NaN</td>\n",
       "      <td>NaN</td>\n",
       "      <td>NaN</td>\n",
       "      <td>NaN</td>\n",
       "      <td>NaN</td>\n",
       "      <td>NaN</td>\n",
       "      <td>NaN</td>\n",
       "      <td>NaN</td>\n",
       "      <td>DESIGNATED GRANT\\n PROJECT</td>\n",
       "    </tr>\n",
       "  </tbody>\n",
       "</table>\n",
       "</div>"
      ],
      "text/plain": [
       "    Unnamed: 0 EXPENDITURE Unnamed: 2 Unnamed: 3 Unnamed: 4 Unnamed: 5  \\\n",
       "44         NaN         NaN        NaN        NaN        NaN        NaN   \n",
       "45         NaN         NaN        NaN        NaN        NaN        NaN   \n",
       "46         NaN         NaN        NaN        NaN        NaN        NaN   \n",
       "47         NaN         NaN        NaN        NaN        NaN        NaN   \n",
       "48         NaN         NaN        NaN        NaN        NaN        NaN   \n",
       "\n",
       "   Unnamed: 6 Unnamed: 7 Unnamed: 8 Unnamed: 9 Unnamed: 10 Unnamed: 11  \\\n",
       "44        NaN        NaN        NaN        NaN         NaN         SRE   \n",
       "45        NaN        NaN        NaN        NaN         NaN         NaN   \n",
       "46        NaN        NaN        NaN        NaN         NaN         NaN   \n",
       "47        NaN        NaN        NaN        NaN         NaN         NaN   \n",
       "48        NaN        NaN        NaN        NaN         NaN         NaN   \n",
       "\n",
       "   Unnamed: 12 Unnamed: 13 Unnamed: 14    Unnamed: 15 Unnamed: 16 Unnamed: 17  \\\n",
       "44         NaN         NaN         NaN            NaN         NaN         NaN   \n",
       "45         NaN     PROGRAM         NaN            NaN         NaN         NaN   \n",
       "46         NaN         NaN         NaN  BALANCE SHEET         NaN         NaN   \n",
       "47         NaN         NaN         NaN            NaN         NaN    OPTIONAL   \n",
       "48         NaN         NaN         NaN            NaN         NaN         NaN   \n",
       "\n",
       "   Unnamed: 18                 Unnamed: 19  \n",
       "44         NaN                         NaN  \n",
       "45         NaN                         NaN  \n",
       "46         NaN                         NaN  \n",
       "47         NaN                         NaN  \n",
       "48         NaN  DESIGNATED GRANT\\n PROJECT  "
      ]
     },
     "execution_count": 61,
     "metadata": {},
     "output_type": "execute_result"
    }
   ],
   "source": [
    "#Check tail...\n",
    "COA1617_ALL.tail()"
   ]
  },
  {
   "cell_type": "markdown",
   "metadata": {},
   "source": [
    "### Looks a bit messy without loading each sheet from the excel spread sheet individually..\n",
    "<br>\n",
    "Try to load each sheet instead....."
   ]
  },
  {
   "cell_type": "code",
   "execution_count": null,
   "metadata": {},
   "outputs": [],
   "source": [
    "# To Do:\n",
    "# Research code to add decimal to amount_cents into dollar type or dollar value.\n",
    "# Research more on how best to aggregate and group relevent data.\n",
    "# Begin adding visualizations based on the relevant financial data to present.\n",
    "# Begin first phases of KNN and DBSCAN"
   ]
  },
  {
   "cell_type": "code",
   "execution_count": null,
   "metadata": {},
   "outputs": [],
   "source": [
    "# Testing out locale and babel for working with currency"
   ]
  },
  {
   "cell_type": "code",
   "execution_count": 62,
   "metadata": {},
   "outputs": [],
   "source": [
    "import locale"
   ]
  },
  {
   "cell_type": "code",
   "execution_count": 63,
   "metadata": {},
   "outputs": [],
   "source": [
    "from babel.numbers import format_currency"
   ]
  },
  {
   "cell_type": "code",
   "execution_count": 64,
   "metadata": {},
   "outputs": [
    {
     "data": {
      "text/html": [
       "<div>\n",
       "<style scoped>\n",
       "    .dataframe tbody tr th:only-of-type {\n",
       "        vertical-align: middle;\n",
       "    }\n",
       "\n",
       "    .dataframe tbody tr th {\n",
       "        vertical-align: top;\n",
       "    }\n",
       "\n",
       "    .dataframe thead th {\n",
       "        text-align: right;\n",
       "    }\n",
       "</style>\n",
       "<table border=\"1\" class=\"dataframe\">\n",
       "  <thead>\n",
       "    <tr style=\"text-align: right;\">\n",
       "      <th></th>\n",
       "      <th>district_code</th>\n",
       "      <th>admin_unit</th>\n",
       "      <th>school_code</th>\n",
       "      <th>fund_code</th>\n",
       "      <th>location_code</th>\n",
       "      <th>sre_code</th>\n",
       "      <th>program_code</th>\n",
       "      <th>object_source_code</th>\n",
       "      <th>job_class_code</th>\n",
       "      <th>grant_code</th>\n",
       "      <th>amount_cents</th>\n",
       "    </tr>\n",
       "  </thead>\n",
       "  <tbody>\n",
       "    <tr>\n",
       "      <th>0</th>\n",
       "      <td>3080</td>\n",
       "      <td>64203</td>\n",
       "      <td>0</td>\n",
       "      <td>10</td>\n",
       "      <td>600</td>\n",
       "      <td>0</td>\n",
       "      <td>20</td>\n",
       "      <td>100</td>\n",
       "      <td>200</td>\n",
       "      <td>0</td>\n",
       "      <td>71250</td>\n",
       "    </tr>\n",
       "    <tr>\n",
       "      <th>1</th>\n",
       "      <td>3080</td>\n",
       "      <td>64203</td>\n",
       "      <td>0</td>\n",
       "      <td>10</td>\n",
       "      <td>600</td>\n",
       "      <td>0</td>\n",
       "      <td>10</td>\n",
       "      <td>100</td>\n",
       "      <td>200</td>\n",
       "      <td>4010</td>\n",
       "      <td>13841274</td>\n",
       "    </tr>\n",
       "    <tr>\n",
       "      <th>2</th>\n",
       "      <td>3080</td>\n",
       "      <td>64203</td>\n",
       "      <td>0</td>\n",
       "      <td>10</td>\n",
       "      <td>700</td>\n",
       "      <td>0</td>\n",
       "      <td>2700</td>\n",
       "      <td>100</td>\n",
       "      <td>100</td>\n",
       "      <td>0</td>\n",
       "      <td>12171639</td>\n",
       "    </tr>\n",
       "    <tr>\n",
       "      <th>3</th>\n",
       "      <td>3080</td>\n",
       "      <td>64203</td>\n",
       "      <td>0</td>\n",
       "      <td>21</td>\n",
       "      <td>700</td>\n",
       "      <td>0</td>\n",
       "      <td>3100</td>\n",
       "      <td>100</td>\n",
       "      <td>100</td>\n",
       "      <td>0</td>\n",
       "      <td>4079700</td>\n",
       "    </tr>\n",
       "    <tr>\n",
       "      <th>4</th>\n",
       "      <td>3080</td>\n",
       "      <td>64203</td>\n",
       "      <td>4854</td>\n",
       "      <td>10</td>\n",
       "      <td>200</td>\n",
       "      <td>0</td>\n",
       "      <td>1700</td>\n",
       "      <td>100</td>\n",
       "      <td>400</td>\n",
       "      <td>3130</td>\n",
       "      <td>8660925</td>\n",
       "    </tr>\n",
       "  </tbody>\n",
       "</table>\n",
       "</div>"
      ],
      "text/plain": [
       "   district_code  admin_unit  school_code  fund_code  location_code  sre_code  \\\n",
       "0           3080       64203            0         10            600         0   \n",
       "1           3080       64203            0         10            600         0   \n",
       "2           3080       64203            0         10            700         0   \n",
       "3           3080       64203            0         21            700         0   \n",
       "4           3080       64203         4854         10            200         0   \n",
       "\n",
       "   program_code  object_source_code  job_class_code  grant_code  amount_cents  \n",
       "0            20                 100             200           0         71250  \n",
       "1            10                 100             200        4010      13841274  \n",
       "2          2700                 100             100           0      12171639  \n",
       "3          3100                 100             100           0       4079700  \n",
       "4          1700                 100             400        3130       8660925  "
      ]
     },
     "execution_count": 64,
     "metadata": {},
     "output_type": "execute_result"
    }
   ],
   "source": [
    "COK12_df2.head()"
   ]
  },
  {
   "cell_type": "code",
   "execution_count": 65,
   "metadata": {},
   "outputs": [
    {
     "data": {
      "text/plain": [
       "district_code         int64\n",
       "admin_unit            int64\n",
       "school_code           int64\n",
       "fund_code             int64\n",
       "location_code         int64\n",
       "sre_code              int64\n",
       "program_code          int64\n",
       "object_source_code    int64\n",
       "job_class_code        int64\n",
       "grant_code            int64\n",
       "amount_cents          int64\n",
       "dtype: object"
      ]
     },
     "execution_count": 65,
     "metadata": {},
     "output_type": "execute_result"
    }
   ],
   "source": [
    "COK12_df2.dtypes"
   ]
  },
  {
   "cell_type": "code",
   "execution_count": 66,
   "metadata": {},
   "outputs": [],
   "source": [
    "# Try PrettyPandas\n",
    "# source: https://prettypandas.readthedocs.io/en/latest/quickstart.html\n",
    "from prettypandas import PrettyPandas"
   ]
  },
  {
   "cell_type": "code",
   "execution_count": 67,
   "metadata": {},
   "outputs": [],
   "source": [
    "# Attempt using pretty pandas currency attribute\n",
    "COK12_df3 = PrettyPandas(COK12_df2).as_currency(subset='amount_cents', currency=u'USD', locale=('en_US')) # Format just amount_cents column"
   ]
  },
  {
   "cell_type": "code",
   "execution_count": 68,
   "metadata": {},
   "outputs": [
    {
     "ename": "AttributeError",
     "evalue": "'PrettyPandas' object has no attribute 'head'",
     "output_type": "error",
     "traceback": [
      "\u001b[1;31m---------------------------------------------------------------------------\u001b[0m",
      "\u001b[1;31mAttributeError\u001b[0m                            Traceback (most recent call last)",
      "\u001b[1;32m<ipython-input-68-889c8d046c1a>\u001b[0m in \u001b[0;36m<module>\u001b[1;34m\u001b[0m\n\u001b[0;32m      1\u001b[0m \u001b[1;31m# Check head of data frame\u001b[0m\u001b[1;33m\u001b[0m\u001b[1;33m\u001b[0m\u001b[1;33m\u001b[0m\u001b[0m\n\u001b[1;32m----> 2\u001b[1;33m \u001b[0mCOK12_df3\u001b[0m\u001b[1;33m.\u001b[0m\u001b[0mhead\u001b[0m\u001b[1;33m(\u001b[0m\u001b[1;33m)\u001b[0m\u001b[1;33m\u001b[0m\u001b[1;33m\u001b[0m\u001b[0m\n\u001b[0m",
      "\u001b[1;31mAttributeError\u001b[0m: 'PrettyPandas' object has no attribute 'head'"
     ]
    }
   ],
   "source": [
    "# Check head of data frame\n",
    "COK12_df3.head()"
   ]
  },
  {
   "cell_type": "code",
   "execution_count": 69,
   "metadata": {},
   "outputs": [
    {
     "data": {
      "text/plain": [
       "prettypandas.summarizer.PrettyPandas"
      ]
     },
     "execution_count": 69,
     "metadata": {},
     "output_type": "execute_result"
    }
   ],
   "source": [
    "# Take a look at Pretty Pandas type, Is it actually a data frame?\n",
    "type(COK12_df3)"
   ]
  },
  {
   "cell_type": "markdown",
   "metadata": {},
   "source": [
    "### head() will not work on pretty pandas \"summarizer\" type..."
   ]
  },
  {
   "cell_type": "code",
   "execution_count": null,
   "metadata": {},
   "outputs": [],
   "source": [
    "# WARNING!!! This takes a long time to run...\n",
    "#Check to see if the amount_cents column converted to a currency type\n",
    "COK12_df3"
   ]
  },
  {
   "cell_type": "code",
   "execution_count": 84,
   "metadata": {},
   "outputs": [],
   "source": [
    "# Convert the pretty pandas summarizer back to a pandas data frame\n",
    "COK12_df4 = COK12_df3.to_frame()"
   ]
  },
  {
   "cell_type": "code",
   "execution_count": 85,
   "metadata": {},
   "outputs": [
    {
     "data": {
      "text/plain": [
       "pandas.core.frame.DataFrame"
      ]
     },
     "execution_count": 85,
     "metadata": {},
     "output_type": "execute_result"
    }
   ],
   "source": [
    "type(COK12_df4)"
   ]
  },
  {
   "cell_type": "markdown",
   "metadata": {},
   "source": [
    "### This is when head() will work on a pandas data frame not a pretty pandas summarizer type....\n",
    "<br>\n",
    "Investigate how to change amount_cents column into a <b>currency type</b>...."
   ]
  },
  {
   "cell_type": "code",
   "execution_count": 86,
   "metadata": {},
   "outputs": [
    {
     "data": {
      "text/html": [
       "<div>\n",
       "<style scoped>\n",
       "    .dataframe tbody tr th:only-of-type {\n",
       "        vertical-align: middle;\n",
       "    }\n",
       "\n",
       "    .dataframe tbody tr th {\n",
       "        vertical-align: top;\n",
       "    }\n",
       "\n",
       "    .dataframe thead th {\n",
       "        text-align: right;\n",
       "    }\n",
       "</style>\n",
       "<table border=\"1\" class=\"dataframe\">\n",
       "  <thead>\n",
       "    <tr style=\"text-align: right;\">\n",
       "      <th></th>\n",
       "      <th>district_code</th>\n",
       "      <th>admin_unit</th>\n",
       "      <th>school_code</th>\n",
       "      <th>fund_code</th>\n",
       "      <th>location_code</th>\n",
       "      <th>sre_code</th>\n",
       "      <th>program_code</th>\n",
       "      <th>object_source_code</th>\n",
       "      <th>job_class_code</th>\n",
       "      <th>grant_code</th>\n",
       "      <th>amount_cents</th>\n",
       "    </tr>\n",
       "  </thead>\n",
       "  <tbody>\n",
       "    <tr>\n",
       "      <th>0</th>\n",
       "      <td>3080</td>\n",
       "      <td>64203</td>\n",
       "      <td>0</td>\n",
       "      <td>10</td>\n",
       "      <td>600</td>\n",
       "      <td>0</td>\n",
       "      <td>20</td>\n",
       "      <td>100</td>\n",
       "      <td>200</td>\n",
       "      <td>0</td>\n",
       "      <td>71250</td>\n",
       "    </tr>\n",
       "    <tr>\n",
       "      <th>1</th>\n",
       "      <td>3080</td>\n",
       "      <td>64203</td>\n",
       "      <td>0</td>\n",
       "      <td>10</td>\n",
       "      <td>600</td>\n",
       "      <td>0</td>\n",
       "      <td>10</td>\n",
       "      <td>100</td>\n",
       "      <td>200</td>\n",
       "      <td>4010</td>\n",
       "      <td>13841274</td>\n",
       "    </tr>\n",
       "    <tr>\n",
       "      <th>2</th>\n",
       "      <td>3080</td>\n",
       "      <td>64203</td>\n",
       "      <td>0</td>\n",
       "      <td>10</td>\n",
       "      <td>700</td>\n",
       "      <td>0</td>\n",
       "      <td>2700</td>\n",
       "      <td>100</td>\n",
       "      <td>100</td>\n",
       "      <td>0</td>\n",
       "      <td>12171639</td>\n",
       "    </tr>\n",
       "    <tr>\n",
       "      <th>3</th>\n",
       "      <td>3080</td>\n",
       "      <td>64203</td>\n",
       "      <td>0</td>\n",
       "      <td>21</td>\n",
       "      <td>700</td>\n",
       "      <td>0</td>\n",
       "      <td>3100</td>\n",
       "      <td>100</td>\n",
       "      <td>100</td>\n",
       "      <td>0</td>\n",
       "      <td>4079700</td>\n",
       "    </tr>\n",
       "    <tr>\n",
       "      <th>4</th>\n",
       "      <td>3080</td>\n",
       "      <td>64203</td>\n",
       "      <td>4854</td>\n",
       "      <td>10</td>\n",
       "      <td>200</td>\n",
       "      <td>0</td>\n",
       "      <td>1700</td>\n",
       "      <td>100</td>\n",
       "      <td>400</td>\n",
       "      <td>3130</td>\n",
       "      <td>8660925</td>\n",
       "    </tr>\n",
       "  </tbody>\n",
       "</table>\n",
       "</div>"
      ],
      "text/plain": [
       "   district_code  admin_unit  school_code  fund_code  location_code  sre_code  \\\n",
       "0           3080       64203            0         10            600         0   \n",
       "1           3080       64203            0         10            600         0   \n",
       "2           3080       64203            0         10            700         0   \n",
       "3           3080       64203            0         21            700         0   \n",
       "4           3080       64203         4854         10            200         0   \n",
       "\n",
       "   program_code  object_source_code  job_class_code  grant_code  amount_cents  \n",
       "0            20                 100             200           0         71250  \n",
       "1            10                 100             200        4010      13841274  \n",
       "2          2700                 100             100           0      12171639  \n",
       "3          3100                 100             100           0       4079700  \n",
       "4          1700                 100             400        3130       8660925  "
      ]
     },
     "execution_count": 86,
     "metadata": {},
     "output_type": "execute_result"
    }
   ],
   "source": [
    "COK12_df4.head()"
   ]
  },
  {
   "cell_type": "markdown",
   "metadata": {},
   "source": [
    "### Why is the amount_cents column not converting to currency??"
   ]
  },
  {
   "cell_type": "markdown",
   "metadata": {},
   "source": [
    "Thanks to Professor Nathan George, he provided a helpful function to convert the column amount_cents to string and then back to float with the decimal in the correct place for the last 2 digits as the cents part of the currency value."
   ]
  },
  {
   "cell_type": "code",
   "execution_count": 87,
   "metadata": {},
   "outputs": [],
   "source": [
    "# Function to convert integer to string, add decimal, and convert bck to float. (Courtesy of Professor George)\n",
    "\n",
    "def convert_to_decimal(number):\n",
    "    # convert number to string\n",
    "    num_str = str(number)\n",
    "\n",
    "    # take everything but the last two digits as the integer part of the number\n",
    "    int_part = num_str[:-2]\n",
    "\n",
    "    # take the last 2 digits as the decimal places\n",
    "    dec_part = num_str[-2:]\n",
    "    \n",
    "    return int_part + dec_part"
   ]
  },
  {
   "cell_type": "code",
   "execution_count": 94,
   "metadata": {},
   "outputs": [
    {
     "ename": "TypeError",
     "evalue": "'method' object is not subscriptable",
     "output_type": "error",
     "traceback": [
      "\u001b[1;31m---------------------------------------------------------------------------\u001b[0m",
      "\u001b[1;31mTypeError\u001b[0m                                 Traceback (most recent call last)",
      "\u001b[1;32m<ipython-input-94-6ea647ab10b0>\u001b[0m in \u001b[0;36m<module>\u001b[1;34m\u001b[0m\n\u001b[1;32m----> 1\u001b[1;33m \u001b[0mCOK12_df4\u001b[0m\u001b[1;33m[\u001b[0m\u001b[1;34m'amount_cents'\u001b[0m\u001b[1;33m]\u001b[0m \u001b[1;33m=\u001b[0m \u001b[0mCOK12_df4\u001b[0m\u001b[1;33m.\u001b[0m\u001b[0mapply\u001b[0m\u001b[1;33m[\u001b[0m\u001b[1;34m'amount_cents'\u001b[0m\u001b[1;33m]\u001b[0m\u001b[1;33m.\u001b[0m\u001b[0mapply\u001b[0m\u001b[1;33m(\u001b[0m\u001b[0mconvert_to_decimal\u001b[0m\u001b[1;33m)\u001b[0m\u001b[1;33m\u001b[0m\u001b[1;33m\u001b[0m\u001b[0m\n\u001b[0m",
      "\u001b[1;31mTypeError\u001b[0m: 'method' object is not subscriptable"
     ]
    }
   ],
   "source": [
    "COK12_df4['amount_cents'] = COK12_df4.apply['amount_cents'].apply(convert_to_decimal)"
   ]
  },
  {
   "cell_type": "code",
   "execution_count": 97,
   "metadata": {},
   "outputs": [
    {
     "ename": "TypeError",
     "evalue": "'Series' object is not callable",
     "output_type": "error",
     "traceback": [
      "\u001b[1;31m---------------------------------------------------------------------------\u001b[0m",
      "\u001b[1;31mTypeError\u001b[0m                                 Traceback (most recent call last)",
      "\u001b[1;32m<ipython-input-97-b28e5a527665>\u001b[0m in \u001b[0;36m<module>\u001b[1;34m\u001b[0m\n\u001b[1;32m----> 1\u001b[1;33m \u001b[0mCOK12_df4\u001b[0m\u001b[1;33m.\u001b[0m\u001b[0mamount_cents\u001b[0m\u001b[1;33m(\u001b[0m\u001b[0mconvert_to_decimal\u001b[0m\u001b[1;33m)\u001b[0m\u001b[1;33m\u001b[0m\u001b[1;33m\u001b[0m\u001b[0m\n\u001b[0m",
      "\u001b[1;31mTypeError\u001b[0m: 'Series' object is not callable"
     ]
    }
   ],
   "source": [
    "COK12_df4.amount_cents(convert_to_decimal)"
   ]
  },
  {
   "cell_type": "code",
   "execution_count": 98,
   "metadata": {},
   "outputs": [
    {
     "data": {
      "text/plain": [
       "pandas.core.frame.DataFrame"
      ]
     },
     "execution_count": 98,
     "metadata": {},
     "output_type": "execute_result"
    }
   ],
   "source": [
    "type(COK12_df4)"
   ]
  },
  {
   "cell_type": "code",
   "execution_count": 95,
   "metadata": {},
   "outputs": [
    {
     "data": {
      "text/plain": [
       "district_code         int64\n",
       "admin_unit            int64\n",
       "school_code           int64\n",
       "fund_code             int64\n",
       "location_code         int64\n",
       "sre_code              int64\n",
       "program_code          int64\n",
       "object_source_code    int64\n",
       "job_class_code        int64\n",
       "grant_code            int64\n",
       "amount_cents          int64\n",
       "dtype: object"
      ]
     },
     "execution_count": 95,
     "metadata": {},
     "output_type": "execute_result"
    }
   ],
   "source": [
    "COK12_df4.dtypes"
   ]
  },
  {
   "cell_type": "code",
   "execution_count": 96,
   "metadata": {},
   "outputs": [
    {
     "data": {
      "text/html": [
       "<div>\n",
       "<style scoped>\n",
       "    .dataframe tbody tr th:only-of-type {\n",
       "        vertical-align: middle;\n",
       "    }\n",
       "\n",
       "    .dataframe tbody tr th {\n",
       "        vertical-align: top;\n",
       "    }\n",
       "\n",
       "    .dataframe thead th {\n",
       "        text-align: right;\n",
       "    }\n",
       "</style>\n",
       "<table border=\"1\" class=\"dataframe\">\n",
       "  <thead>\n",
       "    <tr style=\"text-align: right;\">\n",
       "      <th></th>\n",
       "      <th>district_code</th>\n",
       "      <th>admin_unit</th>\n",
       "      <th>school_code</th>\n",
       "      <th>fund_code</th>\n",
       "      <th>location_code</th>\n",
       "      <th>sre_code</th>\n",
       "      <th>program_code</th>\n",
       "      <th>object_source_code</th>\n",
       "      <th>job_class_code</th>\n",
       "      <th>grant_code</th>\n",
       "      <th>amount_cents</th>\n",
       "    </tr>\n",
       "  </thead>\n",
       "  <tbody>\n",
       "    <tr>\n",
       "      <th>0</th>\n",
       "      <td>3080</td>\n",
       "      <td>64203</td>\n",
       "      <td>0</td>\n",
       "      <td>10</td>\n",
       "      <td>600</td>\n",
       "      <td>0</td>\n",
       "      <td>20</td>\n",
       "      <td>100</td>\n",
       "      <td>200</td>\n",
       "      <td>0</td>\n",
       "      <td>71250</td>\n",
       "    </tr>\n",
       "    <tr>\n",
       "      <th>1</th>\n",
       "      <td>3080</td>\n",
       "      <td>64203</td>\n",
       "      <td>0</td>\n",
       "      <td>10</td>\n",
       "      <td>600</td>\n",
       "      <td>0</td>\n",
       "      <td>10</td>\n",
       "      <td>100</td>\n",
       "      <td>200</td>\n",
       "      <td>4010</td>\n",
       "      <td>13841274</td>\n",
       "    </tr>\n",
       "    <tr>\n",
       "      <th>2</th>\n",
       "      <td>3080</td>\n",
       "      <td>64203</td>\n",
       "      <td>0</td>\n",
       "      <td>10</td>\n",
       "      <td>700</td>\n",
       "      <td>0</td>\n",
       "      <td>2700</td>\n",
       "      <td>100</td>\n",
       "      <td>100</td>\n",
       "      <td>0</td>\n",
       "      <td>12171639</td>\n",
       "    </tr>\n",
       "    <tr>\n",
       "      <th>3</th>\n",
       "      <td>3080</td>\n",
       "      <td>64203</td>\n",
       "      <td>0</td>\n",
       "      <td>21</td>\n",
       "      <td>700</td>\n",
       "      <td>0</td>\n",
       "      <td>3100</td>\n",
       "      <td>100</td>\n",
       "      <td>100</td>\n",
       "      <td>0</td>\n",
       "      <td>4079700</td>\n",
       "    </tr>\n",
       "    <tr>\n",
       "      <th>4</th>\n",
       "      <td>3080</td>\n",
       "      <td>64203</td>\n",
       "      <td>4854</td>\n",
       "      <td>10</td>\n",
       "      <td>200</td>\n",
       "      <td>0</td>\n",
       "      <td>1700</td>\n",
       "      <td>100</td>\n",
       "      <td>400</td>\n",
       "      <td>3130</td>\n",
       "      <td>8660925</td>\n",
       "    </tr>\n",
       "  </tbody>\n",
       "</table>\n",
       "</div>"
      ],
      "text/plain": [
       "   district_code  admin_unit  school_code  fund_code  location_code  sre_code  \\\n",
       "0           3080       64203            0         10            600         0   \n",
       "1           3080       64203            0         10            600         0   \n",
       "2           3080       64203            0         10            700         0   \n",
       "3           3080       64203            0         21            700         0   \n",
       "4           3080       64203         4854         10            200         0   \n",
       "\n",
       "   program_code  object_source_code  job_class_code  grant_code  amount_cents  \n",
       "0            20                 100             200           0         71250  \n",
       "1            10                 100             200        4010      13841274  \n",
       "2          2700                 100             100           0      12171639  \n",
       "3          3100                 100             100           0       4079700  \n",
       "4          1700                 100             400        3130       8660925  "
      ]
     },
     "execution_count": 96,
     "metadata": {},
     "output_type": "execute_result"
    }
   ],
   "source": [
    "COK12_df4.head()"
   ]
  },
  {
   "cell_type": "code",
   "execution_count": 58,
   "metadata": {},
   "outputs": [],
   "source": [
    "# Continue working on how to change amount_cents column into currency ex: 712.50"
   ]
  },
  {
   "cell_type": "code",
   "execution_count": null,
   "metadata": {},
   "outputs": [],
   "source": [
    "# Stopped code here"
   ]
  },
  {
   "cell_type": "markdown",
   "metadata": {},
   "source": [
    "## <center>Attempt feature engineering</center>\n",
    "<br>\n",
    "Column 11 amount_cents is the target variable.\n",
    "<br>\n",
    "<br>\n",
    "I will attempt to:<br>\n",
    "* Conduct a 80 / 20 train-test split<br>\n",
    "* Train a RandomForestClassifier<br>\n",
    "* Look at the feature importance of each column to the target value<br>\n",
    "* Run & evaluate accuracy on the test data<br>"
   ]
  },
  {
   "cell_type": "code",
   "execution_count": 99,
   "metadata": {},
   "outputs": [],
   "source": [
    "#Import scikit learn library\n",
    "from sklearn.model_selection import train_test_split\n",
    "from sklearn.ensemble import RandomForestClassifier"
   ]
  },
  {
   "cell_type": "code",
   "execution_count": 100,
   "metadata": {},
   "outputs": [],
   "source": [
    "# Assign y value to target value and drop from original date frame\n",
    "y = COK12_df2.amount_cents\n",
    "x = COK12_df2.drop(['amount_cents'], axis=1)"
   ]
  },
  {
   "cell_type": "code",
   "execution_count": 101,
   "metadata": {},
   "outputs": [],
   "source": [
    "x_train,x_test,y_train,y_test=train_test_split(x,y,test_size=0.3)"
   ]
  },
  {
   "cell_type": "code",
   "execution_count": 102,
   "metadata": {},
   "outputs": [],
   "source": [
    "clf=RandomForestClassifier(n_estimators=100)"
   ]
  },
  {
   "cell_type": "code",
   "execution_count": 103,
   "metadata": {},
   "outputs": [],
   "source": [
    "from sklearn import preprocessing\n",
    "le = preprocessing.LabelEncoder()\n",
    "for column_name in x_train.columns:\n",
    "        if x_train[column_name].dtype == object:\n",
    "            x_train[column_name] = le.fit_transform(x_train[column_name])\n",
    "        else:\n",
    "            pass"
   ]
  },
  {
   "cell_type": "code",
   "execution_count": 104,
   "metadata": {},
   "outputs": [
    {
     "ename": "MemoryError",
     "evalue": "could not allocate 10520100864 bytes",
     "output_type": "error",
     "traceback": [
      "\u001b[1;31m---------------------------------------------------------------------------\u001b[0m",
      "\u001b[1;31mMemoryError\u001b[0m                               Traceback (most recent call last)",
      "\u001b[1;32m<ipython-input-104-23a7f0d6d621>\u001b[0m in \u001b[0;36m<module>\u001b[1;34m\u001b[0m\n\u001b[1;32m----> 1\u001b[1;33m \u001b[0mclf\u001b[0m\u001b[1;33m.\u001b[0m\u001b[0mfit\u001b[0m\u001b[1;33m(\u001b[0m\u001b[0mx_train\u001b[0m\u001b[1;33m,\u001b[0m\u001b[0my_train\u001b[0m\u001b[1;33m)\u001b[0m\u001b[1;33m\u001b[0m\u001b[1;33m\u001b[0m\u001b[0m\n\u001b[0m",
      "\u001b[1;32mC:\\ProgramData\\Anaconda3\\lib\\site-packages\\sklearn\\ensemble\\_forest.py\u001b[0m in \u001b[0;36mfit\u001b[1;34m(self, X, y, sample_weight)\u001b[0m\n\u001b[0;32m    381\u001b[0m                     \u001b[0mverbose\u001b[0m\u001b[1;33m=\u001b[0m\u001b[0mself\u001b[0m\u001b[1;33m.\u001b[0m\u001b[0mverbose\u001b[0m\u001b[1;33m,\u001b[0m \u001b[0mclass_weight\u001b[0m\u001b[1;33m=\u001b[0m\u001b[0mself\u001b[0m\u001b[1;33m.\u001b[0m\u001b[0mclass_weight\u001b[0m\u001b[1;33m,\u001b[0m\u001b[1;33m\u001b[0m\u001b[1;33m\u001b[0m\u001b[0m\n\u001b[0;32m    382\u001b[0m                     n_samples_bootstrap=n_samples_bootstrap)\n\u001b[1;32m--> 383\u001b[1;33m                 for i, t in enumerate(trees))\n\u001b[0m\u001b[0;32m    384\u001b[0m \u001b[1;33m\u001b[0m\u001b[0m\n\u001b[0;32m    385\u001b[0m             \u001b[1;31m# Collect newly grown trees\u001b[0m\u001b[1;33m\u001b[0m\u001b[1;33m\u001b[0m\u001b[1;33m\u001b[0m\u001b[0m\n",
      "\u001b[1;32mC:\\ProgramData\\Anaconda3\\lib\\site-packages\\joblib\\parallel.py\u001b[0m in \u001b[0;36m__call__\u001b[1;34m(self, iterable)\u001b[0m\n\u001b[0;32m   1002\u001b[0m             \u001b[1;31m# remaining jobs.\u001b[0m\u001b[1;33m\u001b[0m\u001b[1;33m\u001b[0m\u001b[1;33m\u001b[0m\u001b[0m\n\u001b[0;32m   1003\u001b[0m             \u001b[0mself\u001b[0m\u001b[1;33m.\u001b[0m\u001b[0m_iterating\u001b[0m \u001b[1;33m=\u001b[0m \u001b[1;32mFalse\u001b[0m\u001b[1;33m\u001b[0m\u001b[1;33m\u001b[0m\u001b[0m\n\u001b[1;32m-> 1004\u001b[1;33m             \u001b[1;32mif\u001b[0m \u001b[0mself\u001b[0m\u001b[1;33m.\u001b[0m\u001b[0mdispatch_one_batch\u001b[0m\u001b[1;33m(\u001b[0m\u001b[0miterator\u001b[0m\u001b[1;33m)\u001b[0m\u001b[1;33m:\u001b[0m\u001b[1;33m\u001b[0m\u001b[1;33m\u001b[0m\u001b[0m\n\u001b[0m\u001b[0;32m   1005\u001b[0m                 \u001b[0mself\u001b[0m\u001b[1;33m.\u001b[0m\u001b[0m_iterating\u001b[0m \u001b[1;33m=\u001b[0m \u001b[0mself\u001b[0m\u001b[1;33m.\u001b[0m\u001b[0m_original_iterator\u001b[0m \u001b[1;32mis\u001b[0m \u001b[1;32mnot\u001b[0m \u001b[1;32mNone\u001b[0m\u001b[1;33m\u001b[0m\u001b[1;33m\u001b[0m\u001b[0m\n\u001b[0;32m   1006\u001b[0m \u001b[1;33m\u001b[0m\u001b[0m\n",
      "\u001b[1;32mC:\\ProgramData\\Anaconda3\\lib\\site-packages\\joblib\\parallel.py\u001b[0m in \u001b[0;36mdispatch_one_batch\u001b[1;34m(self, iterator)\u001b[0m\n\u001b[0;32m    833\u001b[0m                 \u001b[1;32mreturn\u001b[0m \u001b[1;32mFalse\u001b[0m\u001b[1;33m\u001b[0m\u001b[1;33m\u001b[0m\u001b[0m\n\u001b[0;32m    834\u001b[0m             \u001b[1;32melse\u001b[0m\u001b[1;33m:\u001b[0m\u001b[1;33m\u001b[0m\u001b[1;33m\u001b[0m\u001b[0m\n\u001b[1;32m--> 835\u001b[1;33m                 \u001b[0mself\u001b[0m\u001b[1;33m.\u001b[0m\u001b[0m_dispatch\u001b[0m\u001b[1;33m(\u001b[0m\u001b[0mtasks\u001b[0m\u001b[1;33m)\u001b[0m\u001b[1;33m\u001b[0m\u001b[1;33m\u001b[0m\u001b[0m\n\u001b[0m\u001b[0;32m    836\u001b[0m                 \u001b[1;32mreturn\u001b[0m \u001b[1;32mTrue\u001b[0m\u001b[1;33m\u001b[0m\u001b[1;33m\u001b[0m\u001b[0m\n\u001b[0;32m    837\u001b[0m \u001b[1;33m\u001b[0m\u001b[0m\n",
      "\u001b[1;32mC:\\ProgramData\\Anaconda3\\lib\\site-packages\\joblib\\parallel.py\u001b[0m in \u001b[0;36m_dispatch\u001b[1;34m(self, batch)\u001b[0m\n\u001b[0;32m    752\u001b[0m         \u001b[1;32mwith\u001b[0m \u001b[0mself\u001b[0m\u001b[1;33m.\u001b[0m\u001b[0m_lock\u001b[0m\u001b[1;33m:\u001b[0m\u001b[1;33m\u001b[0m\u001b[1;33m\u001b[0m\u001b[0m\n\u001b[0;32m    753\u001b[0m             \u001b[0mjob_idx\u001b[0m \u001b[1;33m=\u001b[0m \u001b[0mlen\u001b[0m\u001b[1;33m(\u001b[0m\u001b[0mself\u001b[0m\u001b[1;33m.\u001b[0m\u001b[0m_jobs\u001b[0m\u001b[1;33m)\u001b[0m\u001b[1;33m\u001b[0m\u001b[1;33m\u001b[0m\u001b[0m\n\u001b[1;32m--> 754\u001b[1;33m             \u001b[0mjob\u001b[0m \u001b[1;33m=\u001b[0m \u001b[0mself\u001b[0m\u001b[1;33m.\u001b[0m\u001b[0m_backend\u001b[0m\u001b[1;33m.\u001b[0m\u001b[0mapply_async\u001b[0m\u001b[1;33m(\u001b[0m\u001b[0mbatch\u001b[0m\u001b[1;33m,\u001b[0m \u001b[0mcallback\u001b[0m\u001b[1;33m=\u001b[0m\u001b[0mcb\u001b[0m\u001b[1;33m)\u001b[0m\u001b[1;33m\u001b[0m\u001b[1;33m\u001b[0m\u001b[0m\n\u001b[0m\u001b[0;32m    755\u001b[0m             \u001b[1;31m# A job can complete so quickly than its callback is\u001b[0m\u001b[1;33m\u001b[0m\u001b[1;33m\u001b[0m\u001b[1;33m\u001b[0m\u001b[0m\n\u001b[0;32m    756\u001b[0m             \u001b[1;31m# called before we get here, causing self._jobs to\u001b[0m\u001b[1;33m\u001b[0m\u001b[1;33m\u001b[0m\u001b[1;33m\u001b[0m\u001b[0m\n",
      "\u001b[1;32mC:\\ProgramData\\Anaconda3\\lib\\site-packages\\joblib\\_parallel_backends.py\u001b[0m in \u001b[0;36mapply_async\u001b[1;34m(self, func, callback)\u001b[0m\n\u001b[0;32m    207\u001b[0m     \u001b[1;32mdef\u001b[0m \u001b[0mapply_async\u001b[0m\u001b[1;33m(\u001b[0m\u001b[0mself\u001b[0m\u001b[1;33m,\u001b[0m \u001b[0mfunc\u001b[0m\u001b[1;33m,\u001b[0m \u001b[0mcallback\u001b[0m\u001b[1;33m=\u001b[0m\u001b[1;32mNone\u001b[0m\u001b[1;33m)\u001b[0m\u001b[1;33m:\u001b[0m\u001b[1;33m\u001b[0m\u001b[1;33m\u001b[0m\u001b[0m\n\u001b[0;32m    208\u001b[0m         \u001b[1;34m\"\"\"Schedule a func to be run\"\"\"\u001b[0m\u001b[1;33m\u001b[0m\u001b[1;33m\u001b[0m\u001b[0m\n\u001b[1;32m--> 209\u001b[1;33m         \u001b[0mresult\u001b[0m \u001b[1;33m=\u001b[0m \u001b[0mImmediateResult\u001b[0m\u001b[1;33m(\u001b[0m\u001b[0mfunc\u001b[0m\u001b[1;33m)\u001b[0m\u001b[1;33m\u001b[0m\u001b[1;33m\u001b[0m\u001b[0m\n\u001b[0m\u001b[0;32m    210\u001b[0m         \u001b[1;32mif\u001b[0m \u001b[0mcallback\u001b[0m\u001b[1;33m:\u001b[0m\u001b[1;33m\u001b[0m\u001b[1;33m\u001b[0m\u001b[0m\n\u001b[0;32m    211\u001b[0m             \u001b[0mcallback\u001b[0m\u001b[1;33m(\u001b[0m\u001b[0mresult\u001b[0m\u001b[1;33m)\u001b[0m\u001b[1;33m\u001b[0m\u001b[1;33m\u001b[0m\u001b[0m\n",
      "\u001b[1;32mC:\\ProgramData\\Anaconda3\\lib\\site-packages\\joblib\\_parallel_backends.py\u001b[0m in \u001b[0;36m__init__\u001b[1;34m(self, batch)\u001b[0m\n\u001b[0;32m    588\u001b[0m         \u001b[1;31m# Don't delay the application, to avoid keeping the input\u001b[0m\u001b[1;33m\u001b[0m\u001b[1;33m\u001b[0m\u001b[1;33m\u001b[0m\u001b[0m\n\u001b[0;32m    589\u001b[0m         \u001b[1;31m# arguments in memory\u001b[0m\u001b[1;33m\u001b[0m\u001b[1;33m\u001b[0m\u001b[1;33m\u001b[0m\u001b[0m\n\u001b[1;32m--> 590\u001b[1;33m         \u001b[0mself\u001b[0m\u001b[1;33m.\u001b[0m\u001b[0mresults\u001b[0m \u001b[1;33m=\u001b[0m \u001b[0mbatch\u001b[0m\u001b[1;33m(\u001b[0m\u001b[1;33m)\u001b[0m\u001b[1;33m\u001b[0m\u001b[1;33m\u001b[0m\u001b[0m\n\u001b[0m\u001b[0;32m    591\u001b[0m \u001b[1;33m\u001b[0m\u001b[0m\n\u001b[0;32m    592\u001b[0m     \u001b[1;32mdef\u001b[0m \u001b[0mget\u001b[0m\u001b[1;33m(\u001b[0m\u001b[0mself\u001b[0m\u001b[1;33m)\u001b[0m\u001b[1;33m:\u001b[0m\u001b[1;33m\u001b[0m\u001b[1;33m\u001b[0m\u001b[0m\n",
      "\u001b[1;32mC:\\ProgramData\\Anaconda3\\lib\\site-packages\\joblib\\parallel.py\u001b[0m in \u001b[0;36m__call__\u001b[1;34m(self)\u001b[0m\n\u001b[0;32m    254\u001b[0m         \u001b[1;32mwith\u001b[0m \u001b[0mparallel_backend\u001b[0m\u001b[1;33m(\u001b[0m\u001b[0mself\u001b[0m\u001b[1;33m.\u001b[0m\u001b[0m_backend\u001b[0m\u001b[1;33m,\u001b[0m \u001b[0mn_jobs\u001b[0m\u001b[1;33m=\u001b[0m\u001b[0mself\u001b[0m\u001b[1;33m.\u001b[0m\u001b[0m_n_jobs\u001b[0m\u001b[1;33m)\u001b[0m\u001b[1;33m:\u001b[0m\u001b[1;33m\u001b[0m\u001b[1;33m\u001b[0m\u001b[0m\n\u001b[0;32m    255\u001b[0m             return [func(*args, **kwargs)\n\u001b[1;32m--> 256\u001b[1;33m                     for func, args, kwargs in self.items]\n\u001b[0m\u001b[0;32m    257\u001b[0m \u001b[1;33m\u001b[0m\u001b[0m\n\u001b[0;32m    258\u001b[0m     \u001b[1;32mdef\u001b[0m \u001b[0m__len__\u001b[0m\u001b[1;33m(\u001b[0m\u001b[0mself\u001b[0m\u001b[1;33m)\u001b[0m\u001b[1;33m:\u001b[0m\u001b[1;33m\u001b[0m\u001b[1;33m\u001b[0m\u001b[0m\n",
      "\u001b[1;32mC:\\ProgramData\\Anaconda3\\lib\\site-packages\\joblib\\parallel.py\u001b[0m in \u001b[0;36m<listcomp>\u001b[1;34m(.0)\u001b[0m\n\u001b[0;32m    254\u001b[0m         \u001b[1;32mwith\u001b[0m \u001b[0mparallel_backend\u001b[0m\u001b[1;33m(\u001b[0m\u001b[0mself\u001b[0m\u001b[1;33m.\u001b[0m\u001b[0m_backend\u001b[0m\u001b[1;33m,\u001b[0m \u001b[0mn_jobs\u001b[0m\u001b[1;33m=\u001b[0m\u001b[0mself\u001b[0m\u001b[1;33m.\u001b[0m\u001b[0m_n_jobs\u001b[0m\u001b[1;33m)\u001b[0m\u001b[1;33m:\u001b[0m\u001b[1;33m\u001b[0m\u001b[1;33m\u001b[0m\u001b[0m\n\u001b[0;32m    255\u001b[0m             return [func(*args, **kwargs)\n\u001b[1;32m--> 256\u001b[1;33m                     for func, args, kwargs in self.items]\n\u001b[0m\u001b[0;32m    257\u001b[0m \u001b[1;33m\u001b[0m\u001b[0m\n\u001b[0;32m    258\u001b[0m     \u001b[1;32mdef\u001b[0m \u001b[0m__len__\u001b[0m\u001b[1;33m(\u001b[0m\u001b[0mself\u001b[0m\u001b[1;33m)\u001b[0m\u001b[1;33m:\u001b[0m\u001b[1;33m\u001b[0m\u001b[1;33m\u001b[0m\u001b[0m\n",
      "\u001b[1;32mC:\\ProgramData\\Anaconda3\\lib\\site-packages\\sklearn\\ensemble\\_forest.py\u001b[0m in \u001b[0;36m_parallel_build_trees\u001b[1;34m(tree, forest, X, y, sample_weight, tree_idx, n_trees, verbose, class_weight, n_samples_bootstrap)\u001b[0m\n\u001b[0;32m    163\u001b[0m             \u001b[0mcurr_sample_weight\u001b[0m \u001b[1;33m*=\u001b[0m \u001b[0mcompute_sample_weight\u001b[0m\u001b[1;33m(\u001b[0m\u001b[1;34m'balanced'\u001b[0m\u001b[1;33m,\u001b[0m \u001b[0my\u001b[0m\u001b[1;33m,\u001b[0m \u001b[0mindices\u001b[0m\u001b[1;33m)\u001b[0m\u001b[1;33m\u001b[0m\u001b[1;33m\u001b[0m\u001b[0m\n\u001b[0;32m    164\u001b[0m \u001b[1;33m\u001b[0m\u001b[0m\n\u001b[1;32m--> 165\u001b[1;33m         \u001b[0mtree\u001b[0m\u001b[1;33m.\u001b[0m\u001b[0mfit\u001b[0m\u001b[1;33m(\u001b[0m\u001b[0mX\u001b[0m\u001b[1;33m,\u001b[0m \u001b[0my\u001b[0m\u001b[1;33m,\u001b[0m \u001b[0msample_weight\u001b[0m\u001b[1;33m=\u001b[0m\u001b[0mcurr_sample_weight\u001b[0m\u001b[1;33m,\u001b[0m \u001b[0mcheck_input\u001b[0m\u001b[1;33m=\u001b[0m\u001b[1;32mFalse\u001b[0m\u001b[1;33m)\u001b[0m\u001b[1;33m\u001b[0m\u001b[1;33m\u001b[0m\u001b[0m\n\u001b[0m\u001b[0;32m    166\u001b[0m     \u001b[1;32melse\u001b[0m\u001b[1;33m:\u001b[0m\u001b[1;33m\u001b[0m\u001b[1;33m\u001b[0m\u001b[0m\n\u001b[0;32m    167\u001b[0m         \u001b[0mtree\u001b[0m\u001b[1;33m.\u001b[0m\u001b[0mfit\u001b[0m\u001b[1;33m(\u001b[0m\u001b[0mX\u001b[0m\u001b[1;33m,\u001b[0m \u001b[0my\u001b[0m\u001b[1;33m,\u001b[0m \u001b[0msample_weight\u001b[0m\u001b[1;33m=\u001b[0m\u001b[0msample_weight\u001b[0m\u001b[1;33m,\u001b[0m \u001b[0mcheck_input\u001b[0m\u001b[1;33m=\u001b[0m\u001b[1;32mFalse\u001b[0m\u001b[1;33m)\u001b[0m\u001b[1;33m\u001b[0m\u001b[1;33m\u001b[0m\u001b[0m\n",
      "\u001b[1;32mC:\\ProgramData\\Anaconda3\\lib\\site-packages\\sklearn\\tree\\_classes.py\u001b[0m in \u001b[0;36mfit\u001b[1;34m(self, X, y, sample_weight, check_input, X_idx_sorted)\u001b[0m\n\u001b[0;32m    875\u001b[0m             \u001b[0msample_weight\u001b[0m\u001b[1;33m=\u001b[0m\u001b[0msample_weight\u001b[0m\u001b[1;33m,\u001b[0m\u001b[1;33m\u001b[0m\u001b[1;33m\u001b[0m\u001b[0m\n\u001b[0;32m    876\u001b[0m             \u001b[0mcheck_input\u001b[0m\u001b[1;33m=\u001b[0m\u001b[0mcheck_input\u001b[0m\u001b[1;33m,\u001b[0m\u001b[1;33m\u001b[0m\u001b[1;33m\u001b[0m\u001b[0m\n\u001b[1;32m--> 877\u001b[1;33m             X_idx_sorted=X_idx_sorted)\n\u001b[0m\u001b[0;32m    878\u001b[0m         \u001b[1;32mreturn\u001b[0m \u001b[0mself\u001b[0m\u001b[1;33m\u001b[0m\u001b[1;33m\u001b[0m\u001b[0m\n\u001b[0;32m    879\u001b[0m \u001b[1;33m\u001b[0m\u001b[0m\n",
      "\u001b[1;32mC:\\ProgramData\\Anaconda3\\lib\\site-packages\\sklearn\\tree\\_classes.py\u001b[0m in \u001b[0;36mfit\u001b[1;34m(self, X, y, sample_weight, check_input, X_idx_sorted)\u001b[0m\n\u001b[0;32m    365\u001b[0m                                            min_impurity_split)\n\u001b[0;32m    366\u001b[0m \u001b[1;33m\u001b[0m\u001b[0m\n\u001b[1;32m--> 367\u001b[1;33m         \u001b[0mbuilder\u001b[0m\u001b[1;33m.\u001b[0m\u001b[0mbuild\u001b[0m\u001b[1;33m(\u001b[0m\u001b[0mself\u001b[0m\u001b[1;33m.\u001b[0m\u001b[0mtree_\u001b[0m\u001b[1;33m,\u001b[0m \u001b[0mX\u001b[0m\u001b[1;33m,\u001b[0m \u001b[0my\u001b[0m\u001b[1;33m,\u001b[0m \u001b[0msample_weight\u001b[0m\u001b[1;33m,\u001b[0m \u001b[0mX_idx_sorted\u001b[0m\u001b[1;33m)\u001b[0m\u001b[1;33m\u001b[0m\u001b[1;33m\u001b[0m\u001b[0m\n\u001b[0m\u001b[0;32m    368\u001b[0m \u001b[1;33m\u001b[0m\u001b[0m\n\u001b[0;32m    369\u001b[0m         \u001b[1;32mif\u001b[0m \u001b[0mself\u001b[0m\u001b[1;33m.\u001b[0m\u001b[0mn_outputs_\u001b[0m \u001b[1;33m==\u001b[0m \u001b[1;36m1\u001b[0m \u001b[1;32mand\u001b[0m \u001b[0mis_classifier\u001b[0m\u001b[1;33m(\u001b[0m\u001b[0mself\u001b[0m\u001b[1;33m)\u001b[0m\u001b[1;33m:\u001b[0m\u001b[1;33m\u001b[0m\u001b[1;33m\u001b[0m\u001b[0m\n",
      "\u001b[1;32msklearn\\tree\\_tree.pyx\u001b[0m in \u001b[0;36msklearn.tree._tree.DepthFirstTreeBuilder.build\u001b[1;34m()\u001b[0m\n",
      "\u001b[1;32msklearn\\tree\\_tree.pyx\u001b[0m in \u001b[0;36msklearn.tree._tree.DepthFirstTreeBuilder.build\u001b[1;34m()\u001b[0m\n",
      "\u001b[1;32msklearn\\tree\\_tree.pyx\u001b[0m in \u001b[0;36msklearn.tree._tree.Tree._add_node\u001b[1;34m()\u001b[0m\n",
      "\u001b[1;32msklearn\\tree\\_tree.pyx\u001b[0m in \u001b[0;36msklearn.tree._tree.Tree._resize_c\u001b[1;34m()\u001b[0m\n",
      "\u001b[1;32msklearn\\tree\\_utils.pyx\u001b[0m in \u001b[0;36msklearn.tree._utils.safe_realloc\u001b[1;34m()\u001b[0m\n",
      "\u001b[1;31mMemoryError\u001b[0m: could not allocate 10520100864 bytes"
     ]
    }
   ],
   "source": [
    "clf.fit(x_train,y_train)"
   ]
  },
  {
   "cell_type": "markdown",
   "metadata": {},
   "source": [
    "### Find out my there is a MemoryError??? as listed above???"
   ]
  },
  {
   "cell_type": "code",
   "execution_count": null,
   "metadata": {},
   "outputs": [],
   "source": []
  },
  {
   "cell_type": "code",
   "execution_count": null,
   "metadata": {},
   "outputs": [],
   "source": []
  },
  {
   "cell_type": "code",
   "execution_count": null,
   "metadata": {},
   "outputs": [],
   "source": []
  },
  {
   "cell_type": "markdown",
   "metadata": {},
   "source": [
    "## <center>REFINED VISUALIZATIONS</center>"
   ]
  },
  {
   "cell_type": "code",
   "execution_count": null,
   "metadata": {},
   "outputs": [],
   "source": []
  },
  {
   "cell_type": "code",
   "execution_count": null,
   "metadata": {},
   "outputs": [],
   "source": []
  },
  {
   "cell_type": "code",
   "execution_count": null,
   "metadata": {},
   "outputs": [],
   "source": []
  },
  {
   "cell_type": "markdown",
   "metadata": {},
   "source": [
    "Poor attempt at paandas profile report...."
   ]
  },
  {
   "cell_type": "code",
   "execution_count": 13,
   "metadata": {},
   "outputs": [
    {
     "ename": "TypeError",
     "evalue": "_plot_histogram() got an unexpected keyword argument 'title'",
     "output_type": "error",
     "traceback": [
      "\u001b[1;31m---------------------------------------------------------------------------\u001b[0m",
      "\u001b[1;31mRemoteTraceback\u001b[0m                           Traceback (most recent call last)",
      "\u001b[1;31mRemoteTraceback\u001b[0m: \n\"\"\"\nTraceback (most recent call last):\n  File \"C:\\ProgramData\\Anaconda3\\lib\\multiprocessing\\pool.py\", line 121, in worker\n    result = (True, func(*args, **kwds))\n  File \"C:\\ProgramData\\Anaconda3\\lib\\multiprocessing\\pool.py\", line 44, in mapstar\n    return list(map(*args))\n  File \"C:\\ProgramData\\Anaconda3\\lib\\site-packages\\pandas_profiling\\describe.py\", line 282, in multiprocess_func\n    return x[0], describe_1d(x[1], **kwargs)\n  File \"C:\\ProgramData\\Anaconda3\\lib\\site-packages\\pandas_profiling\\describe.py\", line 270, in describe_1d\n    result = result.append(describe_numeric_1d(data, **kwargs))\n  File \"C:\\ProgramData\\Anaconda3\\lib\\site-packages\\pandas_profiling\\describe.py\", line 54, in describe_numeric_1d\n    stats['histogram'] = histogram(series, **kwargs)\n  File \"C:\\ProgramData\\Anaconda3\\lib\\site-packages\\pandas_profiling\\plot.py\", line 73, in histogram\n    plot = _plot_histogram(series, **kwargs)\nTypeError: _plot_histogram() got an unexpected keyword argument 'title'\n\"\"\"",
      "\nThe above exception was the direct cause of the following exception:\n",
      "\u001b[1;31mTypeError\u001b[0m                                 Traceback (most recent call last)",
      "\u001b[1;32m<ipython-input-13-b6fce0046184>\u001b[0m in \u001b[0;36m<module>\u001b[1;34m\u001b[0m\n\u001b[0;32m      1\u001b[0m \u001b[1;31m# Generate pandas profile report\u001b[0m\u001b[1;33m\u001b[0m\u001b[1;33m\u001b[0m\u001b[1;33m\u001b[0m\u001b[0m\n\u001b[1;32m----> 2\u001b[1;33m \u001b[0mCOK12_profile\u001b[0m \u001b[1;33m=\u001b[0m \u001b[0mProfileReport\u001b[0m\u001b[1;33m(\u001b[0m\u001b[0mCOK12_df\u001b[0m\u001b[1;33m,\u001b[0m \u001b[0mtitle\u001b[0m\u001b[1;33m=\u001b[0m\u001b[1;34m'Pandas CO K12 Profiling Report'\u001b[0m\u001b[1;33m,\u001b[0m \u001b[0mhtml\u001b[0m\u001b[1;33m=\u001b[0m\u001b[1;33m{\u001b[0m\u001b[1;34m'style'\u001b[0m\u001b[1;33m:\u001b[0m\u001b[1;33m{\u001b[0m\u001b[1;34m'full_width'\u001b[0m\u001b[1;33m:\u001b[0m\u001b[1;32mTrue\u001b[0m\u001b[1;33m}\u001b[0m\u001b[1;33m}\u001b[0m\u001b[1;33m)\u001b[0m\u001b[1;33m\u001b[0m\u001b[1;33m\u001b[0m\u001b[0m\n\u001b[0m",
      "\u001b[1;32mC:\\ProgramData\\Anaconda3\\lib\\site-packages\\pandas_profiling\\__init__.py\u001b[0m in \u001b[0;36m__init__\u001b[1;34m(self, df, **kwargs)\u001b[0m\n\u001b[0;32m     64\u001b[0m         \u001b[0msample\u001b[0m \u001b[1;33m=\u001b[0m \u001b[0mkwargs\u001b[0m\u001b[1;33m.\u001b[0m\u001b[0mget\u001b[0m\u001b[1;33m(\u001b[0m\u001b[1;34m'sample'\u001b[0m\u001b[1;33m,\u001b[0m \u001b[0mdf\u001b[0m\u001b[1;33m.\u001b[0m\u001b[0mhead\u001b[0m\u001b[1;33m(\u001b[0m\u001b[1;33m)\u001b[0m\u001b[1;33m)\u001b[0m\u001b[1;33m\u001b[0m\u001b[1;33m\u001b[0m\u001b[0m\n\u001b[0;32m     65\u001b[0m \u001b[1;33m\u001b[0m\u001b[0m\n\u001b[1;32m---> 66\u001b[1;33m         \u001b[0mdescription_set\u001b[0m \u001b[1;33m=\u001b[0m \u001b[0mdescribe\u001b[0m\u001b[1;33m(\u001b[0m\u001b[0mdf\u001b[0m\u001b[1;33m,\u001b[0m \u001b[1;33m**\u001b[0m\u001b[0mkwargs\u001b[0m\u001b[1;33m)\u001b[0m\u001b[1;33m\u001b[0m\u001b[1;33m\u001b[0m\u001b[0m\n\u001b[0m\u001b[0;32m     67\u001b[0m \u001b[1;33m\u001b[0m\u001b[0m\n\u001b[0;32m     68\u001b[0m         self.html = to_html(sample,\n",
      "\u001b[1;32mC:\\ProgramData\\Anaconda3\\lib\\site-packages\\pandas_profiling\\describe.py\u001b[0m in \u001b[0;36mdescribe\u001b[1;34m(df, bins, check_correlation, correlation_threshold, correlation_overrides, check_recoded, pool_size, **kwargs)\u001b[0m\n\u001b[0;32m    349\u001b[0m     \u001b[0mpool\u001b[0m \u001b[1;33m=\u001b[0m \u001b[0mmultiprocessing\u001b[0m\u001b[1;33m.\u001b[0m\u001b[0mPool\u001b[0m\u001b[1;33m(\u001b[0m\u001b[0mpool_size\u001b[0m\u001b[1;33m)\u001b[0m\u001b[1;33m\u001b[0m\u001b[1;33m\u001b[0m\u001b[0m\n\u001b[0;32m    350\u001b[0m     \u001b[0mlocal_multiprocess_func\u001b[0m \u001b[1;33m=\u001b[0m \u001b[0mpartial\u001b[0m\u001b[1;33m(\u001b[0m\u001b[0mmultiprocess_func\u001b[0m\u001b[1;33m,\u001b[0m \u001b[1;33m**\u001b[0m\u001b[0mkwargs\u001b[0m\u001b[1;33m)\u001b[0m\u001b[1;33m\u001b[0m\u001b[1;33m\u001b[0m\u001b[0m\n\u001b[1;32m--> 351\u001b[1;33m     \u001b[0mldesc\u001b[0m \u001b[1;33m=\u001b[0m \u001b[1;33m{\u001b[0m\u001b[0mcol\u001b[0m\u001b[1;33m:\u001b[0m \u001b[0ms\u001b[0m \u001b[1;32mfor\u001b[0m \u001b[0mcol\u001b[0m\u001b[1;33m,\u001b[0m \u001b[0ms\u001b[0m \u001b[1;32min\u001b[0m \u001b[0mpool\u001b[0m\u001b[1;33m.\u001b[0m\u001b[0mmap\u001b[0m\u001b[1;33m(\u001b[0m\u001b[0mlocal_multiprocess_func\u001b[0m\u001b[1;33m,\u001b[0m \u001b[0mdf\u001b[0m\u001b[1;33m.\u001b[0m\u001b[0miteritems\u001b[0m\u001b[1;33m(\u001b[0m\u001b[1;33m)\u001b[0m\u001b[1;33m)\u001b[0m\u001b[1;33m}\u001b[0m\u001b[1;33m\u001b[0m\u001b[1;33m\u001b[0m\u001b[0m\n\u001b[0m\u001b[0;32m    352\u001b[0m     \u001b[0mpool\u001b[0m\u001b[1;33m.\u001b[0m\u001b[0mclose\u001b[0m\u001b[1;33m(\u001b[0m\u001b[1;33m)\u001b[0m\u001b[1;33m\u001b[0m\u001b[1;33m\u001b[0m\u001b[0m\n\u001b[0;32m    353\u001b[0m \u001b[1;33m\u001b[0m\u001b[0m\n",
      "\u001b[1;32mC:\\ProgramData\\Anaconda3\\lib\\multiprocessing\\pool.py\u001b[0m in \u001b[0;36mmap\u001b[1;34m(self, func, iterable, chunksize)\u001b[0m\n\u001b[0;32m    266\u001b[0m         \u001b[1;32min\u001b[0m \u001b[0ma\u001b[0m \u001b[0mlist\u001b[0m \u001b[0mthat\u001b[0m \u001b[1;32mis\u001b[0m \u001b[0mreturned\u001b[0m\u001b[1;33m.\u001b[0m\u001b[1;33m\u001b[0m\u001b[1;33m\u001b[0m\u001b[0m\n\u001b[0;32m    267\u001b[0m         '''\n\u001b[1;32m--> 268\u001b[1;33m         \u001b[1;32mreturn\u001b[0m \u001b[0mself\u001b[0m\u001b[1;33m.\u001b[0m\u001b[0m_map_async\u001b[0m\u001b[1;33m(\u001b[0m\u001b[0mfunc\u001b[0m\u001b[1;33m,\u001b[0m \u001b[0miterable\u001b[0m\u001b[1;33m,\u001b[0m \u001b[0mmapstar\u001b[0m\u001b[1;33m,\u001b[0m \u001b[0mchunksize\u001b[0m\u001b[1;33m)\u001b[0m\u001b[1;33m.\u001b[0m\u001b[0mget\u001b[0m\u001b[1;33m(\u001b[0m\u001b[1;33m)\u001b[0m\u001b[1;33m\u001b[0m\u001b[1;33m\u001b[0m\u001b[0m\n\u001b[0m\u001b[0;32m    269\u001b[0m \u001b[1;33m\u001b[0m\u001b[0m\n\u001b[0;32m    270\u001b[0m     \u001b[1;32mdef\u001b[0m \u001b[0mstarmap\u001b[0m\u001b[1;33m(\u001b[0m\u001b[0mself\u001b[0m\u001b[1;33m,\u001b[0m \u001b[0mfunc\u001b[0m\u001b[1;33m,\u001b[0m \u001b[0miterable\u001b[0m\u001b[1;33m,\u001b[0m \u001b[0mchunksize\u001b[0m\u001b[1;33m=\u001b[0m\u001b[1;32mNone\u001b[0m\u001b[1;33m)\u001b[0m\u001b[1;33m:\u001b[0m\u001b[1;33m\u001b[0m\u001b[1;33m\u001b[0m\u001b[0m\n",
      "\u001b[1;32mC:\\ProgramData\\Anaconda3\\lib\\multiprocessing\\pool.py\u001b[0m in \u001b[0;36mget\u001b[1;34m(self, timeout)\u001b[0m\n\u001b[0;32m    655\u001b[0m             \u001b[1;32mreturn\u001b[0m \u001b[0mself\u001b[0m\u001b[1;33m.\u001b[0m\u001b[0m_value\u001b[0m\u001b[1;33m\u001b[0m\u001b[1;33m\u001b[0m\u001b[0m\n\u001b[0;32m    656\u001b[0m         \u001b[1;32melse\u001b[0m\u001b[1;33m:\u001b[0m\u001b[1;33m\u001b[0m\u001b[1;33m\u001b[0m\u001b[0m\n\u001b[1;32m--> 657\u001b[1;33m             \u001b[1;32mraise\u001b[0m \u001b[0mself\u001b[0m\u001b[1;33m.\u001b[0m\u001b[0m_value\u001b[0m\u001b[1;33m\u001b[0m\u001b[1;33m\u001b[0m\u001b[0m\n\u001b[0m\u001b[0;32m    658\u001b[0m \u001b[1;33m\u001b[0m\u001b[0m\n\u001b[0;32m    659\u001b[0m     \u001b[1;32mdef\u001b[0m \u001b[0m_set\u001b[0m\u001b[1;33m(\u001b[0m\u001b[0mself\u001b[0m\u001b[1;33m,\u001b[0m \u001b[0mi\u001b[0m\u001b[1;33m,\u001b[0m \u001b[0mobj\u001b[0m\u001b[1;33m)\u001b[0m\u001b[1;33m:\u001b[0m\u001b[1;33m\u001b[0m\u001b[1;33m\u001b[0m\u001b[0m\n",
      "\u001b[1;31mTypeError\u001b[0m: _plot_histogram() got an unexpected keyword argument 'title'"
     ]
    }
   ],
   "source": [
    "# Generate pandas profile report\n",
    "COK12_profile = ProfileReport(COK12_df, title='Pandas CO K12 Profiling Report', html={'style':{'full_width':True}})"
   ]
  },
  {
   "cell_type": "code",
   "execution_count": null,
   "metadata": {},
   "outputs": [],
   "source": [
    "# Display profile report in Jupyter Notebook widgets\n",
    "COK12_profile.to_widgets()"
   ]
  },
  {
   "cell_type": "code",
   "execution_count": null,
   "metadata": {},
   "outputs": [],
   "source": [
    "# Include html report in Jupyter Noteboook\n",
    "COK12_profile.to_notebook_iframe()"
   ]
  },
  {
   "cell_type": "code",
   "execution_count": null,
   "metadata": {},
   "outputs": [],
   "source": [
    "# Save the profile report out to html\n",
    "COK12_profile.to_file(output_file=\"your_report.html\")"
   ]
  }
 ],
 "metadata": {
  "kernelspec": {
   "display_name": "Python 3",
   "language": "python",
   "name": "python3"
  },
  "language_info": {
   "codemirror_mode": {
    "name": "ipython",
    "version": 3
   },
   "file_extension": ".py",
   "mimetype": "text/x-python",
   "name": "python",
   "nbconvert_exporter": "python",
   "pygments_lexer": "ipython3",
   "version": "3.7.4"
  }
 },
 "nbformat": 4,
 "nbformat_minor": 4
}
