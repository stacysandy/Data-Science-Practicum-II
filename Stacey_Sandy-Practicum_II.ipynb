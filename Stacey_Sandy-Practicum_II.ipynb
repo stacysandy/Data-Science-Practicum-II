{
 "cells": [
  {
   "cell_type": "markdown",
   "metadata": {},
   "source": [
    "# <center>Colorado K-12 Financial Transparency – <br>An Exploratory Data Science Comparison Across Schools</center>\n",
    "\n",
    "### <center>MSDS 696: Data Science Practicum II - Stacey Sandy</center>"
   ]
  },
  {
   "cell_type": "markdown",
   "metadata": {},
   "source": [
    "### <u><b>Overview </b></u>\n",
    "This project is for the fulfillment of my final course in the pursuit of my Master of Science in Data Science degree at Regis University. In this past academic year, my kindergartner son has brought home 5 different fundraisers and a quarterly scholastic book fair flyer. I understand the scholastic book fair awards books to classes that purchase the most books. Unfortunately, I am unclear where the multiple fundraiser funding is going, what the funding is for, and how fundraisers feed into the school. These implications on the school and district fundraiser efforts need further analysis. Especially since school ends in a little over two months, I am curious to learn how expenses are handled. I intend to compare expenses across schools and then across districts. I would like to analyze which schools are spending more than others and why their expenses are more or less than others. I want to learn the cause and effects as to what are the trends on expenditures. Hopefully, I could learn more about why fundraising is important or necessary multiple times a year for any school. "
   ]
  },
  {
   "cell_type": "markdown",
   "metadata": {},
   "source": [
    "### <u><b>Objective</b></u>\n",
    "The objective of this project and the primary research question is to address how financial expenditures are being spent across K through 12 schools in Colorado. An exploratory data science approach will be conducted to answer this research question. Overall, what are the school expenses that impact our children’s educational needs? Could the type of staffing, teacher types, and number of students be an impact? What are the contributing factors of the various expenses? How do schools and districts compare to one another? What variables are impacting the data reported? Could federal and state funding not be enough? "
   ]
  },
  {
   "cell_type": "markdown",
   "metadata": {},
   "source": [
    "### <u><b>Data Source</b></u>\n",
    "* Colorado Department of Education website on Colorado’s K12 Financial Transparency website: https://coloradok12financialtransparency.com/#/\n",
    "* The complete dataset of all Colorado K12 districts and BOCES can also be downloaded at: https://s3.amazonaws.com/bb-pub-pipeline-production/home/circleci/repo/public/uploads/data_files/uploads/000/000/416/20200114030354-colorado-financial-public-data-pipeline-v-1-Run_1-export-source-lep-facts.csv20200114-2678-rqjqmn.csv?1578999834\n",
    "\n",
    "### <u><b>Financial Policies and Procedures Documentation</b></u>\n",
    "* Colorado Department of Education. (2016, July 1). <i>Financial Policies and Procedures Chart of Accounts.</i> Retrieved from https://www.cde.state.co.us/cdefinance/fpp_coa1617"
   ]
  },
  {
   "cell_type": "markdown",
   "metadata": {},
   "source": [
    "#### The following website is available for direct school or district searchs within Colorado:\n",
    "* Colorado K12 Financial Transparency website: https://coloradok12financialtransparency.com/#/"
   ]
  },
  {
   "cell_type": "markdown",
   "metadata": {},
   "source": [
    "### Project Process:<br>\n",
    "<br>\n",
    "1. Conduct exploratory data analysis on complete dataset of all Colorado K12 districts and BOCES.<br>\n",
    "2. Investigate unique Ids, values, and row/column data.<br>\n",
    "3. Highlights financial codes that are max, min, mean, and of interest.<br>\n",
    "4. Add additional data from Colorado Department of Education on financial chart of accounts.<br>\n",
    "5. <br>\n",
    "<br>\n",
    "In final, compare and contrast findings. Answer research questions. Did you accomplish what your project objective detailed?"
   ]
  },
  {
   "cell_type": "markdown",
   "metadata": {},
   "source": [
    "## <center>Exploratory Data Analysis (EDA) on all Colorado K12 districts and BOCES</center>"
   ]
  },
  {
   "cell_type": "code",
   "execution_count": 1,
   "metadata": {},
   "outputs": [],
   "source": [
    "# Load libraries\n",
    "import pandas as pd\n",
    "from pandas_summary import DataFrameSummary\n",
    "import numpy as np\n",
    "from pandas_profiling import ProfileReport\n",
    "import multiprocessing\n",
    "import seaborn as sns\n",
    "import matplotlib\n",
    "import matplotlib.pyplot as plt\n",
    "%matplotlib inline\n",
    "import requests\n",
    "import json"
   ]
  },
  {
   "cell_type": "code",
   "execution_count": 2,
   "metadata": {},
   "outputs": [],
   "source": [
    "# Load the CO K12 Dataset into a dataframe.\n",
    "COK12_df = pd.read_csv('Data/colorado-financial-public-data-pipeline-v-1-Run#1-export-source-lep-facts.csv', header=4)"
   ]
  },
  {
   "cell_type": "code",
   "execution_count": 3,
   "metadata": {},
   "outputs": [
    {
     "data": {
      "text/plain": [
       "Index(['district_code', 'admin_unit', 'school_code', 'fund_code',\n",
       "       'location_code', 'sre_code', 'program_code', 'object_source_code',\n",
       "       'job_class_code', 'grant_code', 'amount_cents', 'exclude_school',\n",
       "       'exclude_district'],\n",
       "      dtype='object')"
      ]
     },
     "execution_count": 3,
     "metadata": {},
     "output_type": "execute_result"
    }
   ],
   "source": [
    "# Ensure columns were retrieved\n",
    "COK12_df.columns"
   ]
  },
  {
   "cell_type": "code",
   "execution_count": 4,
   "metadata": {},
   "outputs": [
    {
     "data": {
      "text/html": [
       "<div>\n",
       "<style scoped>\n",
       "    .dataframe tbody tr th:only-of-type {\n",
       "        vertical-align: middle;\n",
       "    }\n",
       "\n",
       "    .dataframe tbody tr th {\n",
       "        vertical-align: top;\n",
       "    }\n",
       "\n",
       "    .dataframe thead th {\n",
       "        text-align: right;\n",
       "    }\n",
       "</style>\n",
       "<table border=\"1\" class=\"dataframe\">\n",
       "  <thead>\n",
       "    <tr style=\"text-align: right;\">\n",
       "      <th></th>\n",
       "      <th>district_code</th>\n",
       "      <th>admin_unit</th>\n",
       "      <th>school_code</th>\n",
       "      <th>fund_code</th>\n",
       "      <th>location_code</th>\n",
       "      <th>sre_code</th>\n",
       "      <th>program_code</th>\n",
       "      <th>object_source_code</th>\n",
       "      <th>job_class_code</th>\n",
       "      <th>grant_code</th>\n",
       "      <th>amount_cents</th>\n",
       "      <th>exclude_school</th>\n",
       "      <th>exclude_district</th>\n",
       "    </tr>\n",
       "  </thead>\n",
       "  <tbody>\n",
       "    <tr>\n",
       "      <th>0</th>\n",
       "      <td>3080</td>\n",
       "      <td>64203</td>\n",
       "      <td>0</td>\n",
       "      <td>10</td>\n",
       "      <td>600</td>\n",
       "      <td>0</td>\n",
       "      <td>20</td>\n",
       "      <td>100</td>\n",
       "      <td>200</td>\n",
       "      <td>0</td>\n",
       "      <td>71250.0</td>\n",
       "      <td>f</td>\n",
       "      <td>f</td>\n",
       "    </tr>\n",
       "    <tr>\n",
       "      <th>1</th>\n",
       "      <td>3080</td>\n",
       "      <td>64203</td>\n",
       "      <td>0</td>\n",
       "      <td>10</td>\n",
       "      <td>600</td>\n",
       "      <td>0</td>\n",
       "      <td>10</td>\n",
       "      <td>100</td>\n",
       "      <td>200</td>\n",
       "      <td>4010</td>\n",
       "      <td>13841274.0</td>\n",
       "      <td>f</td>\n",
       "      <td>f</td>\n",
       "    </tr>\n",
       "    <tr>\n",
       "      <th>2</th>\n",
       "      <td>3080</td>\n",
       "      <td>64203</td>\n",
       "      <td>0</td>\n",
       "      <td>10</td>\n",
       "      <td>700</td>\n",
       "      <td>0</td>\n",
       "      <td>2700</td>\n",
       "      <td>100</td>\n",
       "      <td>100</td>\n",
       "      <td>0</td>\n",
       "      <td>12171639.0</td>\n",
       "      <td>f</td>\n",
       "      <td>f</td>\n",
       "    </tr>\n",
       "    <tr>\n",
       "      <th>3</th>\n",
       "      <td>3080</td>\n",
       "      <td>64203</td>\n",
       "      <td>0</td>\n",
       "      <td>21</td>\n",
       "      <td>700</td>\n",
       "      <td>0</td>\n",
       "      <td>3100</td>\n",
       "      <td>100</td>\n",
       "      <td>100</td>\n",
       "      <td>0</td>\n",
       "      <td>4079700.0</td>\n",
       "      <td>f</td>\n",
       "      <td>f</td>\n",
       "    </tr>\n",
       "    <tr>\n",
       "      <th>4</th>\n",
       "      <td>3080</td>\n",
       "      <td>64203</td>\n",
       "      <td>4854</td>\n",
       "      <td>10</td>\n",
       "      <td>200</td>\n",
       "      <td>0</td>\n",
       "      <td>1700</td>\n",
       "      <td>100</td>\n",
       "      <td>400</td>\n",
       "      <td>3130</td>\n",
       "      <td>8660925.0</td>\n",
       "      <td>f</td>\n",
       "      <td>f</td>\n",
       "    </tr>\n",
       "  </tbody>\n",
       "</table>\n",
       "</div>"
      ],
      "text/plain": [
       "   district_code  admin_unit  school_code  fund_code  location_code  sre_code  \\\n",
       "0           3080       64203            0         10            600         0   \n",
       "1           3080       64203            0         10            600         0   \n",
       "2           3080       64203            0         10            700         0   \n",
       "3           3080       64203            0         21            700         0   \n",
       "4           3080       64203         4854         10            200         0   \n",
       "\n",
       "   program_code  object_source_code  job_class_code  grant_code  amount_cents  \\\n",
       "0            20                 100             200           0       71250.0   \n",
       "1            10                 100             200        4010    13841274.0   \n",
       "2          2700                 100             100           0    12171639.0   \n",
       "3          3100                 100             100           0     4079700.0   \n",
       "4          1700                 100             400        3130     8660925.0   \n",
       "\n",
       "  exclude_school exclude_district  \n",
       "0              f                f  \n",
       "1              f                f  \n",
       "2              f                f  \n",
       "3              f                f  \n",
       "4              f                f  "
      ]
     },
     "execution_count": 4,
     "metadata": {},
     "output_type": "execute_result"
    }
   ],
   "source": [
    "# Look at dataset head\n",
    "COK12_df.head()"
   ]
  },
  {
   "cell_type": "code",
   "execution_count": 5,
   "metadata": {},
   "outputs": [
    {
     "data": {
      "text/html": [
       "<div>\n",
       "<style scoped>\n",
       "    .dataframe tbody tr th:only-of-type {\n",
       "        vertical-align: middle;\n",
       "    }\n",
       "\n",
       "    .dataframe tbody tr th {\n",
       "        vertical-align: top;\n",
       "    }\n",
       "\n",
       "    .dataframe thead th {\n",
       "        text-align: right;\n",
       "    }\n",
       "</style>\n",
       "<table border=\"1\" class=\"dataframe\">\n",
       "  <thead>\n",
       "    <tr style=\"text-align: right;\">\n",
       "      <th></th>\n",
       "      <th>district_code</th>\n",
       "      <th>admin_unit</th>\n",
       "      <th>school_code</th>\n",
       "      <th>fund_code</th>\n",
       "      <th>location_code</th>\n",
       "      <th>sre_code</th>\n",
       "      <th>program_code</th>\n",
       "      <th>object_source_code</th>\n",
       "      <th>job_class_code</th>\n",
       "      <th>grant_code</th>\n",
       "      <th>amount_cents</th>\n",
       "      <th>exclude_school</th>\n",
       "      <th>exclude_district</th>\n",
       "    </tr>\n",
       "  </thead>\n",
       "  <tbody>\n",
       "    <tr>\n",
       "      <th>280681</th>\n",
       "      <td>1180</td>\n",
       "      <td>64233</td>\n",
       "      <td>570</td>\n",
       "      <td>10</td>\n",
       "      <td>300</td>\n",
       "      <td>0</td>\n",
       "      <td>1800</td>\n",
       "      <td>810</td>\n",
       "      <td>0</td>\n",
       "      <td>0</td>\n",
       "      <td>340700.0</td>\n",
       "      <td>f</td>\n",
       "      <td>f</td>\n",
       "    </tr>\n",
       "    <tr>\n",
       "      <th>280682</th>\n",
       "      <td>1180</td>\n",
       "      <td>64233</td>\n",
       "      <td>429</td>\n",
       "      <td>11</td>\n",
       "      <td>951</td>\n",
       "      <td>0</td>\n",
       "      <td>2500</td>\n",
       "      <td>810</td>\n",
       "      <td>0</td>\n",
       "      <td>0</td>\n",
       "      <td>-700.0</td>\n",
       "      <td>f</td>\n",
       "      <td>f</td>\n",
       "    </tr>\n",
       "    <tr>\n",
       "      <th>280683</th>\n",
       "      <td>1180</td>\n",
       "      <td>64233</td>\n",
       "      <td>429</td>\n",
       "      <td>11</td>\n",
       "      <td>951</td>\n",
       "      <td>0</td>\n",
       "      <td>2600</td>\n",
       "      <td>810</td>\n",
       "      <td>0</td>\n",
       "      <td>0</td>\n",
       "      <td>45477.0</td>\n",
       "      <td>f</td>\n",
       "      <td>f</td>\n",
       "    </tr>\n",
       "    <tr>\n",
       "      <th>280684</th>\n",
       "      <td>1180</td>\n",
       "      <td>64233</td>\n",
       "      <td>429</td>\n",
       "      <td>11</td>\n",
       "      <td>951</td>\n",
       "      <td>0</td>\n",
       "      <td>2800</td>\n",
       "      <td>810</td>\n",
       "      <td>0</td>\n",
       "      <td>0</td>\n",
       "      <td>24500.0</td>\n",
       "      <td>f</td>\n",
       "      <td>f</td>\n",
       "    </tr>\n",
       "    <tr>\n",
       "      <th>280685</th>\n",
       "      <td>1180</td>\n",
       "      <td>64233</td>\n",
       "      <td>429</td>\n",
       "      <td>11</td>\n",
       "      <td>951</td>\n",
       "      <td>0</td>\n",
       "      <td>18</td>\n",
       "      <td>810</td>\n",
       "      <td>0</td>\n",
       "      <td>0</td>\n",
       "      <td>2499.0</td>\n",
       "      <td>f</td>\n",
       "      <td>f</td>\n",
       "    </tr>\n",
       "  </tbody>\n",
       "</table>\n",
       "</div>"
      ],
      "text/plain": [
       "        district_code  admin_unit  school_code  fund_code  location_code  \\\n",
       "280681           1180       64233          570         10            300   \n",
       "280682           1180       64233          429         11            951   \n",
       "280683           1180       64233          429         11            951   \n",
       "280684           1180       64233          429         11            951   \n",
       "280685           1180       64233          429         11            951   \n",
       "\n",
       "        sre_code  program_code  object_source_code  job_class_code  \\\n",
       "280681         0          1800                 810               0   \n",
       "280682         0          2500                 810               0   \n",
       "280683         0          2600                 810               0   \n",
       "280684         0          2800                 810               0   \n",
       "280685         0            18                 810               0   \n",
       "\n",
       "        grant_code  amount_cents exclude_school exclude_district  \n",
       "280681           0      340700.0              f                f  \n",
       "280682           0        -700.0              f                f  \n",
       "280683           0       45477.0              f                f  \n",
       "280684           0       24500.0              f                f  \n",
       "280685           0        2499.0              f                f  "
      ]
     },
     "execution_count": 5,
     "metadata": {},
     "output_type": "execute_result"
    }
   ],
   "source": [
    "# Look at dataset tail\n",
    "COK12_df.tail()"
   ]
  },
  {
   "cell_type": "code",
   "execution_count": 6,
   "metadata": {},
   "outputs": [
    {
     "data": {
      "text/plain": [
       "(280686, 13)"
      ]
     },
     "execution_count": 6,
     "metadata": {},
     "output_type": "execute_result"
    }
   ],
   "source": [
    "# View dataframe shape (# of Rows and # of Columns)\n",
    "COK12_df.shape"
   ]
  },
  {
   "cell_type": "code",
   "execution_count": 7,
   "metadata": {},
   "outputs": [
    {
     "name": "stdout",
     "output_type": "stream",
     "text": [
      "<class 'pandas.core.frame.DataFrame'>\n",
      "RangeIndex: 280686 entries, 0 to 280685\n",
      "Data columns (total 13 columns):\n",
      "district_code         280686 non-null int64\n",
      "admin_unit            280686 non-null int64\n",
      "school_code           280686 non-null int64\n",
      "fund_code             280686 non-null int64\n",
      "location_code         280686 non-null int64\n",
      "sre_code              280686 non-null int64\n",
      "program_code          280686 non-null int64\n",
      "object_source_code    280686 non-null int64\n",
      "job_class_code        280686 non-null int64\n",
      "grant_code            280686 non-null int64\n",
      "amount_cents          280686 non-null float64\n",
      "exclude_school        280686 non-null object\n",
      "exclude_district      280686 non-null object\n",
      "dtypes: float64(1), int64(10), object(2)\n",
      "memory usage: 27.8+ MB\n"
     ]
    }
   ],
   "source": [
    "# Look at dataset information details\n",
    "COK12_df.info()"
   ]
  },
  {
   "cell_type": "code",
   "execution_count": 8,
   "metadata": {},
   "outputs": [
    {
     "name": "stdout",
     "output_type": "stream",
     "text": [
      "0\n"
     ]
    }
   ],
   "source": [
    "#Let's confirm a count on null valuws in the entire data set.\n",
    "print(np.count_nonzero(COK12_df.isnull()))"
   ]
  },
  {
   "cell_type": "code",
   "execution_count": 9,
   "metadata": {},
   "outputs": [],
   "source": [
    "# Look at the data frame summary data\n",
    "COK12_dfs = DataFrameSummary(COK12_df)"
   ]
  },
  {
   "cell_type": "code",
   "execution_count": 10,
   "metadata": {},
   "outputs": [
    {
     "data": {
      "text/html": [
       "<div>\n",
       "<style scoped>\n",
       "    .dataframe tbody tr th:only-of-type {\n",
       "        vertical-align: middle;\n",
       "    }\n",
       "\n",
       "    .dataframe tbody tr th {\n",
       "        vertical-align: top;\n",
       "    }\n",
       "\n",
       "    .dataframe thead th {\n",
       "        text-align: right;\n",
       "    }\n",
       "</style>\n",
       "<table border=\"1\" class=\"dataframe\">\n",
       "  <thead>\n",
       "    <tr style=\"text-align: right;\">\n",
       "      <th></th>\n",
       "      <th>district_code</th>\n",
       "      <th>admin_unit</th>\n",
       "      <th>school_code</th>\n",
       "      <th>fund_code</th>\n",
       "      <th>location_code</th>\n",
       "      <th>sre_code</th>\n",
       "      <th>program_code</th>\n",
       "      <th>object_source_code</th>\n",
       "      <th>job_class_code</th>\n",
       "      <th>grant_code</th>\n",
       "      <th>amount_cents</th>\n",
       "      <th>exclude_school</th>\n",
       "      <th>exclude_district</th>\n",
       "    </tr>\n",
       "  </thead>\n",
       "  <tbody>\n",
       "    <tr>\n",
       "      <th>counts</th>\n",
       "      <td>280686</td>\n",
       "      <td>280686</td>\n",
       "      <td>280686</td>\n",
       "      <td>280686</td>\n",
       "      <td>280686</td>\n",
       "      <td>280686</td>\n",
       "      <td>280686</td>\n",
       "      <td>280686</td>\n",
       "      <td>280686</td>\n",
       "      <td>280686</td>\n",
       "      <td>280686</td>\n",
       "      <td>280686</td>\n",
       "      <td>280686</td>\n",
       "    </tr>\n",
       "    <tr>\n",
       "      <th>uniques</th>\n",
       "      <td>200</td>\n",
       "      <td>62</td>\n",
       "      <td>1920</td>\n",
       "      <td>34</td>\n",
       "      <td>258</td>\n",
       "      <td>45</td>\n",
       "      <td>317</td>\n",
       "      <td>415</td>\n",
       "      <td>94</td>\n",
       "      <td>228</td>\n",
       "      <td>222337</td>\n",
       "      <td>2</td>\n",
       "      <td>2</td>\n",
       "    </tr>\n",
       "    <tr>\n",
       "      <th>missing</th>\n",
       "      <td>0</td>\n",
       "      <td>0</td>\n",
       "      <td>0</td>\n",
       "      <td>0</td>\n",
       "      <td>0</td>\n",
       "      <td>0</td>\n",
       "      <td>0</td>\n",
       "      <td>0</td>\n",
       "      <td>0</td>\n",
       "      <td>0</td>\n",
       "      <td>0</td>\n",
       "      <td>0</td>\n",
       "      <td>0</td>\n",
       "    </tr>\n",
       "    <tr>\n",
       "      <th>missing_perc</th>\n",
       "      <td>0%</td>\n",
       "      <td>0%</td>\n",
       "      <td>0%</td>\n",
       "      <td>0%</td>\n",
       "      <td>0%</td>\n",
       "      <td>0%</td>\n",
       "      <td>0%</td>\n",
       "      <td>0%</td>\n",
       "      <td>0%</td>\n",
       "      <td>0%</td>\n",
       "      <td>0%</td>\n",
       "      <td>0%</td>\n",
       "      <td>0%</td>\n",
       "    </tr>\n",
       "    <tr>\n",
       "      <th>types</th>\n",
       "      <td>numeric</td>\n",
       "      <td>numeric</td>\n",
       "      <td>numeric</td>\n",
       "      <td>numeric</td>\n",
       "      <td>numeric</td>\n",
       "      <td>numeric</td>\n",
       "      <td>numeric</td>\n",
       "      <td>numeric</td>\n",
       "      <td>numeric</td>\n",
       "      <td>numeric</td>\n",
       "      <td>numeric</td>\n",
       "      <td>bool</td>\n",
       "      <td>bool</td>\n",
       "    </tr>\n",
       "  </tbody>\n",
       "</table>\n",
       "</div>"
      ],
      "text/plain": [
       "             district_code admin_unit school_code fund_code location_code  \\\n",
       "counts              280686     280686      280686    280686        280686   \n",
       "uniques                200         62        1920        34           258   \n",
       "missing                  0          0           0         0             0   \n",
       "missing_perc            0%         0%          0%        0%            0%   \n",
       "types              numeric    numeric     numeric   numeric       numeric   \n",
       "\n",
       "             sre_code program_code object_source_code job_class_code  \\\n",
       "counts         280686       280686             280686         280686   \n",
       "uniques            45          317                415             94   \n",
       "missing             0            0                  0              0   \n",
       "missing_perc       0%           0%                 0%             0%   \n",
       "types         numeric      numeric            numeric        numeric   \n",
       "\n",
       "             grant_code amount_cents exclude_school exclude_district  \n",
       "counts           280686       280686         280686           280686  \n",
       "uniques             228       222337              2                2  \n",
       "missing               0            0              0                0  \n",
       "missing_perc         0%           0%             0%               0%  \n",
       "types           numeric      numeric           bool             bool  "
      ]
     },
     "execution_count": 10,
     "metadata": {},
     "output_type": "execute_result"
    }
   ],
   "source": [
    "COK12_dfs.columns_stats"
   ]
  },
  {
   "cell_type": "code",
   "execution_count": 11,
   "metadata": {},
   "outputs": [],
   "source": [
    "# Let's make a copy of the dataframe.\n",
    "COK12_df2 = COK12_df.copy()"
   ]
  },
  {
   "cell_type": "markdown",
   "metadata": {},
   "source": [
    "### Remember we must take note of the following information provided within the dataset (csv file)\n",
    "<br>\n",
    "When summarizing this information there are three important points to keep in mind:<br>\n",
    "1) Fund 90 is used for informational purposes only and must be excluded from any analysis.<br>\n",
    "2) All amounts are displayed with cents and without decimal places. E.g. the value $5.42 will be recorded as 542. <br>\n",
    "3) The data methodology page contains details on the categories excluded from this summary at both the District and the School level."
   ]
  },
  {
   "cell_type": "code",
   "execution_count": 12,
   "metadata": {},
   "outputs": [
    {
     "data": {
      "text/plain": [
       "'3.1.2'"
      ]
     },
     "execution_count": 12,
     "metadata": {},
     "output_type": "execute_result"
    }
   ],
   "source": [
    "# Check matplotlib version (should be 3.1.2)\n",
    "matplotlib.__version__"
   ]
  },
  {
   "cell_type": "code",
   "execution_count": 18,
   "metadata": {},
   "outputs": [
    {
     "ename": "NameError",
     "evalue": "name 'python' is not defined",
     "output_type": "error",
     "traceback": [
      "\u001b[1;31m---------------------------------------------------------------------------\u001b[0m",
      "\u001b[1;31mNameError\u001b[0m                                 Traceback (most recent call last)",
      "\u001b[1;32m<ipython-input-18-45a3ce2a2cc7>\u001b[0m in \u001b[0;36m<module>\u001b[1;34m\u001b[0m\n\u001b[1;32m----> 1\u001b[1;33m \u001b[0mpython\u001b[0m\u001b[1;33m.\u001b[0m\u001b[0m__version__\u001b[0m\u001b[1;33m\u001b[0m\u001b[1;33m\u001b[0m\u001b[0m\n\u001b[0m",
      "\u001b[1;31mNameError\u001b[0m: name 'python' is not defined"
     ]
    }
   ],
   "source": [
    "#Use Anaconda Prompt to check version (should be 3.7.4)\n",
    "python.__version__"
   ]
  },
  {
   "cell_type": "code",
   "execution_count": 14,
   "metadata": {},
   "outputs": [],
   "source": [
    "# Drop the exclude_school and exclude_district columns from data frame\n",
    "COK12_df2 = COK12_df2.drop(['exclude_school', 'exclude_district'],axis=1)"
   ]
  },
  {
   "cell_type": "code",
   "execution_count": 15,
   "metadata": {},
   "outputs": [
    {
     "data": {
      "text/plain": [
       "Index(['district_code', 'admin_unit', 'school_code', 'fund_code',\n",
       "       'location_code', 'sre_code', 'program_code', 'object_source_code',\n",
       "       'job_class_code', 'grant_code', 'amount_cents'],\n",
       "      dtype='object')"
      ]
     },
     "execution_count": 15,
     "metadata": {},
     "output_type": "execute_result"
    }
   ],
   "source": [
    "# Check columns again\n",
    "COK12_df2.columns"
   ]
  },
  {
   "cell_type": "code",
   "execution_count": 16,
   "metadata": {},
   "outputs": [
    {
     "data": {
      "text/html": [
       "<div>\n",
       "<style scoped>\n",
       "    .dataframe tbody tr th:only-of-type {\n",
       "        vertical-align: middle;\n",
       "    }\n",
       "\n",
       "    .dataframe tbody tr th {\n",
       "        vertical-align: top;\n",
       "    }\n",
       "\n",
       "    .dataframe thead th {\n",
       "        text-align: right;\n",
       "    }\n",
       "</style>\n",
       "<table border=\"1\" class=\"dataframe\">\n",
       "  <thead>\n",
       "    <tr style=\"text-align: right;\">\n",
       "      <th></th>\n",
       "      <th>district_code</th>\n",
       "      <th>admin_unit</th>\n",
       "      <th>school_code</th>\n",
       "      <th>fund_code</th>\n",
       "      <th>location_code</th>\n",
       "      <th>sre_code</th>\n",
       "      <th>program_code</th>\n",
       "      <th>object_source_code</th>\n",
       "      <th>job_class_code</th>\n",
       "      <th>grant_code</th>\n",
       "      <th>amount_cents</th>\n",
       "    </tr>\n",
       "  </thead>\n",
       "  <tbody>\n",
       "    <tr>\n",
       "      <th>0</th>\n",
       "      <td>3080</td>\n",
       "      <td>64203</td>\n",
       "      <td>0</td>\n",
       "      <td>10</td>\n",
       "      <td>600</td>\n",
       "      <td>0</td>\n",
       "      <td>20</td>\n",
       "      <td>100</td>\n",
       "      <td>200</td>\n",
       "      <td>0</td>\n",
       "      <td>71250.0</td>\n",
       "    </tr>\n",
       "    <tr>\n",
       "      <th>1</th>\n",
       "      <td>3080</td>\n",
       "      <td>64203</td>\n",
       "      <td>0</td>\n",
       "      <td>10</td>\n",
       "      <td>600</td>\n",
       "      <td>0</td>\n",
       "      <td>10</td>\n",
       "      <td>100</td>\n",
       "      <td>200</td>\n",
       "      <td>4010</td>\n",
       "      <td>13841274.0</td>\n",
       "    </tr>\n",
       "    <tr>\n",
       "      <th>2</th>\n",
       "      <td>3080</td>\n",
       "      <td>64203</td>\n",
       "      <td>0</td>\n",
       "      <td>10</td>\n",
       "      <td>700</td>\n",
       "      <td>0</td>\n",
       "      <td>2700</td>\n",
       "      <td>100</td>\n",
       "      <td>100</td>\n",
       "      <td>0</td>\n",
       "      <td>12171639.0</td>\n",
       "    </tr>\n",
       "    <tr>\n",
       "      <th>3</th>\n",
       "      <td>3080</td>\n",
       "      <td>64203</td>\n",
       "      <td>0</td>\n",
       "      <td>21</td>\n",
       "      <td>700</td>\n",
       "      <td>0</td>\n",
       "      <td>3100</td>\n",
       "      <td>100</td>\n",
       "      <td>100</td>\n",
       "      <td>0</td>\n",
       "      <td>4079700.0</td>\n",
       "    </tr>\n",
       "    <tr>\n",
       "      <th>4</th>\n",
       "      <td>3080</td>\n",
       "      <td>64203</td>\n",
       "      <td>4854</td>\n",
       "      <td>10</td>\n",
       "      <td>200</td>\n",
       "      <td>0</td>\n",
       "      <td>1700</td>\n",
       "      <td>100</td>\n",
       "      <td>400</td>\n",
       "      <td>3130</td>\n",
       "      <td>8660925.0</td>\n",
       "    </tr>\n",
       "  </tbody>\n",
       "</table>\n",
       "</div>"
      ],
      "text/plain": [
       "   district_code  admin_unit  school_code  fund_code  location_code  sre_code  \\\n",
       "0           3080       64203            0         10            600         0   \n",
       "1           3080       64203            0         10            600         0   \n",
       "2           3080       64203            0         10            700         0   \n",
       "3           3080       64203            0         21            700         0   \n",
       "4           3080       64203         4854         10            200         0   \n",
       "\n",
       "   program_code  object_source_code  job_class_code  grant_code  amount_cents  \n",
       "0            20                 100             200           0       71250.0  \n",
       "1            10                 100             200        4010    13841274.0  \n",
       "2          2700                 100             100           0    12171639.0  \n",
       "3          3100                 100             100           0     4079700.0  \n",
       "4          1700                 100             400        3130     8660925.0  "
      ]
     },
     "execution_count": 16,
     "metadata": {},
     "output_type": "execute_result"
    }
   ],
   "source": [
    "# Look at data frame head\n",
    "COK12_df2.head()"
   ]
  },
  {
   "cell_type": "code",
   "execution_count": 19,
   "metadata": {},
   "outputs": [],
   "source": [
    "# Change ammount_cents to int64 not float64\n",
    "COK12_df2 = COK12_df2.astype({'amount_cents':'int64'})"
   ]
  },
  {
   "cell_type": "code",
   "execution_count": 20,
   "metadata": {},
   "outputs": [
    {
     "data": {
      "text/plain": [
       "district_code         int64\n",
       "admin_unit            int64\n",
       "school_code           int64\n",
       "fund_code             int64\n",
       "location_code         int64\n",
       "sre_code              int64\n",
       "program_code          int64\n",
       "object_source_code    int64\n",
       "job_class_code        int64\n",
       "grant_code            int64\n",
       "amount_cents          int64\n",
       "dtype: object"
      ]
     },
     "execution_count": 20,
     "metadata": {},
     "output_type": "execute_result"
    }
   ],
   "source": [
    "COK12_df2.dtypes"
   ]
  },
  {
   "cell_type": "code",
   "execution_count": 21,
   "metadata": {},
   "outputs": [
    {
     "data": {
      "text/html": [
       "<div>\n",
       "<style scoped>\n",
       "    .dataframe tbody tr th:only-of-type {\n",
       "        vertical-align: middle;\n",
       "    }\n",
       "\n",
       "    .dataframe tbody tr th {\n",
       "        vertical-align: top;\n",
       "    }\n",
       "\n",
       "    .dataframe thead th {\n",
       "        text-align: right;\n",
       "    }\n",
       "</style>\n",
       "<table border=\"1\" class=\"dataframe\">\n",
       "  <thead>\n",
       "    <tr style=\"text-align: right;\">\n",
       "      <th></th>\n",
       "      <th>district_code</th>\n",
       "      <th>admin_unit</th>\n",
       "      <th>school_code</th>\n",
       "      <th>fund_code</th>\n",
       "      <th>location_code</th>\n",
       "      <th>sre_code</th>\n",
       "      <th>program_code</th>\n",
       "      <th>object_source_code</th>\n",
       "      <th>job_class_code</th>\n",
       "      <th>grant_code</th>\n",
       "      <th>amount_cents</th>\n",
       "    </tr>\n",
       "  </thead>\n",
       "  <tbody>\n",
       "    <tr>\n",
       "      <th>280681</th>\n",
       "      <td>1180</td>\n",
       "      <td>64233</td>\n",
       "      <td>570</td>\n",
       "      <td>10</td>\n",
       "      <td>300</td>\n",
       "      <td>0</td>\n",
       "      <td>1800</td>\n",
       "      <td>810</td>\n",
       "      <td>0</td>\n",
       "      <td>0</td>\n",
       "      <td>340700</td>\n",
       "    </tr>\n",
       "    <tr>\n",
       "      <th>280682</th>\n",
       "      <td>1180</td>\n",
       "      <td>64233</td>\n",
       "      <td>429</td>\n",
       "      <td>11</td>\n",
       "      <td>951</td>\n",
       "      <td>0</td>\n",
       "      <td>2500</td>\n",
       "      <td>810</td>\n",
       "      <td>0</td>\n",
       "      <td>0</td>\n",
       "      <td>-700</td>\n",
       "    </tr>\n",
       "    <tr>\n",
       "      <th>280683</th>\n",
       "      <td>1180</td>\n",
       "      <td>64233</td>\n",
       "      <td>429</td>\n",
       "      <td>11</td>\n",
       "      <td>951</td>\n",
       "      <td>0</td>\n",
       "      <td>2600</td>\n",
       "      <td>810</td>\n",
       "      <td>0</td>\n",
       "      <td>0</td>\n",
       "      <td>45477</td>\n",
       "    </tr>\n",
       "    <tr>\n",
       "      <th>280684</th>\n",
       "      <td>1180</td>\n",
       "      <td>64233</td>\n",
       "      <td>429</td>\n",
       "      <td>11</td>\n",
       "      <td>951</td>\n",
       "      <td>0</td>\n",
       "      <td>2800</td>\n",
       "      <td>810</td>\n",
       "      <td>0</td>\n",
       "      <td>0</td>\n",
       "      <td>24500</td>\n",
       "    </tr>\n",
       "    <tr>\n",
       "      <th>280685</th>\n",
       "      <td>1180</td>\n",
       "      <td>64233</td>\n",
       "      <td>429</td>\n",
       "      <td>11</td>\n",
       "      <td>951</td>\n",
       "      <td>0</td>\n",
       "      <td>18</td>\n",
       "      <td>810</td>\n",
       "      <td>0</td>\n",
       "      <td>0</td>\n",
       "      <td>2499</td>\n",
       "    </tr>\n",
       "  </tbody>\n",
       "</table>\n",
       "</div>"
      ],
      "text/plain": [
       "        district_code  admin_unit  school_code  fund_code  location_code  \\\n",
       "280681           1180       64233          570         10            300   \n",
       "280682           1180       64233          429         11            951   \n",
       "280683           1180       64233          429         11            951   \n",
       "280684           1180       64233          429         11            951   \n",
       "280685           1180       64233          429         11            951   \n",
       "\n",
       "        sre_code  program_code  object_source_code  job_class_code  \\\n",
       "280681         0          1800                 810               0   \n",
       "280682         0          2500                 810               0   \n",
       "280683         0          2600                 810               0   \n",
       "280684         0          2800                 810               0   \n",
       "280685         0            18                 810               0   \n",
       "\n",
       "        grant_code  amount_cents  \n",
       "280681           0        340700  \n",
       "280682           0          -700  \n",
       "280683           0         45477  \n",
       "280684           0         24500  \n",
       "280685           0          2499  "
      ]
     },
     "execution_count": 21,
     "metadata": {},
     "output_type": "execute_result"
    }
   ],
   "source": [
    "# Look at tail and ensure amount_cents is no longer showing as a float type.\n",
    "COK12_df2.tail()"
   ]
  },
  {
   "cell_type": "code",
   "execution_count": 43,
   "metadata": {},
   "outputs": [
    {
     "data": {
      "text/plain": [
       "880     34937\n",
       "1420    21133\n",
       "900     15183\n",
       "20      11193\n",
       "1550    10629\n",
       "dtype: int64"
      ]
     },
     "execution_count": 43,
     "metadata": {},
     "output_type": "execute_result"
    }
   ],
   "source": [
    "#Let's count how many different financial values are in each column.\n",
    "COK12_districtCodes = pd.value_counts(COK12_df2['district_code'].values,sort=True)\n",
    "COK12_districtCodes.head()"
   ]
  },
  {
   "cell_type": "markdown",
   "metadata": {},
   "source": [
    "### Investigate the maximum  top 5 district_codes!?!"
   ]
  },
  {
   "cell_type": "code",
   "execution_count": 23,
   "metadata": {},
   "outputs": [
    {
     "data": {
      "text/plain": [
       "9140    71\n",
       "9165    56\n",
       "8042    42\n",
       "8041    28\n",
       "9120    22\n",
       "dtype: int64"
      ]
     },
     "execution_count": 23,
     "metadata": {},
     "output_type": "execute_result"
    }
   ],
   "source": [
    "COK12_districtCodes.tail()"
   ]
  },
  {
   "cell_type": "code",
   "execution_count": 44,
   "metadata": {},
   "outputs": [
    {
     "data": {
      "text/plain": [
       "16010    35049\n",
       "30011    21133\n",
       "18010    15183\n",
       "1020     11193\n",
       "35010    10629\n",
       "dtype: int64"
      ]
     },
     "execution_count": 44,
     "metadata": {},
     "output_type": "execute_result"
    }
   ],
   "source": [
    "#Let's count how many different financial values are in each column.\n",
    "COK12_adminUnits = pd.value_counts(COK12_df2['admin_unit'].values,sort=True)\n",
    "COK12_adminUnits.head()"
   ]
  },
  {
   "cell_type": "markdown",
   "metadata": {},
   "source": [
    "### Investigate the maximum  top 5 admin_unit codes!?!"
   ]
  },
  {
   "cell_type": "code",
   "execution_count": 25,
   "metadata": {},
   "outputs": [
    {
     "data": {
      "text/plain": [
       "19205    784\n",
       "41010    678\n",
       "62050    660\n",
       "35030    625\n",
       "49010    600\n",
       "dtype: int64"
      ]
     },
     "execution_count": 25,
     "metadata": {},
     "output_type": "execute_result"
    }
   ],
   "source": [
    "COK12_adminUnits.tail()"
   ]
  },
  {
   "cell_type": "code",
   "execution_count": 57,
   "metadata": {},
   "outputs": [
    {
     "data": {
      "text/plain": [
       "0       68345\n",
       "24       1163\n",
       "4516      771\n",
       "20        695\n",
       "1426      496\n",
       "dtype: int64"
      ]
     },
     "execution_count": 57,
     "metadata": {},
     "output_type": "execute_result"
    }
   ],
   "source": [
    "#Let's count how many different financial values are in each column.\n",
    "COK12_schoolCodes = pd.value_counts(COK12_df2['school_code'].values,sort=True)\n",
    "COK12_schoolCodes.head()"
   ]
  },
  {
   "cell_type": "markdown",
   "metadata": {},
   "source": [
    "### Investigate why the maximum <u>0</u> calue for school_code!?!"
   ]
  },
  {
   "cell_type": "code",
   "execution_count": 27,
   "metadata": {},
   "outputs": [
    {
     "data": {
      "text/plain": [
       "2966    1\n",
       "1455    1\n",
       "4518    1\n",
       "4520    1\n",
       "6009    1\n",
       "dtype: int64"
      ]
     },
     "execution_count": 27,
     "metadata": {},
     "output_type": "execute_result"
    }
   ],
   "source": [
    "COK12_schoolCodes.tail()"
   ]
  },
  {
   "cell_type": "code",
   "execution_count": 46,
   "metadata": {},
   "outputs": [
    {
     "data": {
      "text/plain": [
       "10    156838\n",
       "22     31148\n",
       "11     24780\n",
       "21     19035\n",
       "23     16804\n",
       "dtype: int64"
      ]
     },
     "execution_count": 46,
     "metadata": {},
     "output_type": "execute_result"
    }
   ],
   "source": [
    "#Let's count how many different financial values are in each column.\n",
    "COK12_fundCodes = pd.value_counts(COK12_df2['fund_code'].values,sort=True)\n",
    "COK12_fundCodes.head()"
   ]
  },
  {
   "cell_type": "markdown",
   "metadata": {},
   "source": [
    "### Investigate the top 5 <u>10</u> through <u>23</u> fiund_code!?!"
   ]
  },
  {
   "cell_type": "code",
   "execution_count": 29,
   "metadata": {},
   "outputs": [
    {
     "data": {
      "text/plain": [
       "51    5\n",
       "26    2\n",
       "58    2\n",
       "59    2\n",
       "75    2\n",
       "dtype: int64"
      ]
     },
     "execution_count": 29,
     "metadata": {},
     "output_type": "execute_result"
    }
   ],
   "source": [
    "COK12_fundCodes.tail()"
   ]
  },
  {
   "cell_type": "code",
   "execution_count": 47,
   "metadata": {},
   "outputs": [
    {
     "data": {
      "text/plain": [
       "100    79496\n",
       "300    39963\n",
       "600    35268\n",
       "200    29514\n",
       "0      23168\n",
       "dtype: int64"
      ]
     },
     "execution_count": 47,
     "metadata": {},
     "output_type": "execute_result"
    }
   ],
   "source": [
    "#Let's count how many different financial values are in each column.\n",
    "COK12_locationCodes = pd.value_counts(COK12_df2['location_code'].values,sort=True)\n",
    "COK12_locationCodes.head()"
   ]
  },
  {
   "cell_type": "markdown",
   "metadata": {},
   "source": [
    "### Investigate the top <u>100</u> through <u>200</u> top location_code!?!\n",
    "### Investigate why <u>0</u> is of the top 5 used location_code!?!"
   ]
  },
  {
   "cell_type": "code",
   "execution_count": 31,
   "metadata": {},
   "outputs": [
    {
     "data": {
      "text/plain": [
       "182    2\n",
       "104    2\n",
       "134    2\n",
       "623    2\n",
       "983    1\n",
       "dtype: int64"
      ]
     },
     "execution_count": 31,
     "metadata": {},
     "output_type": "execute_result"
    }
   ],
   "source": [
    "COK12_locationCodes.tail()"
   ]
  },
  {
   "cell_type": "code",
   "execution_count": 48,
   "metadata": {},
   "outputs": [
    {
     "data": {
      "text/plain": [
       "0     268470\n",
       "60      3035\n",
       "95      2775\n",
       "21       704\n",
       "22       580\n",
       "dtype: int64"
      ]
     },
     "execution_count": 48,
     "metadata": {},
     "output_type": "execute_result"
    }
   ],
   "source": [
    "#Let's count how many different financial values are in each column.\n",
    "COK12_sreCodes = pd.value_counts(COK12_df2['sre_code'].values,sort=True)\n",
    "COK12_sreCodes.head()"
   ]
  },
  {
   "cell_type": "markdown",
   "metadata": {},
   "source": [
    "### Investigate why <u>0</u> is the largest used sre_code!?!"
   ]
  },
  {
   "cell_type": "code",
   "execution_count": 33,
   "metadata": {},
   "outputs": [
    {
     "data": {
      "text/plain": [
       "75    3\n",
       "42    2\n",
       "7     1\n",
       "1     1\n",
       "29    1\n",
       "dtype: int64"
      ]
     },
     "execution_count": 33,
     "metadata": {},
     "output_type": "execute_result"
    }
   ],
   "source": [
    "COK12_sreCodes.tail()"
   ]
  },
  {
   "cell_type": "code",
   "execution_count": 49,
   "metadata": {},
   "outputs": [
    {
     "data": {
      "text/plain": [
       "0       39439\n",
       "2400    21585\n",
       "10      19640\n",
       "2200    18478\n",
       "2100    17312\n",
       "dtype: int64"
      ]
     },
     "execution_count": 49,
     "metadata": {},
     "output_type": "execute_result"
    }
   ],
   "source": [
    "#Let's count how many different financial values are in each column.\n",
    "COK12_programCodes = pd.value_counts(COK12_df2['program_code'].values,sort=True)\n",
    "COK12_programCodes.head()"
   ]
  },
  {
   "cell_type": "markdown",
   "metadata": {},
   "source": [
    "### Investigate why <u>0</u> is the largest used program_code!?!"
   ]
  },
  {
   "cell_type": "code",
   "execution_count": 35,
   "metadata": {},
   "outputs": [
    {
     "data": {
      "text/plain": [
       "1969    1\n",
       "1771    1\n",
       "1972    1\n",
       "2122    1\n",
       "2161    1\n",
       "dtype: int64"
      ]
     },
     "execution_count": 35,
     "metadata": {},
     "output_type": "execute_result"
    }
   ],
   "source": [
    "COK12_programCodes.tail()"
   ]
  },
  {
   "cell_type": "code",
   "execution_count": 51,
   "metadata": {},
   "outputs": [
    {
     "data": {
      "text/plain": [
       "100    50875\n",
       "200    50215\n",
       "600    33490\n",
       "500    11008\n",
       "580    10824\n",
       "dtype: int64"
      ]
     },
     "execution_count": 51,
     "metadata": {},
     "output_type": "execute_result"
    }
   ],
   "source": [
    "COK12_objectSourceCodes = pd.value_counts(COK12_df2['object_source_code'].values,sort=True)\n",
    "COK12_objectSourceCodes.head()"
   ]
  },
  {
   "cell_type": "markdown",
   "metadata": {},
   "source": [
    "### Investigate the maximum <u>100</u> through <u>580</u> top object_source_code!?!"
   ]
  },
  {
   "cell_type": "code",
   "execution_count": 37,
   "metadata": {},
   "outputs": [
    {
     "data": {
      "text/plain": [
       "3240    1\n",
       "1810    1\n",
       "7441    1\n",
       "618     1\n",
       "0       1\n",
       "dtype: int64"
      ]
     },
     "execution_count": 37,
     "metadata": {},
     "output_type": "execute_result"
    }
   ],
   "source": [
    "COK12_objectSourceCodes.tail()"
   ]
  },
  {
   "cell_type": "code",
   "execution_count": 52,
   "metadata": {},
   "outputs": [
    {
     "data": {
      "text/plain": [
       "0      172392\n",
       "200     52661\n",
       "400     21075\n",
       "600      7722\n",
       "500      7504\n",
       "dtype: int64"
      ]
     },
     "execution_count": 52,
     "metadata": {},
     "output_type": "execute_result"
    }
   ],
   "source": [
    "COK12_jobClassCodes = pd.value_counts(COK12_df2['job_class_code'].values,sort=True)\n",
    "COK12_jobClassCodes.head()"
   ]
  },
  {
   "cell_type": "markdown",
   "metadata": {},
   "source": [
    "### Investigate why <u>0</u> is the largest used job_class_code!?!"
   ]
  },
  {
   "cell_type": "code",
   "execution_count": 39,
   "metadata": {},
   "outputs": [
    {
     "data": {
      "text/plain": [
       "630    3\n",
       "634    3\n",
       "601    2\n",
       "401    2\n",
       "417    2\n",
       "dtype: int64"
      ]
     },
     "execution_count": 39,
     "metadata": {},
     "output_type": "execute_result"
    }
   ],
   "source": [
    "COK12_jobClassCodes.tail()"
   ]
  },
  {
   "cell_type": "code",
   "execution_count": 53,
   "metadata": {},
   "outputs": [
    {
     "data": {
      "text/plain": [
       "0       197260\n",
       "3130     11884\n",
       "4010      9629\n",
       "1         8084\n",
       "3120      4242\n",
       "dtype: int64"
      ]
     },
     "execution_count": 53,
     "metadata": {},
     "output_type": "execute_result"
    }
   ],
   "source": [
    "COK12_grantCodes = pd.value_counts(COK12_df2['grant_code'].values,sort=True)\n",
    "COK12_grantCodes.head()"
   ]
  },
  {
   "cell_type": "markdown",
   "metadata": {},
   "source": [
    "### Investigate why <u>0</u> is the largest used grant_code!?!"
   ]
  },
  {
   "cell_type": "code",
   "execution_count": 41,
   "metadata": {},
   "outputs": [
    {
     "data": {
      "text/plain": [
       "3162    1\n",
       "7389    1\n",
       "9005    1\n",
       "1787    1\n",
       "9036    1\n",
       "dtype: int64"
      ]
     },
     "execution_count": 41,
     "metadata": {},
     "output_type": "execute_result"
    }
   ],
   "source": [
    "COK12_grantCodes.tail()"
   ]
  },
  {
   "cell_type": "code",
   "execution_count": 54,
   "metadata": {},
   "outputs": [
    {
     "data": {
      "text/html": [
       "<div>\n",
       "<style scoped>\n",
       "    .dataframe tbody tr th:only-of-type {\n",
       "        vertical-align: middle;\n",
       "    }\n",
       "\n",
       "    .dataframe tbody tr th {\n",
       "        vertical-align: top;\n",
       "    }\n",
       "\n",
       "    .dataframe thead th {\n",
       "        text-align: right;\n",
       "    }\n",
       "</style>\n",
       "<table border=\"1\" class=\"dataframe\">\n",
       "  <thead>\n",
       "    <tr style=\"text-align: right;\">\n",
       "      <th></th>\n",
       "      <th>district_code</th>\n",
       "      <th>admin_unit</th>\n",
       "      <th>school_code</th>\n",
       "      <th>fund_code</th>\n",
       "      <th>location_code</th>\n",
       "      <th>sre_code</th>\n",
       "      <th>program_code</th>\n",
       "      <th>object_source_code</th>\n",
       "      <th>job_class_code</th>\n",
       "      <th>grant_code</th>\n",
       "      <th>amount_cents</th>\n",
       "    </tr>\n",
       "  </thead>\n",
       "  <tbody>\n",
       "    <tr>\n",
       "      <th>0</th>\n",
       "      <td>3080</td>\n",
       "      <td>64203</td>\n",
       "      <td>0</td>\n",
       "      <td>10</td>\n",
       "      <td>600</td>\n",
       "      <td>0</td>\n",
       "      <td>20</td>\n",
       "      <td>100</td>\n",
       "      <td>200</td>\n",
       "      <td>0</td>\n",
       "      <td>71250</td>\n",
       "    </tr>\n",
       "    <tr>\n",
       "      <th>1</th>\n",
       "      <td>3080</td>\n",
       "      <td>64203</td>\n",
       "      <td>0</td>\n",
       "      <td>10</td>\n",
       "      <td>600</td>\n",
       "      <td>0</td>\n",
       "      <td>10</td>\n",
       "      <td>100</td>\n",
       "      <td>200</td>\n",
       "      <td>4010</td>\n",
       "      <td>13841274</td>\n",
       "    </tr>\n",
       "    <tr>\n",
       "      <th>2</th>\n",
       "      <td>3080</td>\n",
       "      <td>64203</td>\n",
       "      <td>0</td>\n",
       "      <td>10</td>\n",
       "      <td>700</td>\n",
       "      <td>0</td>\n",
       "      <td>2700</td>\n",
       "      <td>100</td>\n",
       "      <td>100</td>\n",
       "      <td>0</td>\n",
       "      <td>12171639</td>\n",
       "    </tr>\n",
       "    <tr>\n",
       "      <th>3</th>\n",
       "      <td>3080</td>\n",
       "      <td>64203</td>\n",
       "      <td>0</td>\n",
       "      <td>21</td>\n",
       "      <td>700</td>\n",
       "      <td>0</td>\n",
       "      <td>3100</td>\n",
       "      <td>100</td>\n",
       "      <td>100</td>\n",
       "      <td>0</td>\n",
       "      <td>4079700</td>\n",
       "    </tr>\n",
       "    <tr>\n",
       "      <th>4</th>\n",
       "      <td>3080</td>\n",
       "      <td>64203</td>\n",
       "      <td>4854</td>\n",
       "      <td>10</td>\n",
       "      <td>200</td>\n",
       "      <td>0</td>\n",
       "      <td>1700</td>\n",
       "      <td>100</td>\n",
       "      <td>400</td>\n",
       "      <td>3130</td>\n",
       "      <td>8660925</td>\n",
       "    </tr>\n",
       "    <tr>\n",
       "      <th>...</th>\n",
       "      <td>...</td>\n",
       "      <td>...</td>\n",
       "      <td>...</td>\n",
       "      <td>...</td>\n",
       "      <td>...</td>\n",
       "      <td>...</td>\n",
       "      <td>...</td>\n",
       "      <td>...</td>\n",
       "      <td>...</td>\n",
       "      <td>...</td>\n",
       "      <td>...</td>\n",
       "    </tr>\n",
       "    <tr>\n",
       "      <th>156473</th>\n",
       "      <td>3148</td>\n",
       "      <td>64203</td>\n",
       "      <td>6812</td>\n",
       "      <td>10</td>\n",
       "      <td>800</td>\n",
       "      <td>0</td>\n",
       "      <td>2850</td>\n",
       "      <td>525</td>\n",
       "      <td>0</td>\n",
       "      <td>0</td>\n",
       "      <td>206878</td>\n",
       "    </tr>\n",
       "    <tr>\n",
       "      <th>156518</th>\n",
       "      <td>3148</td>\n",
       "      <td>64203</td>\n",
       "      <td>6812</td>\n",
       "      <td>21</td>\n",
       "      <td>700</td>\n",
       "      <td>0</td>\n",
       "      <td>3100</td>\n",
       "      <td>631</td>\n",
       "      <td>0</td>\n",
       "      <td>0</td>\n",
       "      <td>264425</td>\n",
       "    </tr>\n",
       "    <tr>\n",
       "      <th>156521</th>\n",
       "      <td>3148</td>\n",
       "      <td>64203</td>\n",
       "      <td>6812</td>\n",
       "      <td>21</td>\n",
       "      <td>700</td>\n",
       "      <td>0</td>\n",
       "      <td>3100</td>\n",
       "      <td>634</td>\n",
       "      <td>0</td>\n",
       "      <td>0</td>\n",
       "      <td>629105</td>\n",
       "    </tr>\n",
       "    <tr>\n",
       "      <th>189855</th>\n",
       "      <td>880</td>\n",
       "      <td>16010</td>\n",
       "      <td>8945</td>\n",
       "      <td>11</td>\n",
       "      <td>966</td>\n",
       "      <td>0</td>\n",
       "      <td>2700</td>\n",
       "      <td>512</td>\n",
       "      <td>0</td>\n",
       "      <td>0</td>\n",
       "      <td>1278176</td>\n",
       "    </tr>\n",
       "    <tr>\n",
       "      <th>229867</th>\n",
       "      <td>1410</td>\n",
       "      <td>64123</td>\n",
       "      <td>6358</td>\n",
       "      <td>19</td>\n",
       "      <td>100</td>\n",
       "      <td>0</td>\n",
       "      <td>40</td>\n",
       "      <td>593</td>\n",
       "      <td>0</td>\n",
       "      <td>3141</td>\n",
       "      <td>62469</td>\n",
       "    </tr>\n",
       "  </tbody>\n",
       "</table>\n",
       "<p>1712 rows × 11 columns</p>\n",
       "</div>"
      ],
      "text/plain": [
       "        district_code  admin_unit  school_code  fund_code  location_code  \\\n",
       "0                3080       64203            0         10            600   \n",
       "1                3080       64203            0         10            600   \n",
       "2                3080       64203            0         10            700   \n",
       "3                3080       64203            0         21            700   \n",
       "4                3080       64203         4854         10            200   \n",
       "...               ...         ...          ...        ...            ...   \n",
       "156473           3148       64203         6812         10            800   \n",
       "156518           3148       64203         6812         21            700   \n",
       "156521           3148       64203         6812         21            700   \n",
       "189855            880       16010         8945         11            966   \n",
       "229867           1410       64123         6358         19            100   \n",
       "\n",
       "        sre_code  program_code  object_source_code  job_class_code  \\\n",
       "0              0            20                 100             200   \n",
       "1              0            10                 100             200   \n",
       "2              0          2700                 100             100   \n",
       "3              0          3100                 100             100   \n",
       "4              0          1700                 100             400   \n",
       "...          ...           ...                 ...             ...   \n",
       "156473         0          2850                 525               0   \n",
       "156518         0          3100                 631               0   \n",
       "156521         0          3100                 634               0   \n",
       "189855         0          2700                 512               0   \n",
       "229867         0            40                 593               0   \n",
       "\n",
       "        grant_code  amount_cents  \n",
       "0                0         71250  \n",
       "1             4010      13841274  \n",
       "2                0      12171639  \n",
       "3                0       4079700  \n",
       "4             3130       8660925  \n",
       "...            ...           ...  \n",
       "156473           0        206878  \n",
       "156518           0        264425  \n",
       "156521           0        629105  \n",
       "189855           0       1278176  \n",
       "229867        3141         62469  \n",
       "\n",
       "[1712 rows x 11 columns]"
      ]
     },
     "execution_count": 54,
     "metadata": {},
     "output_type": "execute_result"
    }
   ],
   "source": [
    "# Let's groupBy object_source_code codes.\n",
    "COK12_groupByOSC = COK12_df2.groupby('object_source_code')\n",
    "COK12_groupByOSC.head()"
   ]
  },
  {
   "cell_type": "markdown",
   "metadata": {},
   "source": [
    "### Investigate the <u>specific</u> object source codes!"
   ]
  },
  {
   "cell_type": "code",
   "execution_count": 55,
   "metadata": {},
   "outputs": [
    {
     "data": {
      "text/html": [
       "<div>\n",
       "<style scoped>\n",
       "    .dataframe tbody tr th:only-of-type {\n",
       "        vertical-align: middle;\n",
       "    }\n",
       "\n",
       "    .dataframe tbody tr th {\n",
       "        vertical-align: top;\n",
       "    }\n",
       "\n",
       "    .dataframe thead th {\n",
       "        text-align: right;\n",
       "    }\n",
       "</style>\n",
       "<table border=\"1\" class=\"dataframe\">\n",
       "  <thead>\n",
       "    <tr style=\"text-align: right;\">\n",
       "      <th></th>\n",
       "      <th></th>\n",
       "      <th></th>\n",
       "      <th>district_code</th>\n",
       "      <th>admin_unit</th>\n",
       "      <th>school_code</th>\n",
       "      <th>sre_code</th>\n",
       "      <th>object_source_code</th>\n",
       "      <th>job_class_code</th>\n",
       "      <th>grant_code</th>\n",
       "      <th>amount_cents</th>\n",
       "    </tr>\n",
       "    <tr>\n",
       "      <th>fund_code</th>\n",
       "      <th>location_code</th>\n",
       "      <th>program_code</th>\n",
       "      <th></th>\n",
       "      <th></th>\n",
       "      <th></th>\n",
       "      <th></th>\n",
       "      <th></th>\n",
       "      <th></th>\n",
       "      <th></th>\n",
       "      <th></th>\n",
       "    </tr>\n",
       "  </thead>\n",
       "  <tbody>\n",
       "    <tr>\n",
       "      <th rowspan=\"5\" valign=\"top\">6</th>\n",
       "      <th>0</th>\n",
       "      <th>0</th>\n",
       "      <td>3000</td>\n",
       "      <td>59010</td>\n",
       "      <td>0</td>\n",
       "      <td>0</td>\n",
       "      <td>8121</td>\n",
       "      <td>0</td>\n",
       "      <td>0</td>\n",
       "      <td>290050022</td>\n",
       "    </tr>\n",
       "    <tr>\n",
       "      <th rowspan=\"3\" valign=\"top\">600</th>\n",
       "      <th>2200</th>\n",
       "      <td>3000</td>\n",
       "      <td>59010</td>\n",
       "      <td>0</td>\n",
       "      <td>0</td>\n",
       "      <td>730</td>\n",
       "      <td>0</td>\n",
       "      <td>0</td>\n",
       "      <td>18494795</td>\n",
       "    </tr>\n",
       "    <tr>\n",
       "      <th>2300</th>\n",
       "      <td>3000</td>\n",
       "      <td>59010</td>\n",
       "      <td>0</td>\n",
       "      <td>0</td>\n",
       "      <td>300</td>\n",
       "      <td>0</td>\n",
       "      <td>0</td>\n",
       "      <td>463561</td>\n",
       "    </tr>\n",
       "    <tr>\n",
       "      <th>2800</th>\n",
       "      <td>3000</td>\n",
       "      <td>59010</td>\n",
       "      <td>0</td>\n",
       "      <td>0</td>\n",
       "      <td>500</td>\n",
       "      <td>0</td>\n",
       "      <td>0</td>\n",
       "      <td>16749358</td>\n",
       "    </tr>\n",
       "    <tr>\n",
       "      <th>700</th>\n",
       "      <th>2600</th>\n",
       "      <td>3000</td>\n",
       "      <td>59010</td>\n",
       "      <td>0</td>\n",
       "      <td>0</td>\n",
       "      <td>400</td>\n",
       "      <td>0</td>\n",
       "      <td>0</td>\n",
       "      <td>4800000</td>\n",
       "    </tr>\n",
       "    <tr>\n",
       "      <th>...</th>\n",
       "      <th>...</th>\n",
       "      <th>...</th>\n",
       "      <td>...</td>\n",
       "      <td>...</td>\n",
       "      <td>...</td>\n",
       "      <td>...</td>\n",
       "      <td>...</td>\n",
       "      <td>...</td>\n",
       "      <td>...</td>\n",
       "      <td>...</td>\n",
       "    </tr>\n",
       "    <tr>\n",
       "      <th rowspan=\"2\" valign=\"top\">85</th>\n",
       "      <th rowspan=\"2\" valign=\"top\">971</th>\n",
       "      <th>0</th>\n",
       "      <td>880</td>\n",
       "      <td>16010</td>\n",
       "      <td>0</td>\n",
       "      <td>0</td>\n",
       "      <td>8242</td>\n",
       "      <td>0</td>\n",
       "      <td>0</td>\n",
       "      <td>1271687000</td>\n",
       "    </tr>\n",
       "    <tr>\n",
       "      <th>3300</th>\n",
       "      <td>880</td>\n",
       "      <td>16010</td>\n",
       "      <td>0</td>\n",
       "      <td>0</td>\n",
       "      <td>800</td>\n",
       "      <td>0</td>\n",
       "      <td>0</td>\n",
       "      <td>797166000</td>\n",
       "    </tr>\n",
       "    <tr>\n",
       "      <th rowspan=\"3\" valign=\"top\">90</th>\n",
       "      <th>0</th>\n",
       "      <th>0</th>\n",
       "      <td>3230</td>\n",
       "      <td>64233</td>\n",
       "      <td>9360</td>\n",
       "      <td>0</td>\n",
       "      <td>7519</td>\n",
       "      <td>0</td>\n",
       "      <td>0</td>\n",
       "      <td>57318500000</td>\n",
       "    </tr>\n",
       "    <tr>\n",
       "      <th>600</th>\n",
       "      <th>0</th>\n",
       "      <td>123</td>\n",
       "      <td>3020</td>\n",
       "      <td>0</td>\n",
       "      <td>0</td>\n",
       "      <td>7515</td>\n",
       "      <td>0</td>\n",
       "      <td>0</td>\n",
       "      <td>2193697300</td>\n",
       "    </tr>\n",
       "    <tr>\n",
       "      <th>800</th>\n",
       "      <th>0</th>\n",
       "      <td>3140</td>\n",
       "      <td>64193</td>\n",
       "      <td>0</td>\n",
       "      <td>0</td>\n",
       "      <td>7515</td>\n",
       "      <td>0</td>\n",
       "      <td>0</td>\n",
       "      <td>178359000000</td>\n",
       "    </tr>\n",
       "  </tbody>\n",
       "</table>\n",
       "<p>6153 rows × 8 columns</p>\n",
       "</div>"
      ],
      "text/plain": [
       "                                      district_code  admin_unit  school_code  \\\n",
       "fund_code location_code program_code                                           \n",
       "6         0             0                      3000       59010            0   \n",
       "          600           2200                   3000       59010            0   \n",
       "                        2300                   3000       59010            0   \n",
       "                        2800                   3000       59010            0   \n",
       "          700           2600                   3000       59010            0   \n",
       "...                                             ...         ...          ...   \n",
       "85        971           0                       880       16010            0   \n",
       "                        3300                    880       16010            0   \n",
       "90        0             0                      3230       64233         9360   \n",
       "          600           0                       123        3020            0   \n",
       "          800           0                      3140       64193            0   \n",
       "\n",
       "                                      sre_code  object_source_code  \\\n",
       "fund_code location_code program_code                                 \n",
       "6         0             0                    0                8121   \n",
       "          600           2200                 0                 730   \n",
       "                        2300                 0                 300   \n",
       "                        2800                 0                 500   \n",
       "          700           2600                 0                 400   \n",
       "...                                        ...                 ...   \n",
       "85        971           0                    0                8242   \n",
       "                        3300                 0                 800   \n",
       "90        0             0                    0                7519   \n",
       "          600           0                    0                7515   \n",
       "          800           0                    0                7515   \n",
       "\n",
       "                                      job_class_code  grant_code  amount_cents  \n",
       "fund_code location_code program_code                                            \n",
       "6         0             0                          0           0     290050022  \n",
       "          600           2200                       0           0      18494795  \n",
       "                        2300                       0           0        463561  \n",
       "                        2800                       0           0      16749358  \n",
       "          700           2600                       0           0       4800000  \n",
       "...                                              ...         ...           ...  \n",
       "85        971           0                          0           0    1271687000  \n",
       "                        3300                       0           0     797166000  \n",
       "90        0             0                          0           0   57318500000  \n",
       "          600           0                          0           0    2193697300  \n",
       "          800           0                          0           0  178359000000  \n",
       "\n",
       "[6153 rows x 8 columns]"
      ]
     },
     "execution_count": 55,
     "metadata": {},
     "output_type": "execute_result"
    }
   ],
   "source": [
    "groupFLP = COK12_df2.groupby(['fund_code', 'location_code', 'program_code'])\n",
    "groupFLP.max()"
   ]
  },
  {
   "cell_type": "markdown",
   "metadata": {},
   "source": [
    "### Investigate <u>fund codes</u>, <u>location codes</u>, and <u>program codes</u>!!"
   ]
  },
  {
   "cell_type": "code",
   "execution_count": null,
   "metadata": {},
   "outputs": [],
   "source": [
    "# To Do:\n",
    "# Research code to add decimal to amount_cents into dollar type or dollar value.\n",
    "# Research more on how best to aggregate and group relevent data.\n",
    "# Begin adding visualizations based on the relevant financial data to present.\n",
    "# Begin first phases of KNN and DBSCAN"
   ]
  },
  {
   "cell_type": "code",
   "execution_count": null,
   "metadata": {},
   "outputs": [],
   "source": [
    "# Stopped code here"
   ]
  },
  {
   "cell_type": "code",
   "execution_count": null,
   "metadata": {},
   "outputs": [],
   "source": []
  },
  {
   "cell_type": "markdown",
   "metadata": {},
   "source": [
    "Poor attempt at paandas profile report...."
   ]
  },
  {
   "cell_type": "code",
   "execution_count": 13,
   "metadata": {},
   "outputs": [
    {
     "ename": "TypeError",
     "evalue": "_plot_histogram() got an unexpected keyword argument 'title'",
     "output_type": "error",
     "traceback": [
      "\u001b[1;31m---------------------------------------------------------------------------\u001b[0m",
      "\u001b[1;31mRemoteTraceback\u001b[0m                           Traceback (most recent call last)",
      "\u001b[1;31mRemoteTraceback\u001b[0m: \n\"\"\"\nTraceback (most recent call last):\n  File \"C:\\ProgramData\\Anaconda3\\lib\\multiprocessing\\pool.py\", line 121, in worker\n    result = (True, func(*args, **kwds))\n  File \"C:\\ProgramData\\Anaconda3\\lib\\multiprocessing\\pool.py\", line 44, in mapstar\n    return list(map(*args))\n  File \"C:\\ProgramData\\Anaconda3\\lib\\site-packages\\pandas_profiling\\describe.py\", line 282, in multiprocess_func\n    return x[0], describe_1d(x[1], **kwargs)\n  File \"C:\\ProgramData\\Anaconda3\\lib\\site-packages\\pandas_profiling\\describe.py\", line 270, in describe_1d\n    result = result.append(describe_numeric_1d(data, **kwargs))\n  File \"C:\\ProgramData\\Anaconda3\\lib\\site-packages\\pandas_profiling\\describe.py\", line 54, in describe_numeric_1d\n    stats['histogram'] = histogram(series, **kwargs)\n  File \"C:\\ProgramData\\Anaconda3\\lib\\site-packages\\pandas_profiling\\plot.py\", line 73, in histogram\n    plot = _plot_histogram(series, **kwargs)\nTypeError: _plot_histogram() got an unexpected keyword argument 'title'\n\"\"\"",
      "\nThe above exception was the direct cause of the following exception:\n",
      "\u001b[1;31mTypeError\u001b[0m                                 Traceback (most recent call last)",
      "\u001b[1;32m<ipython-input-13-b6fce0046184>\u001b[0m in \u001b[0;36m<module>\u001b[1;34m\u001b[0m\n\u001b[0;32m      1\u001b[0m \u001b[1;31m# Generate pandas profile report\u001b[0m\u001b[1;33m\u001b[0m\u001b[1;33m\u001b[0m\u001b[1;33m\u001b[0m\u001b[0m\n\u001b[1;32m----> 2\u001b[1;33m \u001b[0mCOK12_profile\u001b[0m \u001b[1;33m=\u001b[0m \u001b[0mProfileReport\u001b[0m\u001b[1;33m(\u001b[0m\u001b[0mCOK12_df\u001b[0m\u001b[1;33m,\u001b[0m \u001b[0mtitle\u001b[0m\u001b[1;33m=\u001b[0m\u001b[1;34m'Pandas CO K12 Profiling Report'\u001b[0m\u001b[1;33m,\u001b[0m \u001b[0mhtml\u001b[0m\u001b[1;33m=\u001b[0m\u001b[1;33m{\u001b[0m\u001b[1;34m'style'\u001b[0m\u001b[1;33m:\u001b[0m\u001b[1;33m{\u001b[0m\u001b[1;34m'full_width'\u001b[0m\u001b[1;33m:\u001b[0m\u001b[1;32mTrue\u001b[0m\u001b[1;33m}\u001b[0m\u001b[1;33m}\u001b[0m\u001b[1;33m)\u001b[0m\u001b[1;33m\u001b[0m\u001b[1;33m\u001b[0m\u001b[0m\n\u001b[0m",
      "\u001b[1;32mC:\\ProgramData\\Anaconda3\\lib\\site-packages\\pandas_profiling\\__init__.py\u001b[0m in \u001b[0;36m__init__\u001b[1;34m(self, df, **kwargs)\u001b[0m\n\u001b[0;32m     64\u001b[0m         \u001b[0msample\u001b[0m \u001b[1;33m=\u001b[0m \u001b[0mkwargs\u001b[0m\u001b[1;33m.\u001b[0m\u001b[0mget\u001b[0m\u001b[1;33m(\u001b[0m\u001b[1;34m'sample'\u001b[0m\u001b[1;33m,\u001b[0m \u001b[0mdf\u001b[0m\u001b[1;33m.\u001b[0m\u001b[0mhead\u001b[0m\u001b[1;33m(\u001b[0m\u001b[1;33m)\u001b[0m\u001b[1;33m)\u001b[0m\u001b[1;33m\u001b[0m\u001b[1;33m\u001b[0m\u001b[0m\n\u001b[0;32m     65\u001b[0m \u001b[1;33m\u001b[0m\u001b[0m\n\u001b[1;32m---> 66\u001b[1;33m         \u001b[0mdescription_set\u001b[0m \u001b[1;33m=\u001b[0m \u001b[0mdescribe\u001b[0m\u001b[1;33m(\u001b[0m\u001b[0mdf\u001b[0m\u001b[1;33m,\u001b[0m \u001b[1;33m**\u001b[0m\u001b[0mkwargs\u001b[0m\u001b[1;33m)\u001b[0m\u001b[1;33m\u001b[0m\u001b[1;33m\u001b[0m\u001b[0m\n\u001b[0m\u001b[0;32m     67\u001b[0m \u001b[1;33m\u001b[0m\u001b[0m\n\u001b[0;32m     68\u001b[0m         self.html = to_html(sample,\n",
      "\u001b[1;32mC:\\ProgramData\\Anaconda3\\lib\\site-packages\\pandas_profiling\\describe.py\u001b[0m in \u001b[0;36mdescribe\u001b[1;34m(df, bins, check_correlation, correlation_threshold, correlation_overrides, check_recoded, pool_size, **kwargs)\u001b[0m\n\u001b[0;32m    349\u001b[0m     \u001b[0mpool\u001b[0m \u001b[1;33m=\u001b[0m \u001b[0mmultiprocessing\u001b[0m\u001b[1;33m.\u001b[0m\u001b[0mPool\u001b[0m\u001b[1;33m(\u001b[0m\u001b[0mpool_size\u001b[0m\u001b[1;33m)\u001b[0m\u001b[1;33m\u001b[0m\u001b[1;33m\u001b[0m\u001b[0m\n\u001b[0;32m    350\u001b[0m     \u001b[0mlocal_multiprocess_func\u001b[0m \u001b[1;33m=\u001b[0m \u001b[0mpartial\u001b[0m\u001b[1;33m(\u001b[0m\u001b[0mmultiprocess_func\u001b[0m\u001b[1;33m,\u001b[0m \u001b[1;33m**\u001b[0m\u001b[0mkwargs\u001b[0m\u001b[1;33m)\u001b[0m\u001b[1;33m\u001b[0m\u001b[1;33m\u001b[0m\u001b[0m\n\u001b[1;32m--> 351\u001b[1;33m     \u001b[0mldesc\u001b[0m \u001b[1;33m=\u001b[0m \u001b[1;33m{\u001b[0m\u001b[0mcol\u001b[0m\u001b[1;33m:\u001b[0m \u001b[0ms\u001b[0m \u001b[1;32mfor\u001b[0m \u001b[0mcol\u001b[0m\u001b[1;33m,\u001b[0m \u001b[0ms\u001b[0m \u001b[1;32min\u001b[0m \u001b[0mpool\u001b[0m\u001b[1;33m.\u001b[0m\u001b[0mmap\u001b[0m\u001b[1;33m(\u001b[0m\u001b[0mlocal_multiprocess_func\u001b[0m\u001b[1;33m,\u001b[0m \u001b[0mdf\u001b[0m\u001b[1;33m.\u001b[0m\u001b[0miteritems\u001b[0m\u001b[1;33m(\u001b[0m\u001b[1;33m)\u001b[0m\u001b[1;33m)\u001b[0m\u001b[1;33m}\u001b[0m\u001b[1;33m\u001b[0m\u001b[1;33m\u001b[0m\u001b[0m\n\u001b[0m\u001b[0;32m    352\u001b[0m     \u001b[0mpool\u001b[0m\u001b[1;33m.\u001b[0m\u001b[0mclose\u001b[0m\u001b[1;33m(\u001b[0m\u001b[1;33m)\u001b[0m\u001b[1;33m\u001b[0m\u001b[1;33m\u001b[0m\u001b[0m\n\u001b[0;32m    353\u001b[0m \u001b[1;33m\u001b[0m\u001b[0m\n",
      "\u001b[1;32mC:\\ProgramData\\Anaconda3\\lib\\multiprocessing\\pool.py\u001b[0m in \u001b[0;36mmap\u001b[1;34m(self, func, iterable, chunksize)\u001b[0m\n\u001b[0;32m    266\u001b[0m         \u001b[1;32min\u001b[0m \u001b[0ma\u001b[0m \u001b[0mlist\u001b[0m \u001b[0mthat\u001b[0m \u001b[1;32mis\u001b[0m \u001b[0mreturned\u001b[0m\u001b[1;33m.\u001b[0m\u001b[1;33m\u001b[0m\u001b[1;33m\u001b[0m\u001b[0m\n\u001b[0;32m    267\u001b[0m         '''\n\u001b[1;32m--> 268\u001b[1;33m         \u001b[1;32mreturn\u001b[0m \u001b[0mself\u001b[0m\u001b[1;33m.\u001b[0m\u001b[0m_map_async\u001b[0m\u001b[1;33m(\u001b[0m\u001b[0mfunc\u001b[0m\u001b[1;33m,\u001b[0m \u001b[0miterable\u001b[0m\u001b[1;33m,\u001b[0m \u001b[0mmapstar\u001b[0m\u001b[1;33m,\u001b[0m \u001b[0mchunksize\u001b[0m\u001b[1;33m)\u001b[0m\u001b[1;33m.\u001b[0m\u001b[0mget\u001b[0m\u001b[1;33m(\u001b[0m\u001b[1;33m)\u001b[0m\u001b[1;33m\u001b[0m\u001b[1;33m\u001b[0m\u001b[0m\n\u001b[0m\u001b[0;32m    269\u001b[0m \u001b[1;33m\u001b[0m\u001b[0m\n\u001b[0;32m    270\u001b[0m     \u001b[1;32mdef\u001b[0m \u001b[0mstarmap\u001b[0m\u001b[1;33m(\u001b[0m\u001b[0mself\u001b[0m\u001b[1;33m,\u001b[0m \u001b[0mfunc\u001b[0m\u001b[1;33m,\u001b[0m \u001b[0miterable\u001b[0m\u001b[1;33m,\u001b[0m \u001b[0mchunksize\u001b[0m\u001b[1;33m=\u001b[0m\u001b[1;32mNone\u001b[0m\u001b[1;33m)\u001b[0m\u001b[1;33m:\u001b[0m\u001b[1;33m\u001b[0m\u001b[1;33m\u001b[0m\u001b[0m\n",
      "\u001b[1;32mC:\\ProgramData\\Anaconda3\\lib\\multiprocessing\\pool.py\u001b[0m in \u001b[0;36mget\u001b[1;34m(self, timeout)\u001b[0m\n\u001b[0;32m    655\u001b[0m             \u001b[1;32mreturn\u001b[0m \u001b[0mself\u001b[0m\u001b[1;33m.\u001b[0m\u001b[0m_value\u001b[0m\u001b[1;33m\u001b[0m\u001b[1;33m\u001b[0m\u001b[0m\n\u001b[0;32m    656\u001b[0m         \u001b[1;32melse\u001b[0m\u001b[1;33m:\u001b[0m\u001b[1;33m\u001b[0m\u001b[1;33m\u001b[0m\u001b[0m\n\u001b[1;32m--> 657\u001b[1;33m             \u001b[1;32mraise\u001b[0m \u001b[0mself\u001b[0m\u001b[1;33m.\u001b[0m\u001b[0m_value\u001b[0m\u001b[1;33m\u001b[0m\u001b[1;33m\u001b[0m\u001b[0m\n\u001b[0m\u001b[0;32m    658\u001b[0m \u001b[1;33m\u001b[0m\u001b[0m\n\u001b[0;32m    659\u001b[0m     \u001b[1;32mdef\u001b[0m \u001b[0m_set\u001b[0m\u001b[1;33m(\u001b[0m\u001b[0mself\u001b[0m\u001b[1;33m,\u001b[0m \u001b[0mi\u001b[0m\u001b[1;33m,\u001b[0m \u001b[0mobj\u001b[0m\u001b[1;33m)\u001b[0m\u001b[1;33m:\u001b[0m\u001b[1;33m\u001b[0m\u001b[1;33m\u001b[0m\u001b[0m\n",
      "\u001b[1;31mTypeError\u001b[0m: _plot_histogram() got an unexpected keyword argument 'title'"
     ]
    }
   ],
   "source": [
    "# Generate pandas profile report\n",
    "COK12_profile = ProfileReport(COK12_df, title='Pandas CO K12 Profiling Report', html={'style':{'full_width':True}})"
   ]
  },
  {
   "cell_type": "code",
   "execution_count": 11,
   "metadata": {},
   "outputs": [
    {
     "ename": "NameError",
     "evalue": "name 'name' is not defined",
     "output_type": "error",
     "traceback": [
      "\u001b[1;31m---------------------------------------------------------------------------\u001b[0m",
      "\u001b[1;31mNameError\u001b[0m                                 Traceback (most recent call last)",
      "\u001b[1;32m<ipython-input-11-c2914188f0a9>\u001b[0m in \u001b[0;36m<module>\u001b[1;34m\u001b[0m\n\u001b[1;32m----> 1\u001b[1;33m \u001b[1;32mif\u001b[0m \u001b[0mname\u001b[0m\u001b[1;33m==\u001b[0m\u001b[1;34m\"main\"\u001b[0m\u001b[1;33m:\u001b[0m\u001b[1;33m\u001b[0m\u001b[1;33m\u001b[0m\u001b[0m\n\u001b[0m\u001b[0;32m      2\u001b[0m     \u001b[0mmultiprocessing\u001b[0m\u001b[1;33m.\u001b[0m\u001b[0mfreeze_support\u001b[0m\u001b[1;33m(\u001b[0m\u001b[1;33m)\u001b[0m\u001b[1;33m\u001b[0m\u001b[1;33m\u001b[0m\u001b[0m\n\u001b[0;32m      3\u001b[0m \u001b[0mcreate_pd_profile\u001b[0m\u001b[1;33m(\u001b[0m\u001b[1;33m)\u001b[0m\u001b[1;33m\u001b[0m\u001b[1;33m\u001b[0m\u001b[0m\n",
      "\u001b[1;31mNameError\u001b[0m: name 'name' is not defined"
     ]
    }
   ],
   "source": [
    "if name==\"main\":\n",
    "    multiprocessing.freeze_support()\n",
    "create_pd_profile()"
   ]
  },
  {
   "cell_type": "code",
   "execution_count": null,
   "metadata": {},
   "outputs": [],
   "source": [
    "# Display profile report in Jupyter Notebook widgets\n",
    "COK12_profile.to_widgets()"
   ]
  },
  {
   "cell_type": "code",
   "execution_count": null,
   "metadata": {},
   "outputs": [],
   "source": [
    "# Include html report in Jupyter Noteboook\n",
    "COK12_profile.to_notebook_iframe()"
   ]
  },
  {
   "cell_type": "code",
   "execution_count": null,
   "metadata": {},
   "outputs": [],
   "source": [
    "# Save the profile report out to html\n",
    "COK12_profile.to_file(output_file=\"your_report.html\")"
   ]
  }
 ],
 "metadata": {
  "kernelspec": {
   "display_name": "Python 3",
   "language": "python",
   "name": "python3"
  },
  "language_info": {
   "codemirror_mode": {
    "name": "ipython",
    "version": 3
   },
   "file_extension": ".py",
   "mimetype": "text/x-python",
   "name": "python",
   "nbconvert_exporter": "python",
   "pygments_lexer": "ipython3",
   "version": "3.7.4"
  }
 },
 "nbformat": 4,
 "nbformat_minor": 4
}
